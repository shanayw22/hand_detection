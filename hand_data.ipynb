{
  "nbformat": 4,
  "nbformat_minor": 0,
  "metadata": {
    "colab": {
      "provenance": [],
      "gpuType": "L4"
    },
    "kernelspec": {
      "name": "python3",
      "display_name": "Python 3"
    },
    "language_info": {
      "name": "python"
    },
    "accelerator": "GPU"
  },
  "cells": [
    {
      "cell_type": "code",
      "execution_count": 3,
      "metadata": {
        "colab": {
          "base_uri": "https://localhost:8080/"
        },
        "id": "TY-PmRGtrnhs",
        "outputId": "25d72216-a763-4d91-b230-7423f27bccd7"
      },
      "outputs": [
        {
          "output_type": "stream",
          "name": "stdout",
          "text": [
            "Collecting ultralytics\n",
            "  Downloading ultralytics-8.3.96-py3-none-any.whl.metadata (35 kB)\n",
            "Requirement already satisfied: numpy<=2.1.1,>=1.23.0 in /usr/local/lib/python3.11/dist-packages (from ultralytics) (2.0.2)\n",
            "Requirement already satisfied: matplotlib>=3.3.0 in /usr/local/lib/python3.11/dist-packages (from ultralytics) (3.10.0)\n",
            "Requirement already satisfied: opencv-python>=4.6.0 in /usr/local/lib/python3.11/dist-packages (from ultralytics) (4.11.0.86)\n",
            "Requirement already satisfied: pillow>=7.1.2 in /usr/local/lib/python3.11/dist-packages (from ultralytics) (11.1.0)\n",
            "Requirement already satisfied: pyyaml>=5.3.1 in /usr/local/lib/python3.11/dist-packages (from ultralytics) (6.0.2)\n",
            "Requirement already satisfied: requests>=2.23.0 in /usr/local/lib/python3.11/dist-packages (from ultralytics) (2.32.3)\n",
            "Requirement already satisfied: scipy>=1.4.1 in /usr/local/lib/python3.11/dist-packages (from ultralytics) (1.14.1)\n",
            "Requirement already satisfied: torch>=1.8.0 in /usr/local/lib/python3.11/dist-packages (from ultralytics) (2.6.0+cu124)\n",
            "Requirement already satisfied: torchvision>=0.9.0 in /usr/local/lib/python3.11/dist-packages (from ultralytics) (0.21.0+cu124)\n",
            "Requirement already satisfied: tqdm>=4.64.0 in /usr/local/lib/python3.11/dist-packages (from ultralytics) (4.67.1)\n",
            "Requirement already satisfied: psutil in /usr/local/lib/python3.11/dist-packages (from ultralytics) (5.9.5)\n",
            "Requirement already satisfied: py-cpuinfo in /usr/local/lib/python3.11/dist-packages (from ultralytics) (9.0.0)\n",
            "Requirement already satisfied: pandas>=1.1.4 in /usr/local/lib/python3.11/dist-packages (from ultralytics) (2.2.2)\n",
            "Requirement already satisfied: seaborn>=0.11.0 in /usr/local/lib/python3.11/dist-packages (from ultralytics) (0.13.2)\n",
            "Collecting ultralytics-thop>=2.0.0 (from ultralytics)\n",
            "  Downloading ultralytics_thop-2.0.14-py3-none-any.whl.metadata (9.4 kB)\n",
            "Requirement already satisfied: contourpy>=1.0.1 in /usr/local/lib/python3.11/dist-packages (from matplotlib>=3.3.0->ultralytics) (1.3.1)\n",
            "Requirement already satisfied: cycler>=0.10 in /usr/local/lib/python3.11/dist-packages (from matplotlib>=3.3.0->ultralytics) (0.12.1)\n",
            "Requirement already satisfied: fonttools>=4.22.0 in /usr/local/lib/python3.11/dist-packages (from matplotlib>=3.3.0->ultralytics) (4.56.0)\n",
            "Requirement already satisfied: kiwisolver>=1.3.1 in /usr/local/lib/python3.11/dist-packages (from matplotlib>=3.3.0->ultralytics) (1.4.8)\n",
            "Requirement already satisfied: packaging>=20.0 in /usr/local/lib/python3.11/dist-packages (from matplotlib>=3.3.0->ultralytics) (24.2)\n",
            "Requirement already satisfied: pyparsing>=2.3.1 in /usr/local/lib/python3.11/dist-packages (from matplotlib>=3.3.0->ultralytics) (3.2.1)\n",
            "Requirement already satisfied: python-dateutil>=2.7 in /usr/local/lib/python3.11/dist-packages (from matplotlib>=3.3.0->ultralytics) (2.8.2)\n",
            "Requirement already satisfied: pytz>=2020.1 in /usr/local/lib/python3.11/dist-packages (from pandas>=1.1.4->ultralytics) (2025.1)\n",
            "Requirement already satisfied: tzdata>=2022.7 in /usr/local/lib/python3.11/dist-packages (from pandas>=1.1.4->ultralytics) (2025.1)\n",
            "Requirement already satisfied: charset-normalizer<4,>=2 in /usr/local/lib/python3.11/dist-packages (from requests>=2.23.0->ultralytics) (3.4.1)\n",
            "Requirement already satisfied: idna<4,>=2.5 in /usr/local/lib/python3.11/dist-packages (from requests>=2.23.0->ultralytics) (3.10)\n",
            "Requirement already satisfied: urllib3<3,>=1.21.1 in /usr/local/lib/python3.11/dist-packages (from requests>=2.23.0->ultralytics) (2.3.0)\n",
            "Requirement already satisfied: certifi>=2017.4.17 in /usr/local/lib/python3.11/dist-packages (from requests>=2.23.0->ultralytics) (2025.1.31)\n",
            "Requirement already satisfied: filelock in /usr/local/lib/python3.11/dist-packages (from torch>=1.8.0->ultralytics) (3.18.0)\n",
            "Requirement already satisfied: typing-extensions>=4.10.0 in /usr/local/lib/python3.11/dist-packages (from torch>=1.8.0->ultralytics) (4.12.2)\n",
            "Requirement already satisfied: networkx in /usr/local/lib/python3.11/dist-packages (from torch>=1.8.0->ultralytics) (3.4.2)\n",
            "Requirement already satisfied: jinja2 in /usr/local/lib/python3.11/dist-packages (from torch>=1.8.0->ultralytics) (3.1.6)\n",
            "Requirement already satisfied: fsspec in /usr/local/lib/python3.11/dist-packages (from torch>=1.8.0->ultralytics) (2025.3.0)\n",
            "Collecting nvidia-cuda-nvrtc-cu12==12.4.127 (from torch>=1.8.0->ultralytics)\n",
            "  Downloading nvidia_cuda_nvrtc_cu12-12.4.127-py3-none-manylinux2014_x86_64.whl.metadata (1.5 kB)\n",
            "Collecting nvidia-cuda-runtime-cu12==12.4.127 (from torch>=1.8.0->ultralytics)\n",
            "  Downloading nvidia_cuda_runtime_cu12-12.4.127-py3-none-manylinux2014_x86_64.whl.metadata (1.5 kB)\n",
            "Collecting nvidia-cuda-cupti-cu12==12.4.127 (from torch>=1.8.0->ultralytics)\n",
            "  Downloading nvidia_cuda_cupti_cu12-12.4.127-py3-none-manylinux2014_x86_64.whl.metadata (1.6 kB)\n",
            "Collecting nvidia-cudnn-cu12==9.1.0.70 (from torch>=1.8.0->ultralytics)\n",
            "  Downloading nvidia_cudnn_cu12-9.1.0.70-py3-none-manylinux2014_x86_64.whl.metadata (1.6 kB)\n",
            "Collecting nvidia-cublas-cu12==12.4.5.8 (from torch>=1.8.0->ultralytics)\n",
            "  Downloading nvidia_cublas_cu12-12.4.5.8-py3-none-manylinux2014_x86_64.whl.metadata (1.5 kB)\n",
            "Collecting nvidia-cufft-cu12==11.2.1.3 (from torch>=1.8.0->ultralytics)\n",
            "  Downloading nvidia_cufft_cu12-11.2.1.3-py3-none-manylinux2014_x86_64.whl.metadata (1.5 kB)\n",
            "Collecting nvidia-curand-cu12==10.3.5.147 (from torch>=1.8.0->ultralytics)\n",
            "  Downloading nvidia_curand_cu12-10.3.5.147-py3-none-manylinux2014_x86_64.whl.metadata (1.5 kB)\n",
            "Collecting nvidia-cusolver-cu12==11.6.1.9 (from torch>=1.8.0->ultralytics)\n",
            "  Downloading nvidia_cusolver_cu12-11.6.1.9-py3-none-manylinux2014_x86_64.whl.metadata (1.6 kB)\n",
            "Collecting nvidia-cusparse-cu12==12.3.1.170 (from torch>=1.8.0->ultralytics)\n",
            "  Downloading nvidia_cusparse_cu12-12.3.1.170-py3-none-manylinux2014_x86_64.whl.metadata (1.6 kB)\n",
            "Requirement already satisfied: nvidia-cusparselt-cu12==0.6.2 in /usr/local/lib/python3.11/dist-packages (from torch>=1.8.0->ultralytics) (0.6.2)\n",
            "Requirement already satisfied: nvidia-nccl-cu12==2.21.5 in /usr/local/lib/python3.11/dist-packages (from torch>=1.8.0->ultralytics) (2.21.5)\n",
            "Requirement already satisfied: nvidia-nvtx-cu12==12.4.127 in /usr/local/lib/python3.11/dist-packages (from torch>=1.8.0->ultralytics) (12.4.127)\n",
            "Collecting nvidia-nvjitlink-cu12==12.4.127 (from torch>=1.8.0->ultralytics)\n",
            "  Downloading nvidia_nvjitlink_cu12-12.4.127-py3-none-manylinux2014_x86_64.whl.metadata (1.5 kB)\n",
            "Requirement already satisfied: triton==3.2.0 in /usr/local/lib/python3.11/dist-packages (from torch>=1.8.0->ultralytics) (3.2.0)\n",
            "Requirement already satisfied: sympy==1.13.1 in /usr/local/lib/python3.11/dist-packages (from torch>=1.8.0->ultralytics) (1.13.1)\n",
            "Requirement already satisfied: mpmath<1.4,>=1.1.0 in /usr/local/lib/python3.11/dist-packages (from sympy==1.13.1->torch>=1.8.0->ultralytics) (1.3.0)\n",
            "Requirement already satisfied: six>=1.5 in /usr/local/lib/python3.11/dist-packages (from python-dateutil>=2.7->matplotlib>=3.3.0->ultralytics) (1.17.0)\n",
            "Requirement already satisfied: MarkupSafe>=2.0 in /usr/local/lib/python3.11/dist-packages (from jinja2->torch>=1.8.0->ultralytics) (3.0.2)\n",
            "Downloading ultralytics-8.3.96-py3-none-any.whl (949 kB)\n",
            "\u001b[2K   \u001b[90m━━━━━━━━━━━━━━━━━━━━━━━━━━━━━━━━━━━━━━━━\u001b[0m \u001b[32m949.8/949.8 kB\u001b[0m \u001b[31m61.1 MB/s\u001b[0m eta \u001b[36m0:00:00\u001b[0m\n",
            "\u001b[?25hDownloading nvidia_cublas_cu12-12.4.5.8-py3-none-manylinux2014_x86_64.whl (363.4 MB)\n",
            "\u001b[2K   \u001b[90m━━━━━━━━━━━━━━━━━━━━━━━━━━━━━━━━━━━━━━━━\u001b[0m \u001b[32m363.4/363.4 MB\u001b[0m \u001b[31m2.5 MB/s\u001b[0m eta \u001b[36m0:00:00\u001b[0m\n",
            "\u001b[?25hDownloading nvidia_cuda_cupti_cu12-12.4.127-py3-none-manylinux2014_x86_64.whl (13.8 MB)\n",
            "\u001b[2K   \u001b[90m━━━━━━━━━━━━━━━━━━━━━━━━━━━━━━━━━━━━━━━━\u001b[0m \u001b[32m13.8/13.8 MB\u001b[0m \u001b[31m117.2 MB/s\u001b[0m eta \u001b[36m0:00:00\u001b[0m\n",
            "\u001b[?25hDownloading nvidia_cuda_nvrtc_cu12-12.4.127-py3-none-manylinux2014_x86_64.whl (24.6 MB)\n",
            "\u001b[2K   \u001b[90m━━━━━━━━━━━━━━━━━━━━━━━━━━━━━━━━━━━━━━━━\u001b[0m \u001b[32m24.6/24.6 MB\u001b[0m \u001b[31m86.3 MB/s\u001b[0m eta \u001b[36m0:00:00\u001b[0m\n",
            "\u001b[?25hDownloading nvidia_cuda_runtime_cu12-12.4.127-py3-none-manylinux2014_x86_64.whl (883 kB)\n",
            "\u001b[2K   \u001b[90m━━━━━━━━━━━━━━━━━━━━━━━━━━━━━━━━━━━━━━━━\u001b[0m \u001b[32m883.7/883.7 kB\u001b[0m \u001b[31m56.0 MB/s\u001b[0m eta \u001b[36m0:00:00\u001b[0m\n",
            "\u001b[?25hDownloading nvidia_cudnn_cu12-9.1.0.70-py3-none-manylinux2014_x86_64.whl (664.8 MB)\n",
            "\u001b[2K   \u001b[90m━━━━━━━━━━━━━━━━━━━━━━━━━━━━━━━━━━━━━━━━\u001b[0m \u001b[32m664.8/664.8 MB\u001b[0m \u001b[31m1.5 MB/s\u001b[0m eta \u001b[36m0:00:00\u001b[0m\n",
            "\u001b[?25hDownloading nvidia_cufft_cu12-11.2.1.3-py3-none-manylinux2014_x86_64.whl (211.5 MB)\n",
            "\u001b[2K   \u001b[90m━━━━━━━━━━━━━━━━━━━━━━━━━━━━━━━━━━━━━━━━\u001b[0m \u001b[32m211.5/211.5 MB\u001b[0m \u001b[31m3.2 MB/s\u001b[0m eta \u001b[36m0:00:00\u001b[0m\n",
            "\u001b[?25hDownloading nvidia_curand_cu12-10.3.5.147-py3-none-manylinux2014_x86_64.whl (56.3 MB)\n",
            "\u001b[2K   \u001b[90m━━━━━━━━━━━━━━━━━━━━━━━━━━━━━━━━━━━━━━━━\u001b[0m \u001b[32m56.3/56.3 MB\u001b[0m \u001b[31m35.4 MB/s\u001b[0m eta \u001b[36m0:00:00\u001b[0m\n",
            "\u001b[?25hDownloading nvidia_cusolver_cu12-11.6.1.9-py3-none-manylinux2014_x86_64.whl (127.9 MB)\n",
            "\u001b[2K   \u001b[90m━━━━━━━━━━━━━━━━━━━━━━━━━━━━━━━━━━━━━━━━\u001b[0m \u001b[32m127.9/127.9 MB\u001b[0m \u001b[31m15.6 MB/s\u001b[0m eta \u001b[36m0:00:00\u001b[0m\n",
            "\u001b[?25hDownloading nvidia_cusparse_cu12-12.3.1.170-py3-none-manylinux2014_x86_64.whl (207.5 MB)\n",
            "\u001b[2K   \u001b[90m━━━━━━━━━━━━━━━━━━━━━━━━━━━━━━━━━━━━━━━━\u001b[0m \u001b[32m207.5/207.5 MB\u001b[0m \u001b[31m4.2 MB/s\u001b[0m eta \u001b[36m0:00:00\u001b[0m\n",
            "\u001b[?25hDownloading nvidia_nvjitlink_cu12-12.4.127-py3-none-manylinux2014_x86_64.whl (21.1 MB)\n",
            "\u001b[2K   \u001b[90m━━━━━━━━━━━━━━━━━━━━━━━━━━━━━━━━━━━━━━━━\u001b[0m \u001b[32m21.1/21.1 MB\u001b[0m \u001b[31m99.9 MB/s\u001b[0m eta \u001b[36m0:00:00\u001b[0m\n",
            "\u001b[?25hDownloading ultralytics_thop-2.0.14-py3-none-any.whl (26 kB)\n",
            "Installing collected packages: nvidia-nvjitlink-cu12, nvidia-curand-cu12, nvidia-cufft-cu12, nvidia-cuda-runtime-cu12, nvidia-cuda-nvrtc-cu12, nvidia-cuda-cupti-cu12, nvidia-cublas-cu12, nvidia-cusparse-cu12, nvidia-cudnn-cu12, nvidia-cusolver-cu12, ultralytics-thop, ultralytics\n",
            "  Attempting uninstall: nvidia-nvjitlink-cu12\n",
            "    Found existing installation: nvidia-nvjitlink-cu12 12.5.82\n",
            "    Uninstalling nvidia-nvjitlink-cu12-12.5.82:\n",
            "      Successfully uninstalled nvidia-nvjitlink-cu12-12.5.82\n",
            "  Attempting uninstall: nvidia-curand-cu12\n",
            "    Found existing installation: nvidia-curand-cu12 10.3.6.82\n",
            "    Uninstalling nvidia-curand-cu12-10.3.6.82:\n",
            "      Successfully uninstalled nvidia-curand-cu12-10.3.6.82\n",
            "  Attempting uninstall: nvidia-cufft-cu12\n",
            "    Found existing installation: nvidia-cufft-cu12 11.2.3.61\n",
            "    Uninstalling nvidia-cufft-cu12-11.2.3.61:\n",
            "      Successfully uninstalled nvidia-cufft-cu12-11.2.3.61\n",
            "  Attempting uninstall: nvidia-cuda-runtime-cu12\n",
            "    Found existing installation: nvidia-cuda-runtime-cu12 12.5.82\n",
            "    Uninstalling nvidia-cuda-runtime-cu12-12.5.82:\n",
            "      Successfully uninstalled nvidia-cuda-runtime-cu12-12.5.82\n",
            "  Attempting uninstall: nvidia-cuda-nvrtc-cu12\n",
            "    Found existing installation: nvidia-cuda-nvrtc-cu12 12.5.82\n",
            "    Uninstalling nvidia-cuda-nvrtc-cu12-12.5.82:\n",
            "      Successfully uninstalled nvidia-cuda-nvrtc-cu12-12.5.82\n",
            "  Attempting uninstall: nvidia-cuda-cupti-cu12\n",
            "    Found existing installation: nvidia-cuda-cupti-cu12 12.5.82\n",
            "    Uninstalling nvidia-cuda-cupti-cu12-12.5.82:\n",
            "      Successfully uninstalled nvidia-cuda-cupti-cu12-12.5.82\n",
            "  Attempting uninstall: nvidia-cublas-cu12\n",
            "    Found existing installation: nvidia-cublas-cu12 12.5.3.2\n",
            "    Uninstalling nvidia-cublas-cu12-12.5.3.2:\n",
            "      Successfully uninstalled nvidia-cublas-cu12-12.5.3.2\n",
            "  Attempting uninstall: nvidia-cusparse-cu12\n",
            "    Found existing installation: nvidia-cusparse-cu12 12.5.1.3\n",
            "    Uninstalling nvidia-cusparse-cu12-12.5.1.3:\n",
            "      Successfully uninstalled nvidia-cusparse-cu12-12.5.1.3\n",
            "  Attempting uninstall: nvidia-cudnn-cu12\n",
            "    Found existing installation: nvidia-cudnn-cu12 9.3.0.75\n",
            "    Uninstalling nvidia-cudnn-cu12-9.3.0.75:\n",
            "      Successfully uninstalled nvidia-cudnn-cu12-9.3.0.75\n",
            "  Attempting uninstall: nvidia-cusolver-cu12\n",
            "    Found existing installation: nvidia-cusolver-cu12 11.6.3.83\n",
            "    Uninstalling nvidia-cusolver-cu12-11.6.3.83:\n",
            "      Successfully uninstalled nvidia-cusolver-cu12-11.6.3.83\n",
            "Successfully installed nvidia-cublas-cu12-12.4.5.8 nvidia-cuda-cupti-cu12-12.4.127 nvidia-cuda-nvrtc-cu12-12.4.127 nvidia-cuda-runtime-cu12-12.4.127 nvidia-cudnn-cu12-9.1.0.70 nvidia-cufft-cu12-11.2.1.3 nvidia-curand-cu12-10.3.5.147 nvidia-cusolver-cu12-11.6.1.9 nvidia-cusparse-cu12-12.3.1.170 nvidia-nvjitlink-cu12-12.4.127 ultralytics-8.3.96 ultralytics-thop-2.0.14\n",
            "Requirement already satisfied: kaggle in /usr/local/lib/python3.11/dist-packages (1.7.4.2)\n",
            "Requirement already satisfied: bleach in /usr/local/lib/python3.11/dist-packages (from kaggle) (6.2.0)\n",
            "Requirement already satisfied: certifi>=14.05.14 in /usr/local/lib/python3.11/dist-packages (from kaggle) (2025.1.31)\n",
            "Requirement already satisfied: charset-normalizer in /usr/local/lib/python3.11/dist-packages (from kaggle) (3.4.1)\n",
            "Requirement already satisfied: idna in /usr/local/lib/python3.11/dist-packages (from kaggle) (3.10)\n",
            "Requirement already satisfied: protobuf in /usr/local/lib/python3.11/dist-packages (from kaggle) (5.29.4)\n",
            "Requirement already satisfied: python-dateutil>=2.5.3 in /usr/local/lib/python3.11/dist-packages (from kaggle) (2.8.2)\n",
            "Requirement already satisfied: python-slugify in /usr/local/lib/python3.11/dist-packages (from kaggle) (8.0.4)\n",
            "Requirement already satisfied: requests in /usr/local/lib/python3.11/dist-packages (from kaggle) (2.32.3)\n",
            "Requirement already satisfied: setuptools>=21.0.0 in /usr/local/lib/python3.11/dist-packages (from kaggle) (75.1.0)\n",
            "Requirement already satisfied: six>=1.10 in /usr/local/lib/python3.11/dist-packages (from kaggle) (1.17.0)\n",
            "Requirement already satisfied: text-unidecode in /usr/local/lib/python3.11/dist-packages (from kaggle) (1.3)\n",
            "Requirement already satisfied: tqdm in /usr/local/lib/python3.11/dist-packages (from kaggle) (4.67.1)\n",
            "Requirement already satisfied: urllib3>=1.15.1 in /usr/local/lib/python3.11/dist-packages (from kaggle) (2.3.0)\n",
            "Requirement already satisfied: webencodings in /usr/local/lib/python3.11/dist-packages (from kaggle) (0.5.1)\n"
          ]
        }
      ],
      "source": [
        "!pip install ultralytics\n",
        "!pip install kaggle\n"
      ]
    },
    {
      "cell_type": "code",
      "source": [
        "import os\n",
        "from google.colab import drive\n",
        "\n",
        "drive.mount('/content/drive', force_remount=True)\n",
        "\n",
        "\n",
        "# Set the path to your dataset\n",
        "base_dir = '/content/drive/MyDrive/mini project 3/hand-detection-dataset-vocyolo-format'\n",
        "\n",
        "train_img_dir = os.path.join(base_dir, 'train', 'images')\n",
        "train_label_dir = os.path.join(base_dir, 'train', 'labels')\n",
        "\n",
        "val_img_dir = os.path.join(base_dir, 'test', 'images')\n",
        "val_label_dir = os.path.join(base_dir, 'test', 'labels')\n",
        "\n",
        "print(\"Training images directory:\", train_img_dir)\n",
        "print(\"Training labels directory:\", train_label_dir)"
      ],
      "metadata": {
        "colab": {
          "base_uri": "https://localhost:8080/"
        },
        "id": "aSe_AxXzrria",
        "outputId": "130afde6-4da8-43b0-9978-d768f695751b"
      },
      "execution_count": 28,
      "outputs": [
        {
          "output_type": "stream",
          "name": "stdout",
          "text": [
            "Mounted at /content/drive\n",
            "Training images directory: /content/drive/MyDrive/mini project 3/hand-detection-dataset-vocyolo-format/train/images\n",
            "Training labels directory: /content/drive/MyDrive/mini project 3/hand-detection-dataset-vocyolo-format/train/labels\n"
          ]
        }
      ]
    },
    {
      "cell_type": "code",
      "source": [
        "import os\n",
        "directory_path = '/content/drive/MyDrive/mini project 3/'  # Replace with your desired path\n",
        "\n",
        "# List all contents of the directory\n",
        "contents = os.listdir(directory_path)\n",
        "\n",
        "# Print the contents\n",
        "for item in contents:\n",
        "    print(item)"
      ],
      "metadata": {
        "colab": {
          "base_uri": "https://localhost:8080/"
        },
        "id": "fbqZA-UayDyx",
        "outputId": "01aafd00-51a0-4914-cbab-eee0153d7033"
      },
      "execution_count": 29,
      "outputs": [
        {
          "output_type": "stream",
          "name": "stdout",
          "text": [
            "hand-detection-dataset-vocyolo-format\n",
            "sign-language-mnist\n"
          ]
        }
      ]
    },
    {
      "cell_type": "code",
      "source": [
        "import os\n",
        "\n",
        "# Check the directory structure to ensure paths are correct\n",
        "base_dir = '/content/drive/MyDrive/mini project 3/hand-detection-dataset-vocyolo-format'\n",
        "\n",
        "# Check if train and test directories exist\n",
        "train_img_dir = os.path.join(base_dir, 'train', 'images')\n",
        "test_img_dir = os.path.join(base_dir, 'test', 'images')\n",
        "\n",
        "print(\"Training images directory exists:\", os.path.exists(train_img_dir))\n",
        "print(\"Testing images directory exists:\", os.path.exists(test_img_dir))\n",
        "\n",
        "# List files in train/images and test/images (to confirm contents)\n",
        "print(\"Training images:\", os.listdir(train_img_dir)[:5])  # List first 5 files\n",
        "print(\"Testing images:\", os.listdir(test_img_dir)[:5])"
      ],
      "metadata": {
        "colab": {
          "base_uri": "https://localhost:8080/"
        },
        "id": "t5eRsNZYzrjA",
        "outputId": "3b2c56ec-096e-443c-8e17-2c2c11a78b1d"
      },
      "execution_count": 30,
      "outputs": [
        {
          "output_type": "stream",
          "name": "stdout",
          "text": [
            "Training images directory exists: True\n",
            "Testing images directory exists: True\n",
            "Training images: ['VOC2010_1058.jpg', 'VOC2007_726.jpg', 'VOC2007_6.jpg', 'VOC2007_795.jpg', 'VOC2010_1127.jpg']\n",
            "Testing images: ['VOC2007_96.jpg', 'VOC2007_283.jpg', 'VOC2010_138.jpg', 'VOC2007_150.jpg', 'VOC2007_522.jpg']\n"
          ]
        }
      ]
    },
    {
      "cell_type": "code",
      "source": [
        "from ultralytics import YOLO\n",
        "\n",
        "# Load the YOLOv5 model (You can specify a pre-trained model like 'yolov5s.pt' or 'yolov5m.pt')\n",
        "model = YOLO('yolov5x.pt')  # You can change to another YOLO model depending on your needs\n",
        "\n",
        "# Train the model with the dataset\n",
        "model.train(data='/content/drive/MyDrive/mini project 3/hand-detection-dataset-vocyolo-format/data.yaml', epochs=50, imgsz=640, device=0)  # device=0 uses GPU, for TPU use device='tpu'"
      ],
      "metadata": {
        "colab": {
          "base_uri": "https://localhost:8080/"
        },
        "id": "455nWRH-r2Zy",
        "outputId": "13f04f4a-2046-49cf-f5ba-840a3f540a3c"
      },
      "execution_count": 48,
      "outputs": [
        {
          "output_type": "stream",
          "name": "stdout",
          "text": [
            "PRO TIP 💡 Replace 'model=yolov5x.pt' with new 'model=yolov5xu.pt'.\n",
            "YOLOv5 'u' models are trained with https://github.com/ultralytics/ultralytics and feature improved performance vs standard YOLOv5 models trained with https://github.com/ultralytics/yolov5.\n",
            "\n",
            "Downloading https://github.com/ultralytics/assets/releases/download/v8.3.0/yolov5xu.pt to 'yolov5xu.pt'...\n"
          ]
        },
        {
          "output_type": "stream",
          "name": "stderr",
          "text": [
            "100%|██████████| 186M/186M [00:05<00:00, 34.5MB/s]\n"
          ]
        },
        {
          "output_type": "stream",
          "name": "stdout",
          "text": [
            "Ultralytics 8.3.96 🚀 Python-3.11.11 torch-2.6.0+cu124 CUDA:0 (NVIDIA L4, 22693MiB)\n",
            "\u001b[34m\u001b[1mengine/trainer: \u001b[0mtask=detect, mode=train, model=yolov5x.pt, data=/content/drive/MyDrive/mini project 3/hand-detection-dataset-vocyolo-format/data.yaml, epochs=50, time=None, patience=100, batch=16, imgsz=640, save=True, save_period=-1, cache=False, device=0, workers=8, project=None, name=train7, exist_ok=False, pretrained=True, optimizer=auto, verbose=True, seed=0, deterministic=True, single_cls=False, rect=False, cos_lr=False, close_mosaic=10, resume=False, amp=True, fraction=1.0, profile=False, freeze=None, multi_scale=False, overlap_mask=True, mask_ratio=4, dropout=0.0, val=True, split=val, save_json=False, save_hybrid=False, conf=None, iou=0.7, max_det=300, half=False, dnn=False, plots=True, source=None, vid_stride=1, stream_buffer=False, visualize=False, augment=False, agnostic_nms=False, classes=None, retina_masks=False, embed=None, show=False, save_frames=False, save_txt=False, save_conf=False, save_crop=False, show_labels=True, show_conf=True, show_boxes=True, line_width=None, format=torchscript, keras=False, optimize=False, int8=False, dynamic=False, simplify=True, opset=None, workspace=None, nms=False, lr0=0.01, lrf=0.01, momentum=0.937, weight_decay=0.0005, warmup_epochs=3.0, warmup_momentum=0.8, warmup_bias_lr=0.1, box=7.5, cls=0.5, dfl=1.5, pose=12.0, kobj=1.0, nbs=64, hsv_h=0.015, hsv_s=0.7, hsv_v=0.4, degrees=0.0, translate=0.1, scale=0.5, shear=0.0, perspective=0.0, flipud=0.0, fliplr=0.5, bgr=0.0, mosaic=1.0, mixup=0.0, copy_paste=0.0, copy_paste_mode=flip, auto_augment=randaugment, erasing=0.4, crop_fraction=1.0, cfg=None, tracker=botsort.yaml, save_dir=runs/detect/train7\n",
            "Overriding model.yaml nc=80 with nc=1\n",
            "\n",
            "                   from  n    params  module                                       arguments                     \n",
            "  0                  -1  1      8800  ultralytics.nn.modules.conv.Conv             [3, 80, 6, 2, 2]              \n",
            "  1                  -1  1    115520  ultralytics.nn.modules.conv.Conv             [80, 160, 3, 2]               \n",
            "  2                  -1  4    309120  ultralytics.nn.modules.block.C3              [160, 160, 4]                 \n",
            "  3                  -1  1    461440  ultralytics.nn.modules.conv.Conv             [160, 320, 3, 2]              \n",
            "  4                  -1  8   2259200  ultralytics.nn.modules.block.C3              [320, 320, 8]                 \n",
            "  5                  -1  1   1844480  ultralytics.nn.modules.conv.Conv             [320, 640, 3, 2]              \n",
            "  6                  -1 12  13125120  ultralytics.nn.modules.block.C3              [640, 640, 12]                \n",
            "  7                  -1  1   7375360  ultralytics.nn.modules.conv.Conv             [640, 1280, 3, 2]             \n",
            "  8                  -1  4  19676160  ultralytics.nn.modules.block.C3              [1280, 1280, 4]               \n",
            "  9                  -1  1   4099840  ultralytics.nn.modules.block.SPPF            [1280, 1280, 5]               \n",
            " 10                  -1  1    820480  ultralytics.nn.modules.conv.Conv             [1280, 640, 1, 1]             \n",
            " 11                  -1  1         0  torch.nn.modules.upsampling.Upsample         [None, 2, 'nearest']          \n",
            " 12             [-1, 6]  1         0  ultralytics.nn.modules.conv.Concat           [1]                           \n",
            " 13                  -1  4   5332480  ultralytics.nn.modules.block.C3              [1280, 640, 4, False]         \n",
            " 14                  -1  1    205440  ultralytics.nn.modules.conv.Conv             [640, 320, 1, 1]              \n",
            " 15                  -1  1         0  torch.nn.modules.upsampling.Upsample         [None, 2, 'nearest']          \n",
            " 16             [-1, 4]  1         0  ultralytics.nn.modules.conv.Concat           [1]                           \n",
            " 17                  -1  4   1335040  ultralytics.nn.modules.block.C3              [640, 320, 4, False]          \n",
            " 18                  -1  1    922240  ultralytics.nn.modules.conv.Conv             [320, 320, 3, 2]              \n",
            " 19            [-1, 14]  1         0  ultralytics.nn.modules.conv.Concat           [1]                           \n",
            " 20                  -1  4   4922880  ultralytics.nn.modules.block.C3              [640, 640, 4, False]          \n",
            " 21                  -1  1   3687680  ultralytics.nn.modules.conv.Conv             [640, 640, 3, 2]              \n",
            " 22            [-1, 10]  1         0  ultralytics.nn.modules.conv.Concat           [1]                           \n",
            " 23                  -1  4  19676160  ultralytics.nn.modules.block.C3              [1280, 1280, 4, False]        \n",
            " 24        [17, 20, 23]  1  11022931  ultralytics.nn.modules.head.Detect           [1, [320, 640, 1280]]         \n",
            "YOLOv5x summary: 285 layers, 97,200,371 parameters, 97,200,355 gradients, 246.9 GFLOPs\n",
            "\n",
            "Transferred 817/823 items from pretrained weights\n",
            "\u001b[34m\u001b[1mTensorBoard: \u001b[0mStart with 'tensorboard --logdir runs/detect/train7', view at http://localhost:6006/\n",
            "Freezing layer 'model.24.dfl.conv.weight'\n",
            "\u001b[34m\u001b[1mAMP: \u001b[0mrunning Automatic Mixed Precision (AMP) checks...\n",
            "\u001b[34m\u001b[1mAMP: \u001b[0mchecks passed ✅\n"
          ]
        },
        {
          "output_type": "stream",
          "name": "stderr",
          "text": [
            "\u001b[34m\u001b[1mtrain: \u001b[0mScanning /content/drive/MyDrive/mini project 3/hand-detection-dataset-vocyolo-format/train/labels.cache... 1551 images, 0 backgrounds, 0 corrupt: 100%|██████████| 1551/1551 [00:00<?, ?it/s]"
          ]
        },
        {
          "output_type": "stream",
          "name": "stdout",
          "text": [
            "\u001b[34m\u001b[1mtrain: \u001b[0mWARNING ⚠️ /content/drive/MyDrive/mini project 3/hand-detection-dataset-vocyolo-format/train/images/Poselet_10.jpg: 1 duplicate labels removed\n",
            "\u001b[34m\u001b[1mtrain: \u001b[0mWARNING ⚠️ /content/drive/MyDrive/mini project 3/hand-detection-dataset-vocyolo-format/train/images/Poselet_180.jpg: 1 duplicate labels removed\n",
            "\u001b[34m\u001b[1mtrain: \u001b[0mWARNING ⚠️ /content/drive/MyDrive/mini project 3/hand-detection-dataset-vocyolo-format/train/images/Poselet_247.jpg: 1 duplicate labels removed\n",
            "\u001b[34m\u001b[1mtrain: \u001b[0mWARNING ⚠️ /content/drive/MyDrive/mini project 3/hand-detection-dataset-vocyolo-format/train/images/Poselet_268.jpg: 1 duplicate labels removed\n",
            "\u001b[34m\u001b[1mtrain: \u001b[0mWARNING ⚠️ /content/drive/MyDrive/mini project 3/hand-detection-dataset-vocyolo-format/train/images/Poselet_282.jpg: 1 duplicate labels removed\n",
            "\u001b[34m\u001b[1mtrain: \u001b[0mWARNING ⚠️ /content/drive/MyDrive/mini project 3/hand-detection-dataset-vocyolo-format/train/images/Poselet_290.jpg: 1 duplicate labels removed\n",
            "\u001b[34m\u001b[1mtrain: \u001b[0mWARNING ⚠️ /content/drive/MyDrive/mini project 3/hand-detection-dataset-vocyolo-format/train/images/Poselet_298.jpg: 1 duplicate labels removed\n",
            "\u001b[34m\u001b[1mtrain: \u001b[0mWARNING ⚠️ /content/drive/MyDrive/mini project 3/hand-detection-dataset-vocyolo-format/train/images/Poselet_359.jpg: 1 duplicate labels removed\n",
            "\u001b[34m\u001b[1mtrain: \u001b[0mWARNING ⚠️ /content/drive/MyDrive/mini project 3/hand-detection-dataset-vocyolo-format/train/images/Skin_281.jpg: 1 duplicate labels removed\n",
            "\u001b[34m\u001b[1mtrain: \u001b[0mWARNING ⚠️ /content/drive/MyDrive/mini project 3/hand-detection-dataset-vocyolo-format/train/images/VOC2010_723.jpg: 1 duplicate labels removed\n",
            "\u001b[34m\u001b[1mtrain: \u001b[0mWARNING ⚠️ /content/drive/MyDrive/mini project 3/hand-detection-dataset-vocyolo-format/train/images/VOC2010_749.jpg: 1 duplicate labels removed\n",
            "\u001b[34m\u001b[1malbumentations: \u001b[0mBlur(p=0.01, blur_limit=(3, 7)), MedianBlur(p=0.01, blur_limit=(3, 7)), ToGray(p=0.01, num_output_channels=3, method='weighted_average'), CLAHE(p=0.01, clip_limit=(1.0, 4.0), tile_grid_size=(8, 8))\n"
          ]
        },
        {
          "output_type": "stream",
          "name": "stderr",
          "text": [
            "\n",
            "\u001b[34m\u001b[1mval: \u001b[0mScanning /content/drive/MyDrive/mini project 3/hand-detection-dataset-vocyolo-format/test/labels.cache... 510 images, 0 backgrounds, 0 corrupt: 100%|██████████| 510/510 [00:00<?, ?it/s]\n"
          ]
        },
        {
          "output_type": "stream",
          "name": "stdout",
          "text": [
            "Plotting labels to runs/detect/train7/labels.jpg... \n",
            "\u001b[34m\u001b[1moptimizer:\u001b[0m 'optimizer=auto' found, ignoring 'lr0=0.01' and 'momentum=0.937' and determining best 'optimizer', 'lr0' and 'momentum' automatically... \n",
            "\u001b[34m\u001b[1moptimizer:\u001b[0m AdamW(lr=0.002, momentum=0.9) with parameter groups 135 weight(decay=0.0), 142 weight(decay=0.0005), 141 bias(decay=0.0)\n",
            "\u001b[34m\u001b[1mTensorBoard: \u001b[0mmodel graph visualization added ✅\n",
            "Image sizes 640 train, 640 val\n",
            "Using 8 dataloader workers\n",
            "Logging results to \u001b[1mruns/detect/train7\u001b[0m\n",
            "Starting training for 50 epochs...\n",
            "\n",
            "      Epoch    GPU_mem   box_loss   cls_loss   dfl_loss  Instances       Size\n"
          ]
        },
        {
          "output_type": "stream",
          "name": "stderr",
          "text": [
            "       1/50      14.5G      1.901      2.175      1.836         62        640: 100%|██████████| 97/97 [01:13<00:00,  1.33it/s]\n",
            "                 Class     Images  Instances      Box(P          R      mAP50  mAP50-95): 100%|██████████| 16/16 [00:07<00:00,  2.06it/s]"
          ]
        },
        {
          "output_type": "stream",
          "name": "stdout",
          "text": [
            "                   all        510       1003     0.0115      0.172    0.00485    0.00171\n"
          ]
        },
        {
          "output_type": "stream",
          "name": "stderr",
          "text": [
            "\n"
          ]
        },
        {
          "output_type": "stream",
          "name": "stdout",
          "text": [
            "\n",
            "      Epoch    GPU_mem   box_loss   cls_loss   dfl_loss  Instances       Size\n"
          ]
        },
        {
          "output_type": "stream",
          "name": "stderr",
          "text": [
            "       2/50      17.2G      1.955      2.159      1.927         33        640: 100%|██████████| 97/97 [01:10<00:00,  1.37it/s]\n",
            "                 Class     Images  Instances      Box(P          R      mAP50  mAP50-95): 100%|██████████| 16/16 [00:08<00:00,  1.92it/s]"
          ]
        },
        {
          "output_type": "stream",
          "name": "stdout",
          "text": [
            "                   all        510       1003   0.000327     0.0499   0.000177   6.54e-05\n"
          ]
        },
        {
          "output_type": "stream",
          "name": "stderr",
          "text": [
            "\n"
          ]
        },
        {
          "output_type": "stream",
          "name": "stdout",
          "text": [
            "\n",
            "      Epoch    GPU_mem   box_loss   cls_loss   dfl_loss  Instances       Size\n"
          ]
        },
        {
          "output_type": "stream",
          "name": "stderr",
          "text": [
            "       3/50      17.2G      1.984      2.225      1.945         49        640: 100%|██████████| 97/97 [01:09<00:00,  1.39it/s]\n",
            "                 Class     Images  Instances      Box(P          R      mAP50  mAP50-95): 100%|██████████| 16/16 [00:07<00:00,  2.19it/s]"
          ]
        },
        {
          "output_type": "stream",
          "name": "stdout",
          "text": [
            "                   all        510       1003    0.00394      0.592    0.00321    0.00142\n"
          ]
        },
        {
          "output_type": "stream",
          "name": "stderr",
          "text": [
            "\n"
          ]
        },
        {
          "output_type": "stream",
          "name": "stdout",
          "text": [
            "\n",
            "      Epoch    GPU_mem   box_loss   cls_loss   dfl_loss  Instances       Size\n"
          ]
        },
        {
          "output_type": "stream",
          "name": "stderr",
          "text": [
            "       4/50      17.2G      1.965      2.178      1.912         45        640: 100%|██████████| 97/97 [01:09<00:00,  1.40it/s]\n",
            "                 Class     Images  Instances      Box(P          R      mAP50  mAP50-95): 100%|██████████| 16/16 [00:07<00:00,  2.20it/s]"
          ]
        },
        {
          "output_type": "stream",
          "name": "stdout",
          "text": [
            "                   all        510       1003      0.418      0.264      0.259      0.108\n"
          ]
        },
        {
          "output_type": "stream",
          "name": "stderr",
          "text": [
            "\n"
          ]
        },
        {
          "output_type": "stream",
          "name": "stdout",
          "text": [
            "\n",
            "      Epoch    GPU_mem   box_loss   cls_loss   dfl_loss  Instances       Size\n"
          ]
        },
        {
          "output_type": "stream",
          "name": "stderr",
          "text": [
            "       5/50      17.3G      1.883      2.007      1.851         52        640: 100%|██████████| 97/97 [01:09<00:00,  1.40it/s]\n",
            "                 Class     Images  Instances      Box(P          R      mAP50  mAP50-95): 100%|██████████| 16/16 [00:07<00:00,  2.19it/s]"
          ]
        },
        {
          "output_type": "stream",
          "name": "stdout",
          "text": [
            "                   all        510       1003      0.266      0.244      0.199     0.0795\n"
          ]
        },
        {
          "output_type": "stream",
          "name": "stderr",
          "text": [
            "\n"
          ]
        },
        {
          "output_type": "stream",
          "name": "stdout",
          "text": [
            "\n",
            "      Epoch    GPU_mem   box_loss   cls_loss   dfl_loss  Instances       Size\n"
          ]
        },
        {
          "output_type": "stream",
          "name": "stderr",
          "text": [
            "       6/50      17.4G      1.834      1.869        1.8         33        640: 100%|██████████| 97/97 [01:09<00:00,  1.40it/s]\n",
            "                 Class     Images  Instances      Box(P          R      mAP50  mAP50-95): 100%|██████████| 16/16 [00:07<00:00,  2.19it/s]"
          ]
        },
        {
          "output_type": "stream",
          "name": "stdout",
          "text": [
            "                   all        510       1003       0.58       0.41      0.477      0.229\n"
          ]
        },
        {
          "output_type": "stream",
          "name": "stderr",
          "text": [
            "\n"
          ]
        },
        {
          "output_type": "stream",
          "name": "stdout",
          "text": [
            "\n",
            "      Epoch    GPU_mem   box_loss   cls_loss   dfl_loss  Instances       Size\n"
          ]
        },
        {
          "output_type": "stream",
          "name": "stderr",
          "text": [
            "       7/50      17.4G      1.804      1.795      1.766         49        640: 100%|██████████| 97/97 [01:09<00:00,  1.40it/s]\n",
            "                 Class     Images  Instances      Box(P          R      mAP50  mAP50-95): 100%|██████████| 16/16 [00:07<00:00,  2.20it/s]"
          ]
        },
        {
          "output_type": "stream",
          "name": "stdout",
          "text": [
            "                   all        510       1003      0.508      0.367      0.393      0.175\n"
          ]
        },
        {
          "output_type": "stream",
          "name": "stderr",
          "text": [
            "\n"
          ]
        },
        {
          "output_type": "stream",
          "name": "stdout",
          "text": [
            "\n",
            "      Epoch    GPU_mem   box_loss   cls_loss   dfl_loss  Instances       Size\n"
          ]
        },
        {
          "output_type": "stream",
          "name": "stderr",
          "text": [
            "       8/50      17.4G      1.757      1.684      1.723         53        640: 100%|██████████| 97/97 [01:09<00:00,  1.40it/s]\n",
            "                 Class     Images  Instances      Box(P          R      mAP50  mAP50-95): 100%|██████████| 16/16 [00:07<00:00,  2.18it/s]"
          ]
        },
        {
          "output_type": "stream",
          "name": "stdout",
          "text": [
            "                   all        510       1003      0.653      0.587      0.639      0.317\n"
          ]
        },
        {
          "output_type": "stream",
          "name": "stderr",
          "text": [
            "\n"
          ]
        },
        {
          "output_type": "stream",
          "name": "stdout",
          "text": [
            "\n",
            "      Epoch    GPU_mem   box_loss   cls_loss   dfl_loss  Instances       Size\n"
          ]
        },
        {
          "output_type": "stream",
          "name": "stderr",
          "text": [
            "       9/50      17.4G      1.764      1.669      1.712         28        640: 100%|██████████| 97/97 [01:09<00:00,  1.40it/s]\n",
            "                 Class     Images  Instances      Box(P          R      mAP50  mAP50-95): 100%|██████████| 16/16 [00:07<00:00,  2.20it/s]"
          ]
        },
        {
          "output_type": "stream",
          "name": "stdout",
          "text": [
            "                   all        510       1003      0.643      0.564      0.618      0.294\n"
          ]
        },
        {
          "output_type": "stream",
          "name": "stderr",
          "text": [
            "\n"
          ]
        },
        {
          "output_type": "stream",
          "name": "stdout",
          "text": [
            "\n",
            "      Epoch    GPU_mem   box_loss   cls_loss   dfl_loss  Instances       Size\n"
          ]
        },
        {
          "output_type": "stream",
          "name": "stderr",
          "text": [
            "      10/50      17.4G      1.738      1.596      1.699         44        640: 100%|██████████| 97/97 [01:09<00:00,  1.40it/s]\n",
            "                 Class     Images  Instances      Box(P          R      mAP50  mAP50-95): 100%|██████████| 16/16 [00:07<00:00,  2.19it/s]"
          ]
        },
        {
          "output_type": "stream",
          "name": "stdout",
          "text": [
            "                   all        510       1003       0.64      0.552      0.615      0.301\n"
          ]
        },
        {
          "output_type": "stream",
          "name": "stderr",
          "text": [
            "\n"
          ]
        },
        {
          "output_type": "stream",
          "name": "stdout",
          "text": [
            "\n",
            "      Epoch    GPU_mem   box_loss   cls_loss   dfl_loss  Instances       Size\n"
          ]
        },
        {
          "output_type": "stream",
          "name": "stderr",
          "text": [
            "      11/50      17.4G      1.701      1.515      1.673         49        640: 100%|██████████| 97/97 [01:09<00:00,  1.40it/s]\n",
            "                 Class     Images  Instances      Box(P          R      mAP50  mAP50-95): 100%|██████████| 16/16 [00:07<00:00,  2.20it/s]"
          ]
        },
        {
          "output_type": "stream",
          "name": "stdout",
          "text": [
            "                   all        510       1003      0.695       0.59      0.672      0.325\n"
          ]
        },
        {
          "output_type": "stream",
          "name": "stderr",
          "text": [
            "\n"
          ]
        },
        {
          "output_type": "stream",
          "name": "stdout",
          "text": [
            "\n",
            "      Epoch    GPU_mem   box_loss   cls_loss   dfl_loss  Instances       Size\n"
          ]
        },
        {
          "output_type": "stream",
          "name": "stderr",
          "text": [
            "      12/50      17.4G       1.66      1.465      1.656         45        640: 100%|██████████| 97/97 [01:09<00:00,  1.39it/s]\n",
            "                 Class     Images  Instances      Box(P          R      mAP50  mAP50-95): 100%|██████████| 16/16 [00:07<00:00,  2.20it/s]"
          ]
        },
        {
          "output_type": "stream",
          "name": "stdout",
          "text": [
            "                   all        510       1003      0.657      0.556      0.614      0.313\n"
          ]
        },
        {
          "output_type": "stream",
          "name": "stderr",
          "text": [
            "\n"
          ]
        },
        {
          "output_type": "stream",
          "name": "stdout",
          "text": [
            "\n",
            "      Epoch    GPU_mem   box_loss   cls_loss   dfl_loss  Instances       Size\n"
          ]
        },
        {
          "output_type": "stream",
          "name": "stderr",
          "text": [
            "      13/50      17.4G      1.659      1.463      1.672         55        640: 100%|██████████| 97/97 [01:09<00:00,  1.40it/s]\n",
            "                 Class     Images  Instances      Box(P          R      mAP50  mAP50-95): 100%|██████████| 16/16 [00:07<00:00,  2.20it/s]"
          ]
        },
        {
          "output_type": "stream",
          "name": "stdout",
          "text": [
            "                   all        510       1003      0.719      0.644      0.735      0.383\n"
          ]
        },
        {
          "output_type": "stream",
          "name": "stderr",
          "text": [
            "\n"
          ]
        },
        {
          "output_type": "stream",
          "name": "stdout",
          "text": [
            "\n",
            "      Epoch    GPU_mem   box_loss   cls_loss   dfl_loss  Instances       Size\n"
          ]
        },
        {
          "output_type": "stream",
          "name": "stderr",
          "text": [
            "      14/50      17.4G      1.612       1.38      1.634         44        640: 100%|██████████| 97/97 [01:09<00:00,  1.40it/s]\n",
            "                 Class     Images  Instances      Box(P          R      mAP50  mAP50-95): 100%|██████████| 16/16 [00:07<00:00,  2.20it/s]"
          ]
        },
        {
          "output_type": "stream",
          "name": "stdout",
          "text": [
            "                   all        510       1003      0.661      0.533      0.623      0.316\n"
          ]
        },
        {
          "output_type": "stream",
          "name": "stderr",
          "text": [
            "\n"
          ]
        },
        {
          "output_type": "stream",
          "name": "stdout",
          "text": [
            "\n",
            "      Epoch    GPU_mem   box_loss   cls_loss   dfl_loss  Instances       Size\n"
          ]
        },
        {
          "output_type": "stream",
          "name": "stderr",
          "text": [
            "      15/50      17.4G      1.615      1.381      1.627         53        640: 100%|██████████| 97/97 [01:09<00:00,  1.40it/s]\n",
            "                 Class     Images  Instances      Box(P          R      mAP50  mAP50-95): 100%|██████████| 16/16 [00:07<00:00,  2.20it/s]"
          ]
        },
        {
          "output_type": "stream",
          "name": "stdout",
          "text": [
            "                   all        510       1003      0.764      0.704      0.775      0.404\n"
          ]
        },
        {
          "output_type": "stream",
          "name": "stderr",
          "text": [
            "\n"
          ]
        },
        {
          "output_type": "stream",
          "name": "stdout",
          "text": [
            "\n",
            "      Epoch    GPU_mem   box_loss   cls_loss   dfl_loss  Instances       Size\n"
          ]
        },
        {
          "output_type": "stream",
          "name": "stderr",
          "text": [
            "      16/50      17.4G      1.576      1.327      1.604         43        640: 100%|██████████| 97/97 [01:09<00:00,  1.40it/s]\n",
            "                 Class     Images  Instances      Box(P          R      mAP50  mAP50-95): 100%|██████████| 16/16 [00:07<00:00,  2.20it/s]"
          ]
        },
        {
          "output_type": "stream",
          "name": "stdout",
          "text": [
            "                   all        510       1003      0.774      0.663      0.763      0.398\n"
          ]
        },
        {
          "output_type": "stream",
          "name": "stderr",
          "text": [
            "\n"
          ]
        },
        {
          "output_type": "stream",
          "name": "stdout",
          "text": [
            "\n",
            "      Epoch    GPU_mem   box_loss   cls_loss   dfl_loss  Instances       Size\n"
          ]
        },
        {
          "output_type": "stream",
          "name": "stderr",
          "text": [
            "      17/50      17.4G      1.578      1.306      1.602         46        640: 100%|██████████| 97/97 [01:09<00:00,  1.40it/s]\n",
            "                 Class     Images  Instances      Box(P          R      mAP50  mAP50-95): 100%|██████████| 16/16 [00:07<00:00,  2.20it/s]"
          ]
        },
        {
          "output_type": "stream",
          "name": "stdout",
          "text": [
            "                   all        510       1003      0.784      0.647      0.751      0.391\n"
          ]
        },
        {
          "output_type": "stream",
          "name": "stderr",
          "text": [
            "\n"
          ]
        },
        {
          "output_type": "stream",
          "name": "stdout",
          "text": [
            "\n",
            "      Epoch    GPU_mem   box_loss   cls_loss   dfl_loss  Instances       Size\n"
          ]
        },
        {
          "output_type": "stream",
          "name": "stderr",
          "text": [
            "      18/50      17.4G      1.586      1.263      1.615         59        640: 100%|██████████| 97/97 [01:09<00:00,  1.40it/s]\n",
            "                 Class     Images  Instances      Box(P          R      mAP50  mAP50-95): 100%|██████████| 16/16 [00:07<00:00,  2.20it/s]"
          ]
        },
        {
          "output_type": "stream",
          "name": "stdout",
          "text": [
            "                   all        510       1003      0.787      0.669      0.771      0.401\n"
          ]
        },
        {
          "output_type": "stream",
          "name": "stderr",
          "text": [
            "\n"
          ]
        },
        {
          "output_type": "stream",
          "name": "stdout",
          "text": [
            "\n",
            "      Epoch    GPU_mem   box_loss   cls_loss   dfl_loss  Instances       Size\n"
          ]
        },
        {
          "output_type": "stream",
          "name": "stderr",
          "text": [
            "      19/50      17.4G      1.557      1.223      1.587         44        640: 100%|██████████| 97/97 [01:09<00:00,  1.40it/s]\n",
            "                 Class     Images  Instances      Box(P          R      mAP50  mAP50-95): 100%|██████████| 16/16 [00:07<00:00,  2.20it/s]"
          ]
        },
        {
          "output_type": "stream",
          "name": "stdout",
          "text": [
            "                   all        510       1003       0.71      0.648      0.731      0.379\n"
          ]
        },
        {
          "output_type": "stream",
          "name": "stderr",
          "text": [
            "\n"
          ]
        },
        {
          "output_type": "stream",
          "name": "stdout",
          "text": [
            "\n",
            "      Epoch    GPU_mem   box_loss   cls_loss   dfl_loss  Instances       Size\n"
          ]
        },
        {
          "output_type": "stream",
          "name": "stderr",
          "text": [
            "      20/50      17.4G      1.527      1.179      1.565         41        640: 100%|██████████| 97/97 [01:09<00:00,  1.40it/s]\n",
            "                 Class     Images  Instances      Box(P          R      mAP50  mAP50-95): 100%|██████████| 16/16 [00:07<00:00,  2.21it/s]"
          ]
        },
        {
          "output_type": "stream",
          "name": "stdout",
          "text": [
            "                   all        510       1003      0.774      0.694      0.787      0.405\n"
          ]
        },
        {
          "output_type": "stream",
          "name": "stderr",
          "text": [
            "\n"
          ]
        },
        {
          "output_type": "stream",
          "name": "stdout",
          "text": [
            "\n",
            "      Epoch    GPU_mem   box_loss   cls_loss   dfl_loss  Instances       Size\n"
          ]
        },
        {
          "output_type": "stream",
          "name": "stderr",
          "text": [
            "      21/50      17.4G      1.521      1.193      1.571         55        640: 100%|██████████| 97/97 [01:09<00:00,  1.40it/s]\n",
            "                 Class     Images  Instances      Box(P          R      mAP50  mAP50-95): 100%|██████████| 16/16 [00:07<00:00,  2.21it/s]"
          ]
        },
        {
          "output_type": "stream",
          "name": "stdout",
          "text": [
            "                   all        510       1003      0.761      0.722      0.796      0.427\n"
          ]
        },
        {
          "output_type": "stream",
          "name": "stderr",
          "text": [
            "\n"
          ]
        },
        {
          "output_type": "stream",
          "name": "stdout",
          "text": [
            "\n",
            "      Epoch    GPU_mem   box_loss   cls_loss   dfl_loss  Instances       Size\n"
          ]
        },
        {
          "output_type": "stream",
          "name": "stderr",
          "text": [
            "      22/50      17.4G      1.484      1.123      1.534         38        640: 100%|██████████| 97/97 [01:09<00:00,  1.39it/s]\n",
            "                 Class     Images  Instances      Box(P          R      mAP50  mAP50-95): 100%|██████████| 16/16 [00:07<00:00,  2.20it/s]"
          ]
        },
        {
          "output_type": "stream",
          "name": "stdout",
          "text": [
            "                   all        510       1003      0.794      0.721      0.816       0.43\n"
          ]
        },
        {
          "output_type": "stream",
          "name": "stderr",
          "text": [
            "\n"
          ]
        },
        {
          "output_type": "stream",
          "name": "stdout",
          "text": [
            "\n",
            "      Epoch    GPU_mem   box_loss   cls_loss   dfl_loss  Instances       Size\n"
          ]
        },
        {
          "output_type": "stream",
          "name": "stderr",
          "text": [
            "      23/50      17.4G      1.487      1.099      1.546         43        640: 100%|██████████| 97/97 [01:09<00:00,  1.40it/s]\n",
            "                 Class     Images  Instances      Box(P          R      mAP50  mAP50-95): 100%|██████████| 16/16 [00:07<00:00,  2.21it/s]"
          ]
        },
        {
          "output_type": "stream",
          "name": "stdout",
          "text": [
            "                   all        510       1003      0.793      0.721      0.816      0.442\n"
          ]
        },
        {
          "output_type": "stream",
          "name": "stderr",
          "text": [
            "\n"
          ]
        },
        {
          "output_type": "stream",
          "name": "stdout",
          "text": [
            "\n",
            "      Epoch    GPU_mem   box_loss   cls_loss   dfl_loss  Instances       Size\n"
          ]
        },
        {
          "output_type": "stream",
          "name": "stderr",
          "text": [
            "      24/50      17.4G      1.472      1.119      1.518         54        640: 100%|██████████| 97/97 [01:09<00:00,  1.40it/s]\n",
            "                 Class     Images  Instances      Box(P          R      mAP50  mAP50-95): 100%|██████████| 16/16 [00:07<00:00,  2.21it/s]"
          ]
        },
        {
          "output_type": "stream",
          "name": "stdout",
          "text": [
            "                   all        510       1003       0.83      0.736      0.834      0.442\n"
          ]
        },
        {
          "output_type": "stream",
          "name": "stderr",
          "text": [
            "\n"
          ]
        },
        {
          "output_type": "stream",
          "name": "stdout",
          "text": [
            "\n",
            "      Epoch    GPU_mem   box_loss   cls_loss   dfl_loss  Instances       Size\n"
          ]
        },
        {
          "output_type": "stream",
          "name": "stderr",
          "text": [
            "      25/50      17.4G      1.459      1.075      1.515         35        640: 100%|██████████| 97/97 [01:09<00:00,  1.40it/s]\n",
            "                 Class     Images  Instances      Box(P          R      mAP50  mAP50-95): 100%|██████████| 16/16 [00:07<00:00,  2.20it/s]"
          ]
        },
        {
          "output_type": "stream",
          "name": "stdout",
          "text": [
            "                   all        510       1003      0.803      0.704      0.808      0.445\n"
          ]
        },
        {
          "output_type": "stream",
          "name": "stderr",
          "text": [
            "\n"
          ]
        },
        {
          "output_type": "stream",
          "name": "stdout",
          "text": [
            "\n",
            "      Epoch    GPU_mem   box_loss   cls_loss   dfl_loss  Instances       Size\n"
          ]
        },
        {
          "output_type": "stream",
          "name": "stderr",
          "text": [
            "      26/50      17.4G      1.415      1.016      1.481         59        640: 100%|██████████| 97/97 [01:09<00:00,  1.40it/s]\n",
            "                 Class     Images  Instances      Box(P          R      mAP50  mAP50-95): 100%|██████████| 16/16 [00:07<00:00,  2.21it/s]"
          ]
        },
        {
          "output_type": "stream",
          "name": "stdout",
          "text": [
            "                   all        510       1003        0.8      0.763      0.838      0.453\n"
          ]
        },
        {
          "output_type": "stream",
          "name": "stderr",
          "text": [
            "\n"
          ]
        },
        {
          "output_type": "stream",
          "name": "stdout",
          "text": [
            "\n",
            "      Epoch    GPU_mem   box_loss   cls_loss   dfl_loss  Instances       Size\n"
          ]
        },
        {
          "output_type": "stream",
          "name": "stderr",
          "text": [
            "      27/50      17.4G      1.393     0.9856       1.48         29        640: 100%|██████████| 97/97 [01:09<00:00,  1.40it/s]\n",
            "                 Class     Images  Instances      Box(P          R      mAP50  mAP50-95): 100%|██████████| 16/16 [00:07<00:00,  2.21it/s]"
          ]
        },
        {
          "output_type": "stream",
          "name": "stdout",
          "text": [
            "                   all        510       1003      0.834      0.718      0.825      0.457\n"
          ]
        },
        {
          "output_type": "stream",
          "name": "stderr",
          "text": [
            "\n"
          ]
        },
        {
          "output_type": "stream",
          "name": "stdout",
          "text": [
            "\n",
            "      Epoch    GPU_mem   box_loss   cls_loss   dfl_loss  Instances       Size\n"
          ]
        },
        {
          "output_type": "stream",
          "name": "stderr",
          "text": [
            "      28/50      17.4G      1.404     0.9774      1.473         48        640: 100%|██████████| 97/97 [01:09<00:00,  1.40it/s]\n",
            "                 Class     Images  Instances      Box(P          R      mAP50  mAP50-95): 100%|██████████| 16/16 [00:07<00:00,  2.19it/s]"
          ]
        },
        {
          "output_type": "stream",
          "name": "stdout",
          "text": [
            "                   all        510       1003      0.781      0.701      0.786      0.387\n"
          ]
        },
        {
          "output_type": "stream",
          "name": "stderr",
          "text": [
            "\n"
          ]
        },
        {
          "output_type": "stream",
          "name": "stdout",
          "text": [
            "\n",
            "      Epoch    GPU_mem   box_loss   cls_loss   dfl_loss  Instances       Size\n"
          ]
        },
        {
          "output_type": "stream",
          "name": "stderr",
          "text": [
            "      29/50      17.4G      1.392     0.9447      1.473         40        640: 100%|██████████| 97/97 [01:09<00:00,  1.40it/s]\n",
            "                 Class     Images  Instances      Box(P          R      mAP50  mAP50-95): 100%|██████████| 16/16 [00:07<00:00,  2.21it/s]"
          ]
        },
        {
          "output_type": "stream",
          "name": "stdout",
          "text": [
            "                   all        510       1003      0.838      0.743      0.846      0.474\n"
          ]
        },
        {
          "output_type": "stream",
          "name": "stderr",
          "text": [
            "\n"
          ]
        },
        {
          "output_type": "stream",
          "name": "stdout",
          "text": [
            "\n",
            "      Epoch    GPU_mem   box_loss   cls_loss   dfl_loss  Instances       Size\n"
          ]
        },
        {
          "output_type": "stream",
          "name": "stderr",
          "text": [
            "      30/50      17.4G      1.385     0.9454      1.466         45        640: 100%|██████████| 97/97 [01:09<00:00,  1.40it/s]\n",
            "                 Class     Images  Instances      Box(P          R      mAP50  mAP50-95): 100%|██████████| 16/16 [00:07<00:00,  2.19it/s]"
          ]
        },
        {
          "output_type": "stream",
          "name": "stdout",
          "text": [
            "                   all        510       1003      0.835      0.754      0.847      0.456\n"
          ]
        },
        {
          "output_type": "stream",
          "name": "stderr",
          "text": [
            "\n"
          ]
        },
        {
          "output_type": "stream",
          "name": "stdout",
          "text": [
            "\n",
            "      Epoch    GPU_mem   box_loss   cls_loss   dfl_loss  Instances       Size\n"
          ]
        },
        {
          "output_type": "stream",
          "name": "stderr",
          "text": [
            "      31/50      17.4G      1.318     0.9006      1.411         37        640: 100%|██████████| 97/97 [01:09<00:00,  1.40it/s]\n",
            "                 Class     Images  Instances      Box(P          R      mAP50  mAP50-95): 100%|██████████| 16/16 [00:07<00:00,  2.21it/s]"
          ]
        },
        {
          "output_type": "stream",
          "name": "stdout",
          "text": [
            "                   all        510       1003      0.835      0.774      0.849      0.469\n"
          ]
        },
        {
          "output_type": "stream",
          "name": "stderr",
          "text": [
            "\n"
          ]
        },
        {
          "output_type": "stream",
          "name": "stdout",
          "text": [
            "\n",
            "      Epoch    GPU_mem   box_loss   cls_loss   dfl_loss  Instances       Size\n"
          ]
        },
        {
          "output_type": "stream",
          "name": "stderr",
          "text": [
            "      32/50      17.4G      1.321     0.8909      1.418         46        640: 100%|██████████| 97/97 [01:09<00:00,  1.40it/s]\n",
            "                 Class     Images  Instances      Box(P          R      mAP50  mAP50-95): 100%|██████████| 16/16 [00:07<00:00,  2.20it/s]"
          ]
        },
        {
          "output_type": "stream",
          "name": "stdout",
          "text": [
            "                   all        510       1003      0.824      0.725      0.825      0.458\n"
          ]
        },
        {
          "output_type": "stream",
          "name": "stderr",
          "text": [
            "\n"
          ]
        },
        {
          "output_type": "stream",
          "name": "stdout",
          "text": [
            "\n",
            "      Epoch    GPU_mem   box_loss   cls_loss   dfl_loss  Instances       Size\n"
          ]
        },
        {
          "output_type": "stream",
          "name": "stderr",
          "text": [
            "      33/50      17.4G      1.309     0.9062      1.428         40        640: 100%|██████████| 97/97 [01:09<00:00,  1.40it/s]\n",
            "                 Class     Images  Instances      Box(P          R      mAP50  mAP50-95): 100%|██████████| 16/16 [00:07<00:00,  2.20it/s]"
          ]
        },
        {
          "output_type": "stream",
          "name": "stdout",
          "text": [
            "                   all        510       1003      0.858      0.705      0.832      0.448\n"
          ]
        },
        {
          "output_type": "stream",
          "name": "stderr",
          "text": [
            "\n"
          ]
        },
        {
          "output_type": "stream",
          "name": "stdout",
          "text": [
            "\n",
            "      Epoch    GPU_mem   box_loss   cls_loss   dfl_loss  Instances       Size\n"
          ]
        },
        {
          "output_type": "stream",
          "name": "stderr",
          "text": [
            "      34/50      17.4G       1.29     0.8477      1.404         36        640: 100%|██████████| 97/97 [01:09<00:00,  1.40it/s]\n",
            "                 Class     Images  Instances      Box(P          R      mAP50  mAP50-95): 100%|██████████| 16/16 [00:07<00:00,  2.19it/s]"
          ]
        },
        {
          "output_type": "stream",
          "name": "stdout",
          "text": [
            "                   all        510       1003      0.804      0.779      0.857       0.48\n"
          ]
        },
        {
          "output_type": "stream",
          "name": "stderr",
          "text": [
            "\n"
          ]
        },
        {
          "output_type": "stream",
          "name": "stdout",
          "text": [
            "\n",
            "      Epoch    GPU_mem   box_loss   cls_loss   dfl_loss  Instances       Size\n"
          ]
        },
        {
          "output_type": "stream",
          "name": "stderr",
          "text": [
            "      35/50      17.4G      1.269     0.8342      1.402         51        640: 100%|██████████| 97/97 [01:09<00:00,  1.40it/s]\n",
            "                 Class     Images  Instances      Box(P          R      mAP50  mAP50-95): 100%|██████████| 16/16 [00:07<00:00,  2.20it/s]"
          ]
        },
        {
          "output_type": "stream",
          "name": "stdout",
          "text": [
            "                   all        510       1003      0.831      0.764      0.846       0.47\n"
          ]
        },
        {
          "output_type": "stream",
          "name": "stderr",
          "text": [
            "\n"
          ]
        },
        {
          "output_type": "stream",
          "name": "stdout",
          "text": [
            "\n",
            "      Epoch    GPU_mem   box_loss   cls_loss   dfl_loss  Instances       Size\n"
          ]
        },
        {
          "output_type": "stream",
          "name": "stderr",
          "text": [
            "      36/50      17.4G      1.276     0.8695      1.411         37        640: 100%|██████████| 97/97 [01:09<00:00,  1.40it/s]\n",
            "                 Class     Images  Instances      Box(P          R      mAP50  mAP50-95): 100%|██████████| 16/16 [00:07<00:00,  2.20it/s]"
          ]
        },
        {
          "output_type": "stream",
          "name": "stdout",
          "text": [
            "                   all        510       1003      0.838      0.781      0.867       0.48\n"
          ]
        },
        {
          "output_type": "stream",
          "name": "stderr",
          "text": [
            "\n"
          ]
        },
        {
          "output_type": "stream",
          "name": "stdout",
          "text": [
            "\n",
            "      Epoch    GPU_mem   box_loss   cls_loss   dfl_loss  Instances       Size\n"
          ]
        },
        {
          "output_type": "stream",
          "name": "stderr",
          "text": [
            "      37/50      17.5G      1.234     0.8037      1.359         38        640: 100%|██████████| 97/97 [01:09<00:00,  1.39it/s]\n",
            "                 Class     Images  Instances      Box(P          R      mAP50  mAP50-95): 100%|██████████| 16/16 [00:07<00:00,  2.21it/s]"
          ]
        },
        {
          "output_type": "stream",
          "name": "stdout",
          "text": [
            "                   all        510       1003      0.834      0.765      0.852      0.486\n"
          ]
        },
        {
          "output_type": "stream",
          "name": "stderr",
          "text": [
            "\n"
          ]
        },
        {
          "output_type": "stream",
          "name": "stdout",
          "text": [
            "\n",
            "      Epoch    GPU_mem   box_loss   cls_loss   dfl_loss  Instances       Size\n"
          ]
        },
        {
          "output_type": "stream",
          "name": "stderr",
          "text": [
            "      38/50      17.5G      1.221     0.8089      1.355         68        640: 100%|██████████| 97/97 [01:09<00:00,  1.40it/s]\n",
            "                 Class     Images  Instances      Box(P          R      mAP50  mAP50-95): 100%|██████████| 16/16 [00:07<00:00,  2.20it/s]"
          ]
        },
        {
          "output_type": "stream",
          "name": "stdout",
          "text": [
            "                   all        510       1003      0.846      0.782      0.867      0.487\n"
          ]
        },
        {
          "output_type": "stream",
          "name": "stderr",
          "text": [
            "\n"
          ]
        },
        {
          "output_type": "stream",
          "name": "stdout",
          "text": [
            "\n",
            "      Epoch    GPU_mem   box_loss   cls_loss   dfl_loss  Instances       Size\n"
          ]
        },
        {
          "output_type": "stream",
          "name": "stderr",
          "text": [
            "      39/50      17.5G      1.192     0.7619      1.344         47        640: 100%|██████████| 97/97 [01:09<00:00,  1.40it/s]\n",
            "                 Class     Images  Instances      Box(P          R      mAP50  mAP50-95): 100%|██████████| 16/16 [00:07<00:00,  2.20it/s]"
          ]
        },
        {
          "output_type": "stream",
          "name": "stdout",
          "text": [
            "                   all        510       1003      0.832      0.786      0.864      0.491\n"
          ]
        },
        {
          "output_type": "stream",
          "name": "stderr",
          "text": [
            "\n"
          ]
        },
        {
          "output_type": "stream",
          "name": "stdout",
          "text": [
            "\n",
            "      Epoch    GPU_mem   box_loss   cls_loss   dfl_loss  Instances       Size\n"
          ]
        },
        {
          "output_type": "stream",
          "name": "stderr",
          "text": [
            "      40/50      17.5G      1.185     0.7564      1.337         41        640: 100%|██████████| 97/97 [01:09<00:00,  1.40it/s]\n",
            "                 Class     Images  Instances      Box(P          R      mAP50  mAP50-95): 100%|██████████| 16/16 [00:07<00:00,  2.21it/s]"
          ]
        },
        {
          "output_type": "stream",
          "name": "stdout",
          "text": [
            "                   all        510       1003      0.848      0.787      0.864      0.489\n"
          ]
        },
        {
          "output_type": "stream",
          "name": "stderr",
          "text": [
            "\n"
          ]
        },
        {
          "output_type": "stream",
          "name": "stdout",
          "text": [
            "Closing dataloader mosaic\n",
            "\u001b[34m\u001b[1malbumentations: \u001b[0mBlur(p=0.01, blur_limit=(3, 7)), MedianBlur(p=0.01, blur_limit=(3, 7)), ToGray(p=0.01, num_output_channels=3, method='weighted_average'), CLAHE(p=0.01, clip_limit=(1.0, 4.0), tile_grid_size=(8, 8))\n",
            "\n",
            "      Epoch    GPU_mem   box_loss   cls_loss   dfl_loss  Instances       Size\n"
          ]
        },
        {
          "output_type": "stream",
          "name": "stderr",
          "text": [
            "      41/50      17.5G      1.143     0.6955      1.394         25        640: 100%|██████████| 97/97 [01:11<00:00,  1.37it/s]\n",
            "                 Class     Images  Instances      Box(P          R      mAP50  mAP50-95): 100%|██████████| 16/16 [00:07<00:00,  2.20it/s]"
          ]
        },
        {
          "output_type": "stream",
          "name": "stdout",
          "text": [
            "                   all        510       1003      0.869      0.747      0.862       0.49\n"
          ]
        },
        {
          "output_type": "stream",
          "name": "stderr",
          "text": [
            "\n"
          ]
        },
        {
          "output_type": "stream",
          "name": "stdout",
          "text": [
            "\n",
            "      Epoch    GPU_mem   box_loss   cls_loss   dfl_loss  Instances       Size\n"
          ]
        },
        {
          "output_type": "stream",
          "name": "stderr",
          "text": [
            "      42/50      17.5G      1.109     0.6695      1.366         19        640: 100%|██████████| 97/97 [01:09<00:00,  1.40it/s]\n",
            "                 Class     Images  Instances      Box(P          R      mAP50  mAP50-95): 100%|██████████| 16/16 [00:07<00:00,  2.20it/s]"
          ]
        },
        {
          "output_type": "stream",
          "name": "stdout",
          "text": [
            "                   all        510       1003      0.813      0.782      0.862      0.495\n"
          ]
        },
        {
          "output_type": "stream",
          "name": "stderr",
          "text": [
            "\n"
          ]
        },
        {
          "output_type": "stream",
          "name": "stdout",
          "text": [
            "\n",
            "      Epoch    GPU_mem   box_loss   cls_loss   dfl_loss  Instances       Size\n"
          ]
        },
        {
          "output_type": "stream",
          "name": "stderr",
          "text": [
            "      43/50      17.5G      1.105     0.6629      1.354         28        640: 100%|██████████| 97/97 [01:09<00:00,  1.40it/s]\n",
            "                 Class     Images  Instances      Box(P          R      mAP50  mAP50-95): 100%|██████████| 16/16 [00:07<00:00,  2.20it/s]"
          ]
        },
        {
          "output_type": "stream",
          "name": "stdout",
          "text": [
            "                   all        510       1003      0.824        0.8      0.872      0.498\n"
          ]
        },
        {
          "output_type": "stream",
          "name": "stderr",
          "text": [
            "\n"
          ]
        },
        {
          "output_type": "stream",
          "name": "stdout",
          "text": [
            "\n",
            "      Epoch    GPU_mem   box_loss   cls_loss   dfl_loss  Instances       Size\n"
          ]
        },
        {
          "output_type": "stream",
          "name": "stderr",
          "text": [
            "      44/50      17.5G      1.068     0.6223      1.335         23        640: 100%|██████████| 97/97 [01:09<00:00,  1.40it/s]\n",
            "                 Class     Images  Instances      Box(P          R      mAP50  mAP50-95): 100%|██████████| 16/16 [00:07<00:00,  2.21it/s]"
          ]
        },
        {
          "output_type": "stream",
          "name": "stdout",
          "text": [
            "                   all        510       1003      0.878      0.762      0.868      0.494\n"
          ]
        },
        {
          "output_type": "stream",
          "name": "stderr",
          "text": [
            "\n"
          ]
        },
        {
          "output_type": "stream",
          "name": "stdout",
          "text": [
            "\n",
            "      Epoch    GPU_mem   box_loss   cls_loss   dfl_loss  Instances       Size\n"
          ]
        },
        {
          "output_type": "stream",
          "name": "stderr",
          "text": [
            "      45/50      17.5G      1.052      0.597      1.313         28        640: 100%|██████████| 97/97 [01:09<00:00,  1.40it/s]\n",
            "                 Class     Images  Instances      Box(P          R      mAP50  mAP50-95): 100%|██████████| 16/16 [00:07<00:00,  2.20it/s]"
          ]
        },
        {
          "output_type": "stream",
          "name": "stdout",
          "text": [
            "                   all        510       1003      0.849      0.801      0.873      0.504\n"
          ]
        },
        {
          "output_type": "stream",
          "name": "stderr",
          "text": [
            "\n"
          ]
        },
        {
          "output_type": "stream",
          "name": "stdout",
          "text": [
            "\n",
            "      Epoch    GPU_mem   box_loss   cls_loss   dfl_loss  Instances       Size\n"
          ]
        },
        {
          "output_type": "stream",
          "name": "stderr",
          "text": [
            "      46/50      17.5G      1.026     0.5865      1.312         26        640: 100%|██████████| 97/97 [01:09<00:00,  1.40it/s]\n",
            "                 Class     Images  Instances      Box(P          R      mAP50  mAP50-95): 100%|██████████| 16/16 [00:07<00:00,  2.21it/s]"
          ]
        },
        {
          "output_type": "stream",
          "name": "stdout",
          "text": [
            "                   all        510       1003      0.853       0.79      0.875      0.501\n"
          ]
        },
        {
          "output_type": "stream",
          "name": "stderr",
          "text": [
            "\n"
          ]
        },
        {
          "output_type": "stream",
          "name": "stdout",
          "text": [
            "\n",
            "      Epoch    GPU_mem   box_loss   cls_loss   dfl_loss  Instances       Size\n"
          ]
        },
        {
          "output_type": "stream",
          "name": "stderr",
          "text": [
            "      47/50      17.5G      1.016     0.5727      1.293         25        640: 100%|██████████| 97/97 [01:09<00:00,  1.40it/s]\n",
            "                 Class     Images  Instances      Box(P          R      mAP50  mAP50-95): 100%|██████████| 16/16 [00:07<00:00,  2.21it/s]"
          ]
        },
        {
          "output_type": "stream",
          "name": "stdout",
          "text": [
            "                   all        510       1003      0.841      0.818      0.879        0.5\n"
          ]
        },
        {
          "output_type": "stream",
          "name": "stderr",
          "text": [
            "\n"
          ]
        },
        {
          "output_type": "stream",
          "name": "stdout",
          "text": [
            "\n",
            "      Epoch    GPU_mem   box_loss   cls_loss   dfl_loss  Instances       Size\n"
          ]
        },
        {
          "output_type": "stream",
          "name": "stderr",
          "text": [
            "      48/50      17.5G     0.9886     0.5584      1.272         30        640: 100%|██████████| 97/97 [01:09<00:00,  1.40it/s]\n",
            "                 Class     Images  Instances      Box(P          R      mAP50  mAP50-95): 100%|██████████| 16/16 [00:07<00:00,  2.21it/s]"
          ]
        },
        {
          "output_type": "stream",
          "name": "stdout",
          "text": [
            "                   all        510       1003      0.855        0.8      0.878      0.509\n"
          ]
        },
        {
          "output_type": "stream",
          "name": "stderr",
          "text": [
            "\n"
          ]
        },
        {
          "output_type": "stream",
          "name": "stdout",
          "text": [
            "\n",
            "      Epoch    GPU_mem   box_loss   cls_loss   dfl_loss  Instances       Size\n"
          ]
        },
        {
          "output_type": "stream",
          "name": "stderr",
          "text": [
            "      49/50      17.5G     0.9773     0.5481      1.269         23        640: 100%|██████████| 97/97 [01:09<00:00,  1.40it/s]\n",
            "                 Class     Images  Instances      Box(P          R      mAP50  mAP50-95): 100%|██████████| 16/16 [00:07<00:00,  2.20it/s]"
          ]
        },
        {
          "output_type": "stream",
          "name": "stdout",
          "text": [
            "                   all        510       1003       0.85      0.781      0.871      0.498\n"
          ]
        },
        {
          "output_type": "stream",
          "name": "stderr",
          "text": [
            "\n"
          ]
        },
        {
          "output_type": "stream",
          "name": "stdout",
          "text": [
            "\n",
            "      Epoch    GPU_mem   box_loss   cls_loss   dfl_loss  Instances       Size\n"
          ]
        },
        {
          "output_type": "stream",
          "name": "stderr",
          "text": [
            "      50/50      17.5G     0.9585     0.5237      1.262         29        640: 100%|██████████| 97/97 [01:09<00:00,  1.40it/s]\n",
            "                 Class     Images  Instances      Box(P          R      mAP50  mAP50-95): 100%|██████████| 16/16 [00:07<00:00,  2.20it/s]"
          ]
        },
        {
          "output_type": "stream",
          "name": "stdout",
          "text": [
            "                   all        510       1003      0.874      0.791      0.879      0.508\n"
          ]
        },
        {
          "output_type": "stream",
          "name": "stderr",
          "text": [
            "\n"
          ]
        },
        {
          "output_type": "stream",
          "name": "stdout",
          "text": [
            "\n",
            "50 epochs completed in 1.105 hours.\n",
            "Optimizer stripped from runs/detect/train7/weights/last.pt, 194.9MB\n",
            "Optimizer stripped from runs/detect/train7/weights/best.pt, 194.9MB\n",
            "\n",
            "Validating runs/detect/train7/weights/best.pt...\n",
            "Ultralytics 8.3.96 🚀 Python-3.11.11 torch-2.6.0+cu124 CUDA:0 (NVIDIA L4, 22693MiB)\n",
            "YOLOv5x summary (fused): 150 layers, 97,153,571 parameters, 0 gradients, 246.0 GFLOPs\n"
          ]
        },
        {
          "output_type": "stream",
          "name": "stderr",
          "text": [
            "                 Class     Images  Instances      Box(P          R      mAP50  mAP50-95): 100%|██████████| 16/16 [00:07<00:00,  2.17it/s]\n"
          ]
        },
        {
          "output_type": "stream",
          "name": "stdout",
          "text": [
            "                   all        510       1003      0.856      0.798      0.878      0.509\n",
            "Speed: 0.1ms preprocess, 10.5ms inference, 0.0ms loss, 0.8ms postprocess per image\n",
            "Results saved to \u001b[1mruns/detect/train7\u001b[0m\n"
          ]
        },
        {
          "output_type": "execute_result",
          "data": {
            "text/plain": [
              "ultralytics.utils.metrics.DetMetrics object with attributes:\n",
              "\n",
              "ap_class_index: array([0])\n",
              "box: ultralytics.utils.metrics.Metric object\n",
              "confusion_matrix: <ultralytics.utils.metrics.ConfusionMatrix object at 0x7d3153f3d990>\n",
              "curves: ['Precision-Recall(B)', 'F1-Confidence(B)', 'Precision-Confidence(B)', 'Recall-Confidence(B)']\n",
              "curves_results: [[array([          0,    0.001001,    0.002002,    0.003003,    0.004004,    0.005005,    0.006006,    0.007007,    0.008008,    0.009009,     0.01001,    0.011011,    0.012012,    0.013013,    0.014014,    0.015015,    0.016016,    0.017017,    0.018018,    0.019019,     0.02002,    0.021021,    0.022022,    0.023023,\n",
              "          0.024024,    0.025025,    0.026026,    0.027027,    0.028028,    0.029029,     0.03003,    0.031031,    0.032032,    0.033033,    0.034034,    0.035035,    0.036036,    0.037037,    0.038038,    0.039039,     0.04004,    0.041041,    0.042042,    0.043043,    0.044044,    0.045045,    0.046046,    0.047047,\n",
              "          0.048048,    0.049049,     0.05005,    0.051051,    0.052052,    0.053053,    0.054054,    0.055055,    0.056056,    0.057057,    0.058058,    0.059059,     0.06006,    0.061061,    0.062062,    0.063063,    0.064064,    0.065065,    0.066066,    0.067067,    0.068068,    0.069069,     0.07007,    0.071071,\n",
              "          0.072072,    0.073073,    0.074074,    0.075075,    0.076076,    0.077077,    0.078078,    0.079079,     0.08008,    0.081081,    0.082082,    0.083083,    0.084084,    0.085085,    0.086086,    0.087087,    0.088088,    0.089089,     0.09009,    0.091091,    0.092092,    0.093093,    0.094094,    0.095095,\n",
              "          0.096096,    0.097097,    0.098098,    0.099099,      0.1001,      0.1011,      0.1021,      0.1031,      0.1041,     0.10511,     0.10611,     0.10711,     0.10811,     0.10911,     0.11011,     0.11111,     0.11211,     0.11311,     0.11411,     0.11512,     0.11612,     0.11712,     0.11812,     0.11912,\n",
              "           0.12012,     0.12112,     0.12212,     0.12312,     0.12412,     0.12513,     0.12613,     0.12713,     0.12813,     0.12913,     0.13013,     0.13113,     0.13213,     0.13313,     0.13413,     0.13514,     0.13614,     0.13714,     0.13814,     0.13914,     0.14014,     0.14114,     0.14214,     0.14314,\n",
              "           0.14414,     0.14515,     0.14615,     0.14715,     0.14815,     0.14915,     0.15015,     0.15115,     0.15215,     0.15315,     0.15415,     0.15516,     0.15616,     0.15716,     0.15816,     0.15916,     0.16016,     0.16116,     0.16216,     0.16316,     0.16416,     0.16517,     0.16617,     0.16717,\n",
              "           0.16817,     0.16917,     0.17017,     0.17117,     0.17217,     0.17317,     0.17417,     0.17518,     0.17618,     0.17718,     0.17818,     0.17918,     0.18018,     0.18118,     0.18218,     0.18318,     0.18418,     0.18519,     0.18619,     0.18719,     0.18819,     0.18919,     0.19019,     0.19119,\n",
              "           0.19219,     0.19319,     0.19419,      0.1952,      0.1962,      0.1972,      0.1982,      0.1992,      0.2002,      0.2012,      0.2022,      0.2032,      0.2042,     0.20521,     0.20621,     0.20721,     0.20821,     0.20921,     0.21021,     0.21121,     0.21221,     0.21321,     0.21421,     0.21522,\n",
              "           0.21622,     0.21722,     0.21822,     0.21922,     0.22022,     0.22122,     0.22222,     0.22322,     0.22422,     0.22523,     0.22623,     0.22723,     0.22823,     0.22923,     0.23023,     0.23123,     0.23223,     0.23323,     0.23423,     0.23524,     0.23624,     0.23724,     0.23824,     0.23924,\n",
              "           0.24024,     0.24124,     0.24224,     0.24324,     0.24424,     0.24525,     0.24625,     0.24725,     0.24825,     0.24925,     0.25025,     0.25125,     0.25225,     0.25325,     0.25425,     0.25526,     0.25626,     0.25726,     0.25826,     0.25926,     0.26026,     0.26126,     0.26226,     0.26326,\n",
              "           0.26426,     0.26527,     0.26627,     0.26727,     0.26827,     0.26927,     0.27027,     0.27127,     0.27227,     0.27327,     0.27427,     0.27528,     0.27628,     0.27728,     0.27828,     0.27928,     0.28028,     0.28128,     0.28228,     0.28328,     0.28428,     0.28529,     0.28629,     0.28729,\n",
              "           0.28829,     0.28929,     0.29029,     0.29129,     0.29229,     0.29329,     0.29429,      0.2953,      0.2963,      0.2973,      0.2983,      0.2993,      0.3003,      0.3013,      0.3023,      0.3033,      0.3043,     0.30531,     0.30631,     0.30731,     0.30831,     0.30931,     0.31031,     0.31131,\n",
              "           0.31231,     0.31331,     0.31431,     0.31532,     0.31632,     0.31732,     0.31832,     0.31932,     0.32032,     0.32132,     0.32232,     0.32332,     0.32432,     0.32533,     0.32633,     0.32733,     0.32833,     0.32933,     0.33033,     0.33133,     0.33233,     0.33333,     0.33433,     0.33534,\n",
              "           0.33634,     0.33734,     0.33834,     0.33934,     0.34034,     0.34134,     0.34234,     0.34334,     0.34434,     0.34535,     0.34635,     0.34735,     0.34835,     0.34935,     0.35035,     0.35135,     0.35235,     0.35335,     0.35435,     0.35536,     0.35636,     0.35736,     0.35836,     0.35936,\n",
              "           0.36036,     0.36136,     0.36236,     0.36336,     0.36436,     0.36537,     0.36637,     0.36737,     0.36837,     0.36937,     0.37037,     0.37137,     0.37237,     0.37337,     0.37437,     0.37538,     0.37638,     0.37738,     0.37838,     0.37938,     0.38038,     0.38138,     0.38238,     0.38338,\n",
              "           0.38438,     0.38539,     0.38639,     0.38739,     0.38839,     0.38939,     0.39039,     0.39139,     0.39239,     0.39339,     0.39439,      0.3954,      0.3964,      0.3974,      0.3984,      0.3994,      0.4004,      0.4014,      0.4024,      0.4034,      0.4044,     0.40541,     0.40641,     0.40741,\n",
              "           0.40841,     0.40941,     0.41041,     0.41141,     0.41241,     0.41341,     0.41441,     0.41542,     0.41642,     0.41742,     0.41842,     0.41942,     0.42042,     0.42142,     0.42242,     0.42342,     0.42442,     0.42543,     0.42643,     0.42743,     0.42843,     0.42943,     0.43043,     0.43143,\n",
              "           0.43243,     0.43343,     0.43443,     0.43544,     0.43644,     0.43744,     0.43844,     0.43944,     0.44044,     0.44144,     0.44244,     0.44344,     0.44444,     0.44545,     0.44645,     0.44745,     0.44845,     0.44945,     0.45045,     0.45145,     0.45245,     0.45345,     0.45445,     0.45546,\n",
              "           0.45646,     0.45746,     0.45846,     0.45946,     0.46046,     0.46146,     0.46246,     0.46346,     0.46446,     0.46547,     0.46647,     0.46747,     0.46847,     0.46947,     0.47047,     0.47147,     0.47247,     0.47347,     0.47447,     0.47548,     0.47648,     0.47748,     0.47848,     0.47948,\n",
              "           0.48048,     0.48148,     0.48248,     0.48348,     0.48448,     0.48549,     0.48649,     0.48749,     0.48849,     0.48949,     0.49049,     0.49149,     0.49249,     0.49349,     0.49449,      0.4955,      0.4965,      0.4975,      0.4985,      0.4995,      0.5005,      0.5015,      0.5025,      0.5035,\n",
              "            0.5045,     0.50551,     0.50651,     0.50751,     0.50851,     0.50951,     0.51051,     0.51151,     0.51251,     0.51351,     0.51451,     0.51552,     0.51652,     0.51752,     0.51852,     0.51952,     0.52052,     0.52152,     0.52252,     0.52352,     0.52452,     0.52553,     0.52653,     0.52753,\n",
              "           0.52853,     0.52953,     0.53053,     0.53153,     0.53253,     0.53353,     0.53453,     0.53554,     0.53654,     0.53754,     0.53854,     0.53954,     0.54054,     0.54154,     0.54254,     0.54354,     0.54454,     0.54555,     0.54655,     0.54755,     0.54855,     0.54955,     0.55055,     0.55155,\n",
              "           0.55255,     0.55355,     0.55455,     0.55556,     0.55656,     0.55756,     0.55856,     0.55956,     0.56056,     0.56156,     0.56256,     0.56356,     0.56456,     0.56557,     0.56657,     0.56757,     0.56857,     0.56957,     0.57057,     0.57157,     0.57257,     0.57357,     0.57457,     0.57558,\n",
              "           0.57658,     0.57758,     0.57858,     0.57958,     0.58058,     0.58158,     0.58258,     0.58358,     0.58458,     0.58559,     0.58659,     0.58759,     0.58859,     0.58959,     0.59059,     0.59159,     0.59259,     0.59359,     0.59459,      0.5956,      0.5966,      0.5976,      0.5986,      0.5996,\n",
              "            0.6006,      0.6016,      0.6026,      0.6036,      0.6046,     0.60561,     0.60661,     0.60761,     0.60861,     0.60961,     0.61061,     0.61161,     0.61261,     0.61361,     0.61461,     0.61562,     0.61662,     0.61762,     0.61862,     0.61962,     0.62062,     0.62162,     0.62262,     0.62362,\n",
              "           0.62462,     0.62563,     0.62663,     0.62763,     0.62863,     0.62963,     0.63063,     0.63163,     0.63263,     0.63363,     0.63463,     0.63564,     0.63664,     0.63764,     0.63864,     0.63964,     0.64064,     0.64164,     0.64264,     0.64364,     0.64464,     0.64565,     0.64665,     0.64765,\n",
              "           0.64865,     0.64965,     0.65065,     0.65165,     0.65265,     0.65365,     0.65465,     0.65566,     0.65666,     0.65766,     0.65866,     0.65966,     0.66066,     0.66166,     0.66266,     0.66366,     0.66466,     0.66567,     0.66667,     0.66767,     0.66867,     0.66967,     0.67067,     0.67167,\n",
              "           0.67267,     0.67367,     0.67467,     0.67568,     0.67668,     0.67768,     0.67868,     0.67968,     0.68068,     0.68168,     0.68268,     0.68368,     0.68468,     0.68569,     0.68669,     0.68769,     0.68869,     0.68969,     0.69069,     0.69169,     0.69269,     0.69369,     0.69469,      0.6957,\n",
              "            0.6967,      0.6977,      0.6987,      0.6997,      0.7007,      0.7017,      0.7027,      0.7037,      0.7047,     0.70571,     0.70671,     0.70771,     0.70871,     0.70971,     0.71071,     0.71171,     0.71271,     0.71371,     0.71471,     0.71572,     0.71672,     0.71772,     0.71872,     0.71972,\n",
              "           0.72072,     0.72172,     0.72272,     0.72372,     0.72472,     0.72573,     0.72673,     0.72773,     0.72873,     0.72973,     0.73073,     0.73173,     0.73273,     0.73373,     0.73473,     0.73574,     0.73674,     0.73774,     0.73874,     0.73974,     0.74074,     0.74174,     0.74274,     0.74374,\n",
              "           0.74474,     0.74575,     0.74675,     0.74775,     0.74875,     0.74975,     0.75075,     0.75175,     0.75275,     0.75375,     0.75475,     0.75576,     0.75676,     0.75776,     0.75876,     0.75976,     0.76076,     0.76176,     0.76276,     0.76376,     0.76476,     0.76577,     0.76677,     0.76777,\n",
              "           0.76877,     0.76977,     0.77077,     0.77177,     0.77277,     0.77377,     0.77477,     0.77578,     0.77678,     0.77778,     0.77878,     0.77978,     0.78078,     0.78178,     0.78278,     0.78378,     0.78478,     0.78579,     0.78679,     0.78779,     0.78879,     0.78979,     0.79079,     0.79179,\n",
              "           0.79279,     0.79379,     0.79479,      0.7958,      0.7968,      0.7978,      0.7988,      0.7998,      0.8008,      0.8018,      0.8028,      0.8038,      0.8048,     0.80581,     0.80681,     0.80781,     0.80881,     0.80981,     0.81081,     0.81181,     0.81281,     0.81381,     0.81481,     0.81582,\n",
              "           0.81682,     0.81782,     0.81882,     0.81982,     0.82082,     0.82182,     0.82282,     0.82382,     0.82482,     0.82583,     0.82683,     0.82783,     0.82883,     0.82983,     0.83083,     0.83183,     0.83283,     0.83383,     0.83483,     0.83584,     0.83684,     0.83784,     0.83884,     0.83984,\n",
              "           0.84084,     0.84184,     0.84284,     0.84384,     0.84484,     0.84585,     0.84685,     0.84785,     0.84885,     0.84985,     0.85085,     0.85185,     0.85285,     0.85385,     0.85485,     0.85586,     0.85686,     0.85786,     0.85886,     0.85986,     0.86086,     0.86186,     0.86286,     0.86386,\n",
              "           0.86486,     0.86587,     0.86687,     0.86787,     0.86887,     0.86987,     0.87087,     0.87187,     0.87287,     0.87387,     0.87487,     0.87588,     0.87688,     0.87788,     0.87888,     0.87988,     0.88088,     0.88188,     0.88288,     0.88388,     0.88488,     0.88589,     0.88689,     0.88789,\n",
              "           0.88889,     0.88989,     0.89089,     0.89189,     0.89289,     0.89389,     0.89489,      0.8959,      0.8969,      0.8979,      0.8989,      0.8999,      0.9009,      0.9019,      0.9029,      0.9039,      0.9049,     0.90591,     0.90691,     0.90791,     0.90891,     0.90991,     0.91091,     0.91191,\n",
              "           0.91291,     0.91391,     0.91491,     0.91592,     0.91692,     0.91792,     0.91892,     0.91992,     0.92092,     0.92192,     0.92292,     0.92392,     0.92492,     0.92593,     0.92693,     0.92793,     0.92893,     0.92993,     0.93093,     0.93193,     0.93293,     0.93393,     0.93493,     0.93594,\n",
              "           0.93694,     0.93794,     0.93894,     0.93994,     0.94094,     0.94194,     0.94294,     0.94394,     0.94494,     0.94595,     0.94695,     0.94795,     0.94895,     0.94995,     0.95095,     0.95195,     0.95295,     0.95395,     0.95495,     0.95596,     0.95696,     0.95796,     0.95896,     0.95996,\n",
              "           0.96096,     0.96196,     0.96296,     0.96396,     0.96496,     0.96597,     0.96697,     0.96797,     0.96897,     0.96997,     0.97097,     0.97197,     0.97297,     0.97397,     0.97497,     0.97598,     0.97698,     0.97798,     0.97898,     0.97998,     0.98098,     0.98198,     0.98298,     0.98398,\n",
              "           0.98498,     0.98599,     0.98699,     0.98799,     0.98899,     0.98999,     0.99099,     0.99199,     0.99299,     0.99399,     0.99499,       0.996,       0.997,       0.998,       0.999,           1]), array([[          1,           1,           1,           1,           1,           1,           1,           1,           1,           1,           1,           1,           1,           1,           1,           1,           1,           1,           1,           1,           1,           1,           1,\n",
              "                  1,           1,           1,           1,           1,           1,           1,           1,           1,           1,           1,           1,           1,           1,           1,           1,           1,           1,           1,           1,           1,      0.9912,      0.9912,\n",
              "             0.9912,      0.9912,      0.9912,      0.9912,      0.9912,      0.9912,      0.9912,      0.9912,      0.9912,      0.9912,      0.9912,      0.9912,      0.9912,      0.9912,      0.9912,      0.9912,      0.9912,      0.9912,      0.9912,      0.9912,      0.9912,      0.9912,      0.9912,\n",
              "             0.9912,      0.9912,      0.9912,      0.9912,      0.9912,      0.9912,      0.9912,      0.9912,      0.9912,      0.9912,      0.9912,      0.9912,      0.9912,      0.9912,      0.9912,      0.9912,      0.9912,      0.9912,      0.9912,      0.9912,      0.9912,      0.9912,      0.9912,\n",
              "             0.9912,      0.9912,      0.9912,      0.9912,      0.9912,      0.9912,      0.9912,      0.9912,      0.9912,      0.9912,      0.9912,      0.9912,      0.9912,      0.9912,      0.9912,      0.9912,      0.9912,      0.9912,      0.9912,      0.9912,      0.9912,      0.9912,      0.9912,\n",
              "             0.9912,      0.9912,      0.9912,      0.9912,      0.9912,      0.9912,      0.9912,      0.9912,      0.9912,      0.9912,      0.9912,      0.9912,      0.9912,      0.9912,      0.9912,      0.9912,      0.9912,      0.9912,      0.9912,      0.9912,      0.9912,      0.9912,      0.9912,\n",
              "             0.9912,      0.9912,      0.9912,      0.9912,      0.9912,      0.9912,      0.9912,      0.9912,      0.9912,      0.9912,      0.9912,      0.9912,      0.9912,      0.9912,      0.9912,      0.9912,      0.9912,      0.9912,      0.9912,      0.9912,      0.9912,      0.9912,      0.9912,\n",
              "             0.9912,      0.9912,      0.9912,      0.9912,      0.9912,      0.9912,      0.9912,      0.9912,      0.9912,      0.9912,      0.9912,      0.9912,      0.9912,      0.9912,      0.9912,      0.9912,      0.9912,      0.9912,      0.9912,      0.9912,      0.9912,      0.9912,      0.9912,\n",
              "             0.9912,      0.9912,      0.9912,      0.9912,      0.9912,      0.9912,      0.9912,      0.9912,      0.9912,      0.9912,      0.9912,      0.9912,      0.9912,      0.9912,      0.9912,      0.9912,      0.9912,      0.9912,      0.9912,      0.9912,      0.9912,      0.9912,      0.9912,\n",
              "             0.9912,      0.9912,      0.9912,      0.9912,      0.9912,      0.9912,      0.9912,      0.9912,      0.9912,      0.9912,      0.9912,      0.9912,      0.9912,      0.9912,      0.9912,      0.9912,      0.9912,      0.9912,      0.9912,      0.9912,      0.9912,      0.9912,      0.9912,\n",
              "             0.9912,      0.9912,      0.9912,      0.9912,      0.9912,      0.9912,      0.9912,      0.9912,      0.9912,      0.9912,      0.9912,      0.9912,      0.9912,      0.9912,      0.9912,      0.9912,      0.9912,      0.9912,      0.9912,      0.9912,      0.9912,      0.9912,      0.9912,\n",
              "             0.9912,      0.9912,      0.9912,      0.9912,      0.9912,      0.9912,      0.9912,      0.9912,      0.9912,      0.9912,      0.9912,      0.9912,      0.9912,      0.9912,      0.9912,      0.9912,      0.9912,      0.9912,      0.9912,      0.9912,      0.9912,      0.9912,      0.9912,\n",
              "             0.9912,      0.9912,      0.9912,      0.9912,      0.9912,      0.9912,      0.9912,      0.9912,      0.9912,      0.9912,      0.9912,      0.9912,      0.9912,      0.9912,      0.9912,      0.9912,      0.9912,      0.9912,      0.9912,      0.9912,      0.9912,      0.9912,      0.9912,\n",
              "             0.9912,      0.9912,      0.9912,      0.9912,      0.9912,      0.9912,      0.9912,      0.9912,      0.9912,      0.9912,      0.9912,      0.9912,      0.9912,      0.9912,      0.9912,      0.9912,      0.9912,      0.9912,      0.9912,      0.9912,      0.9912,      0.9912,      0.9912,\n",
              "             0.9912,      0.9912,      0.9912,      0.9912,      0.9912,      0.9912,      0.9912,      0.9912,      0.9912,      0.9912,      0.9912,      0.9912,      0.9912,      0.9912,      0.9912,     0.98969,     0.98969,     0.98969,     0.98969,     0.98969,     0.98969,     0.98969,     0.98969,\n",
              "            0.98969,     0.98969,     0.98969,     0.98969,     0.98969,     0.98969,     0.98969,     0.98969,     0.98969,     0.98969,     0.98969,     0.98969,     0.98969,     0.98969,     0.98969,     0.98969,     0.98969,     0.98969,     0.98969,     0.98969,     0.98969,     0.98969,     0.98969,\n",
              "            0.98969,     0.98969,     0.98969,     0.98969,     0.98969,     0.98969,     0.98969,     0.98969,     0.98969,     0.98969,     0.98969,     0.98969,     0.98969,     0.98969,     0.98969,     0.98721,     0.98721,     0.98489,     0.98489,     0.98489,     0.98489,     0.98489,     0.98297,\n",
              "            0.98297,     0.98297,     0.98297,     0.98297,     0.98297,     0.98297,     0.98297,     0.98297,     0.98297,     0.98297,     0.98297,     0.98297,     0.98118,     0.98118,     0.98118,     0.98118,     0.98118,     0.98118,     0.98118,     0.98118,     0.98118,     0.98118,     0.98118,\n",
              "            0.98118,     0.98118,     0.97892,      0.9784,      0.9784,      0.9784,      0.9784,      0.9784,      0.9784,      0.9784,      0.9784,      0.9784,      0.9784,      0.9784,      0.9784,      0.9784,      0.9784,      0.9784,      0.9784,      0.9784,      0.9784,      0.9784,      0.9784,\n",
              "             0.9784,      0.9784,      0.9784,      0.9784,      0.9784,      0.9784,      0.9784,      0.9784,      0.9784,      0.9784,      0.9784,      0.9784,      0.9784,      0.9784,      0.9784,     0.97817,     0.97817,     0.97817,     0.97817,     0.97817,     0.97817,     0.97817,     0.97817,\n",
              "            0.97817,     0.97817,     0.97817,     0.97817,     0.97817,     0.97817,     0.97817,     0.97817,     0.97817,     0.97817,     0.97817,     0.97817,     0.97817,     0.97817,     0.97817,     0.97817,     0.97817,     0.97817,     0.97817,     0.97817,     0.97817,     0.97817,     0.97817,\n",
              "            0.97817,     0.97817,     0.97817,     0.97817,     0.97817,     0.97817,     0.97817,     0.97817,     0.97817,     0.97683,     0.97683,     0.97683,     0.97683,     0.97683,     0.97683,     0.97683,     0.97683,     0.97683,     0.97683,     0.97683,     0.97683,     0.97552,     0.97552,\n",
              "            0.97552,     0.97552,     0.97552,     0.97552,     0.97552,     0.97552,     0.97552,     0.97552,     0.97552,     0.97552,     0.97426,     0.97426,     0.97426,     0.97426,     0.97426,     0.97426,     0.97426,     0.97426,     0.97426,     0.97426,     0.97426,     0.97426,     0.97302,\n",
              "            0.97302,     0.97302,     0.97302,     0.97302,     0.97302,     0.97302,     0.97302,     0.97302,     0.97302,     0.97302,     0.97153,     0.97153,     0.97153,     0.97153,     0.97153,     0.97114,     0.97114,     0.97114,     0.97114,     0.97114,     0.97114,     0.97114,     0.97114,\n",
              "            0.97114,     0.97114,     0.97114,     0.97114,     0.97114,     0.97114,     0.97114,     0.97114,     0.97114,     0.97114,     0.97114,     0.97114,     0.97114,     0.97114,     0.97114,     0.97114,     0.97114,     0.97114,     0.96833,     0.96833,     0.96833,     0.96833,     0.96833,\n",
              "            0.96833,     0.96833,     0.96833,     0.96833,     0.96694,     0.96694,     0.96694,     0.96694,     0.96546,     0.96546,     0.96393,     0.96254,     0.96254,     0.96254,     0.96148,     0.96148,     0.96148,     0.96148,     0.96148,     0.96148,     0.96148,     0.96148,     0.96038,\n",
              "            0.96038,     0.96038,     0.96038,     0.96038,     0.96038,     0.96038,     0.95899,     0.95899,     0.95775,     0.95775,     0.95775,     0.95775,      0.9549,      0.9549,     0.95441,     0.95441,     0.95441,     0.95441,     0.95441,     0.95441,     0.95441,     0.95441,     0.95441,\n",
              "            0.95441,     0.95441,     0.95441,     0.95441,     0.95441,     0.95159,     0.95038,     0.95038,     0.95038,      0.9476,     0.94659,     0.94659,     0.94659,     0.94659,     0.94659,     0.94428,     0.94428,     0.94428,     0.94428,     0.94428,     0.94428,     0.94331,     0.94331,\n",
              "            0.94331,     0.94331,     0.94331,     0.94269,     0.94269,     0.94269,     0.94269,     0.94269,     0.94269,     0.94269,     0.94269,     0.94269,     0.94151,     0.94151,     0.94109,     0.94109,     0.94109,     0.94109,     0.94109,     0.94109,     0.94109,     0.94109,     0.94109,\n",
              "            0.94109,     0.94109,     0.93986,     0.93914,     0.93914,     0.93914,     0.93914,     0.93914,     0.93914,     0.93914,     0.93819,     0.93819,     0.93819,     0.93819,     0.93767,     0.93767,     0.93767,     0.93767,     0.93767,     0.93767,     0.93767,     0.93767,     0.93767,\n",
              "            0.93649,     0.93574,     0.93574,     0.93574,     0.93574,     0.93574,     0.93574,     0.93501,     0.93501,     0.93501,     0.93501,     0.93501,     0.93501,     0.93447,     0.93447,     0.93447,     0.93447,     0.93447,     0.93447,     0.93447,     0.93447,     0.93333,     0.93152,\n",
              "            0.93152,     0.93152,     0.93152,     0.93152,     0.93152,     0.93152,     0.93041,     0.92692,     0.92347,     0.92278,     0.92278,     0.92278,     0.92278,     0.92278,      0.9195,      0.9195,     0.91615,     0.91511,     0.91294,     0.91202,     0.91202,     0.90887,     0.90887,\n",
              "            0.90798,     0.90798,     0.90698,     0.90511,     0.90511,     0.90511,     0.90217,     0.90217,     0.90217,     0.90132,     0.90132,      0.9006,      0.9006,      0.9006,     0.89762,     0.89667,     0.89586,     0.89586,     0.89542,     0.89542,     0.89542,     0.89542,     0.89542,\n",
              "             0.8924,     0.89044,     0.88966,     0.88966,     0.88466,     0.88377,      0.8833,      0.8833,      0.8833,      0.8833,     0.88222,     0.88222,     0.88222,     0.88222,     0.88222,     0.88222,     0.88222,     0.87346,     0.87319,     0.87319,     0.87319,     0.87319,     0.87319,\n",
              "            0.87043,     0.86961,      0.8688,     0.86799,     0.86732,     0.86732,     0.86652,     0.86601,     0.86601,     0.86601,     0.86349,     0.86349,      0.8627,     0.86114,     0.86114,     0.85577,     0.85501,     0.85426,     0.85142,     0.85142,     0.85142,     0.85142,     0.85142,\n",
              "             0.8489,     0.84728,     0.84656,     0.84583,     0.84511,     0.84352,     0.83864,     0.83864,     0.83795,     0.83401,     0.83401,     0.82912,     0.82762,     0.82696,     0.82648,     0.82648,     0.82583,     0.82189,     0.81962,     0.81899,     0.81836,     0.81729,     0.81729,\n",
              "            0.81729,     0.81667,     0.81305,     0.81305,     0.81244,      0.8087,     0.80134,     0.80134,     0.79962,     0.79962,     0.79962,     0.79155,     0.78698,     0.78698,     0.78698,     0.78571,     0.78519,     0.78486,     0.78486,     0.78453,     0.78453,     0.78401,      0.7792,\n",
              "            0.77798,     0.77466,     0.77207,     0.76882,     0.76765,     0.76717,     0.76398,     0.76304,     0.76304,     0.75678,     0.75678,     0.75436,        0.75,     0.74828,     0.74592,     0.74232,     0.73939,     0.73401,     0.73361,     0.73138,     0.72856,     0.72818,     0.72479,\n",
              "            0.71967,     0.71814,     0.70513,     0.70367,     0.70056,     0.69528,     0.69388,     0.68498,      0.6847,     0.68336,      0.6789,     0.67502,     0.67373,     0.67347,      0.6727,     0.64384,     0.63994,     0.63974,     0.63954,     0.63934,     0.62709,     0.61957,     0.61941,\n",
              "            0.61043,     0.60456,     0.60442,     0.59474,     0.59383,     0.57965,     0.57955,     0.57945,     0.56007,     0.55726,     0.54584,     0.53964,     0.53896,      0.5367,      0.5286,     0.51664,     0.51546,     0.49143,     0.47996,     0.47996,     0.47996,     0.47996,     0.47898,\n",
              "            0.46737,     0.46694,     0.45683,     0.45665,     0.44323,     0.44323,      0.4356,     0.43363,     0.41021,       0.395,     0.39459,     0.39335,     0.37818,     0.37109,       0.363,     0.36046,     0.35701,     0.34293,     0.33487,     0.30989,     0.29019,     0.27265,     0.27168,\n",
              "            0.22214,     0.22134,     0.22111,     0.21774,     0.20183,     0.19591,     0.19207,     0.18823,     0.18439,     0.18054,      0.1767,     0.17286,     0.16902,     0.16518,     0.16134,      0.1575,     0.15365,     0.14981,     0.14597,     0.14213,     0.13829,     0.13445,     0.13061,\n",
              "            0.12676,     0.12292,     0.11908,     0.11524,      0.1114,     0.10756,     0.10372,    0.099875,    0.096034,    0.092193,    0.088351,     0.08451,    0.080669,    0.076827,    0.072986,    0.069144,    0.065303,    0.061462,     0.05762,    0.053779,    0.049938,    0.046096,    0.042255,\n",
              "           0.038414,    0.034572,    0.030731,     0.02689,    0.023048,    0.019207,    0.015365,    0.011524,   0.0076827,   0.0038414,           0]]), 'Recall', 'Precision'], [array([          0,    0.001001,    0.002002,    0.003003,    0.004004,    0.005005,    0.006006,    0.007007,    0.008008,    0.009009,     0.01001,    0.011011,    0.012012,    0.013013,    0.014014,    0.015015,    0.016016,    0.017017,    0.018018,    0.019019,     0.02002,    0.021021,    0.022022,    0.023023,\n",
              "          0.024024,    0.025025,    0.026026,    0.027027,    0.028028,    0.029029,     0.03003,    0.031031,    0.032032,    0.033033,    0.034034,    0.035035,    0.036036,    0.037037,    0.038038,    0.039039,     0.04004,    0.041041,    0.042042,    0.043043,    0.044044,    0.045045,    0.046046,    0.047047,\n",
              "          0.048048,    0.049049,     0.05005,    0.051051,    0.052052,    0.053053,    0.054054,    0.055055,    0.056056,    0.057057,    0.058058,    0.059059,     0.06006,    0.061061,    0.062062,    0.063063,    0.064064,    0.065065,    0.066066,    0.067067,    0.068068,    0.069069,     0.07007,    0.071071,\n",
              "          0.072072,    0.073073,    0.074074,    0.075075,    0.076076,    0.077077,    0.078078,    0.079079,     0.08008,    0.081081,    0.082082,    0.083083,    0.084084,    0.085085,    0.086086,    0.087087,    0.088088,    0.089089,     0.09009,    0.091091,    0.092092,    0.093093,    0.094094,    0.095095,\n",
              "          0.096096,    0.097097,    0.098098,    0.099099,      0.1001,      0.1011,      0.1021,      0.1031,      0.1041,     0.10511,     0.10611,     0.10711,     0.10811,     0.10911,     0.11011,     0.11111,     0.11211,     0.11311,     0.11411,     0.11512,     0.11612,     0.11712,     0.11812,     0.11912,\n",
              "           0.12012,     0.12112,     0.12212,     0.12312,     0.12412,     0.12513,     0.12613,     0.12713,     0.12813,     0.12913,     0.13013,     0.13113,     0.13213,     0.13313,     0.13413,     0.13514,     0.13614,     0.13714,     0.13814,     0.13914,     0.14014,     0.14114,     0.14214,     0.14314,\n",
              "           0.14414,     0.14515,     0.14615,     0.14715,     0.14815,     0.14915,     0.15015,     0.15115,     0.15215,     0.15315,     0.15415,     0.15516,     0.15616,     0.15716,     0.15816,     0.15916,     0.16016,     0.16116,     0.16216,     0.16316,     0.16416,     0.16517,     0.16617,     0.16717,\n",
              "           0.16817,     0.16917,     0.17017,     0.17117,     0.17217,     0.17317,     0.17417,     0.17518,     0.17618,     0.17718,     0.17818,     0.17918,     0.18018,     0.18118,     0.18218,     0.18318,     0.18418,     0.18519,     0.18619,     0.18719,     0.18819,     0.18919,     0.19019,     0.19119,\n",
              "           0.19219,     0.19319,     0.19419,      0.1952,      0.1962,      0.1972,      0.1982,      0.1992,      0.2002,      0.2012,      0.2022,      0.2032,      0.2042,     0.20521,     0.20621,     0.20721,     0.20821,     0.20921,     0.21021,     0.21121,     0.21221,     0.21321,     0.21421,     0.21522,\n",
              "           0.21622,     0.21722,     0.21822,     0.21922,     0.22022,     0.22122,     0.22222,     0.22322,     0.22422,     0.22523,     0.22623,     0.22723,     0.22823,     0.22923,     0.23023,     0.23123,     0.23223,     0.23323,     0.23423,     0.23524,     0.23624,     0.23724,     0.23824,     0.23924,\n",
              "           0.24024,     0.24124,     0.24224,     0.24324,     0.24424,     0.24525,     0.24625,     0.24725,     0.24825,     0.24925,     0.25025,     0.25125,     0.25225,     0.25325,     0.25425,     0.25526,     0.25626,     0.25726,     0.25826,     0.25926,     0.26026,     0.26126,     0.26226,     0.26326,\n",
              "           0.26426,     0.26527,     0.26627,     0.26727,     0.26827,     0.26927,     0.27027,     0.27127,     0.27227,     0.27327,     0.27427,     0.27528,     0.27628,     0.27728,     0.27828,     0.27928,     0.28028,     0.28128,     0.28228,     0.28328,     0.28428,     0.28529,     0.28629,     0.28729,\n",
              "           0.28829,     0.28929,     0.29029,     0.29129,     0.29229,     0.29329,     0.29429,      0.2953,      0.2963,      0.2973,      0.2983,      0.2993,      0.3003,      0.3013,      0.3023,      0.3033,      0.3043,     0.30531,     0.30631,     0.30731,     0.30831,     0.30931,     0.31031,     0.31131,\n",
              "           0.31231,     0.31331,     0.31431,     0.31532,     0.31632,     0.31732,     0.31832,     0.31932,     0.32032,     0.32132,     0.32232,     0.32332,     0.32432,     0.32533,     0.32633,     0.32733,     0.32833,     0.32933,     0.33033,     0.33133,     0.33233,     0.33333,     0.33433,     0.33534,\n",
              "           0.33634,     0.33734,     0.33834,     0.33934,     0.34034,     0.34134,     0.34234,     0.34334,     0.34434,     0.34535,     0.34635,     0.34735,     0.34835,     0.34935,     0.35035,     0.35135,     0.35235,     0.35335,     0.35435,     0.35536,     0.35636,     0.35736,     0.35836,     0.35936,\n",
              "           0.36036,     0.36136,     0.36236,     0.36336,     0.36436,     0.36537,     0.36637,     0.36737,     0.36837,     0.36937,     0.37037,     0.37137,     0.37237,     0.37337,     0.37437,     0.37538,     0.37638,     0.37738,     0.37838,     0.37938,     0.38038,     0.38138,     0.38238,     0.38338,\n",
              "           0.38438,     0.38539,     0.38639,     0.38739,     0.38839,     0.38939,     0.39039,     0.39139,     0.39239,     0.39339,     0.39439,      0.3954,      0.3964,      0.3974,      0.3984,      0.3994,      0.4004,      0.4014,      0.4024,      0.4034,      0.4044,     0.40541,     0.40641,     0.40741,\n",
              "           0.40841,     0.40941,     0.41041,     0.41141,     0.41241,     0.41341,     0.41441,     0.41542,     0.41642,     0.41742,     0.41842,     0.41942,     0.42042,     0.42142,     0.42242,     0.42342,     0.42442,     0.42543,     0.42643,     0.42743,     0.42843,     0.42943,     0.43043,     0.43143,\n",
              "           0.43243,     0.43343,     0.43443,     0.43544,     0.43644,     0.43744,     0.43844,     0.43944,     0.44044,     0.44144,     0.44244,     0.44344,     0.44444,     0.44545,     0.44645,     0.44745,     0.44845,     0.44945,     0.45045,     0.45145,     0.45245,     0.45345,     0.45445,     0.45546,\n",
              "           0.45646,     0.45746,     0.45846,     0.45946,     0.46046,     0.46146,     0.46246,     0.46346,     0.46446,     0.46547,     0.46647,     0.46747,     0.46847,     0.46947,     0.47047,     0.47147,     0.47247,     0.47347,     0.47447,     0.47548,     0.47648,     0.47748,     0.47848,     0.47948,\n",
              "           0.48048,     0.48148,     0.48248,     0.48348,     0.48448,     0.48549,     0.48649,     0.48749,     0.48849,     0.48949,     0.49049,     0.49149,     0.49249,     0.49349,     0.49449,      0.4955,      0.4965,      0.4975,      0.4985,      0.4995,      0.5005,      0.5015,      0.5025,      0.5035,\n",
              "            0.5045,     0.50551,     0.50651,     0.50751,     0.50851,     0.50951,     0.51051,     0.51151,     0.51251,     0.51351,     0.51451,     0.51552,     0.51652,     0.51752,     0.51852,     0.51952,     0.52052,     0.52152,     0.52252,     0.52352,     0.52452,     0.52553,     0.52653,     0.52753,\n",
              "           0.52853,     0.52953,     0.53053,     0.53153,     0.53253,     0.53353,     0.53453,     0.53554,     0.53654,     0.53754,     0.53854,     0.53954,     0.54054,     0.54154,     0.54254,     0.54354,     0.54454,     0.54555,     0.54655,     0.54755,     0.54855,     0.54955,     0.55055,     0.55155,\n",
              "           0.55255,     0.55355,     0.55455,     0.55556,     0.55656,     0.55756,     0.55856,     0.55956,     0.56056,     0.56156,     0.56256,     0.56356,     0.56456,     0.56557,     0.56657,     0.56757,     0.56857,     0.56957,     0.57057,     0.57157,     0.57257,     0.57357,     0.57457,     0.57558,\n",
              "           0.57658,     0.57758,     0.57858,     0.57958,     0.58058,     0.58158,     0.58258,     0.58358,     0.58458,     0.58559,     0.58659,     0.58759,     0.58859,     0.58959,     0.59059,     0.59159,     0.59259,     0.59359,     0.59459,      0.5956,      0.5966,      0.5976,      0.5986,      0.5996,\n",
              "            0.6006,      0.6016,      0.6026,      0.6036,      0.6046,     0.60561,     0.60661,     0.60761,     0.60861,     0.60961,     0.61061,     0.61161,     0.61261,     0.61361,     0.61461,     0.61562,     0.61662,     0.61762,     0.61862,     0.61962,     0.62062,     0.62162,     0.62262,     0.62362,\n",
              "           0.62462,     0.62563,     0.62663,     0.62763,     0.62863,     0.62963,     0.63063,     0.63163,     0.63263,     0.63363,     0.63463,     0.63564,     0.63664,     0.63764,     0.63864,     0.63964,     0.64064,     0.64164,     0.64264,     0.64364,     0.64464,     0.64565,     0.64665,     0.64765,\n",
              "           0.64865,     0.64965,     0.65065,     0.65165,     0.65265,     0.65365,     0.65465,     0.65566,     0.65666,     0.65766,     0.65866,     0.65966,     0.66066,     0.66166,     0.66266,     0.66366,     0.66466,     0.66567,     0.66667,     0.66767,     0.66867,     0.66967,     0.67067,     0.67167,\n",
              "           0.67267,     0.67367,     0.67467,     0.67568,     0.67668,     0.67768,     0.67868,     0.67968,     0.68068,     0.68168,     0.68268,     0.68368,     0.68468,     0.68569,     0.68669,     0.68769,     0.68869,     0.68969,     0.69069,     0.69169,     0.69269,     0.69369,     0.69469,      0.6957,\n",
              "            0.6967,      0.6977,      0.6987,      0.6997,      0.7007,      0.7017,      0.7027,      0.7037,      0.7047,     0.70571,     0.70671,     0.70771,     0.70871,     0.70971,     0.71071,     0.71171,     0.71271,     0.71371,     0.71471,     0.71572,     0.71672,     0.71772,     0.71872,     0.71972,\n",
              "           0.72072,     0.72172,     0.72272,     0.72372,     0.72472,     0.72573,     0.72673,     0.72773,     0.72873,     0.72973,     0.73073,     0.73173,     0.73273,     0.73373,     0.73473,     0.73574,     0.73674,     0.73774,     0.73874,     0.73974,     0.74074,     0.74174,     0.74274,     0.74374,\n",
              "           0.74474,     0.74575,     0.74675,     0.74775,     0.74875,     0.74975,     0.75075,     0.75175,     0.75275,     0.75375,     0.75475,     0.75576,     0.75676,     0.75776,     0.75876,     0.75976,     0.76076,     0.76176,     0.76276,     0.76376,     0.76476,     0.76577,     0.76677,     0.76777,\n",
              "           0.76877,     0.76977,     0.77077,     0.77177,     0.77277,     0.77377,     0.77477,     0.77578,     0.77678,     0.77778,     0.77878,     0.77978,     0.78078,     0.78178,     0.78278,     0.78378,     0.78478,     0.78579,     0.78679,     0.78779,     0.78879,     0.78979,     0.79079,     0.79179,\n",
              "           0.79279,     0.79379,     0.79479,      0.7958,      0.7968,      0.7978,      0.7988,      0.7998,      0.8008,      0.8018,      0.8028,      0.8038,      0.8048,     0.80581,     0.80681,     0.80781,     0.80881,     0.80981,     0.81081,     0.81181,     0.81281,     0.81381,     0.81481,     0.81582,\n",
              "           0.81682,     0.81782,     0.81882,     0.81982,     0.82082,     0.82182,     0.82282,     0.82382,     0.82482,     0.82583,     0.82683,     0.82783,     0.82883,     0.82983,     0.83083,     0.83183,     0.83283,     0.83383,     0.83483,     0.83584,     0.83684,     0.83784,     0.83884,     0.83984,\n",
              "           0.84084,     0.84184,     0.84284,     0.84384,     0.84484,     0.84585,     0.84685,     0.84785,     0.84885,     0.84985,     0.85085,     0.85185,     0.85285,     0.85385,     0.85485,     0.85586,     0.85686,     0.85786,     0.85886,     0.85986,     0.86086,     0.86186,     0.86286,     0.86386,\n",
              "           0.86486,     0.86587,     0.86687,     0.86787,     0.86887,     0.86987,     0.87087,     0.87187,     0.87287,     0.87387,     0.87487,     0.87588,     0.87688,     0.87788,     0.87888,     0.87988,     0.88088,     0.88188,     0.88288,     0.88388,     0.88488,     0.88589,     0.88689,     0.88789,\n",
              "           0.88889,     0.88989,     0.89089,     0.89189,     0.89289,     0.89389,     0.89489,      0.8959,      0.8969,      0.8979,      0.8989,      0.8999,      0.9009,      0.9019,      0.9029,      0.9039,      0.9049,     0.90591,     0.90691,     0.90791,     0.90891,     0.90991,     0.91091,     0.91191,\n",
              "           0.91291,     0.91391,     0.91491,     0.91592,     0.91692,     0.91792,     0.91892,     0.91992,     0.92092,     0.92192,     0.92292,     0.92392,     0.92492,     0.92593,     0.92693,     0.92793,     0.92893,     0.92993,     0.93093,     0.93193,     0.93293,     0.93393,     0.93493,     0.93594,\n",
              "           0.93694,     0.93794,     0.93894,     0.93994,     0.94094,     0.94194,     0.94294,     0.94394,     0.94494,     0.94595,     0.94695,     0.94795,     0.94895,     0.94995,     0.95095,     0.95195,     0.95295,     0.95395,     0.95495,     0.95596,     0.95696,     0.95796,     0.95896,     0.95996,\n",
              "           0.96096,     0.96196,     0.96296,     0.96396,     0.96496,     0.96597,     0.96697,     0.96797,     0.96897,     0.96997,     0.97097,     0.97197,     0.97297,     0.97397,     0.97497,     0.97598,     0.97698,     0.97798,     0.97898,     0.97998,     0.98098,     0.98198,     0.98298,     0.98398,\n",
              "           0.98498,     0.98599,     0.98699,     0.98799,     0.98899,     0.98999,     0.99099,     0.99199,     0.99299,     0.99399,     0.99499,       0.996,       0.997,       0.998,       0.999,           1]), array([[     0.3289,      0.3289,     0.42531,     0.47889,     0.51806,     0.54538,     0.56796,     0.58626,     0.60235,     0.61846,     0.63021,     0.63976,     0.64841,     0.65801,     0.66211,      0.6691,     0.67428,     0.67916,     0.68588,     0.69086,     0.69446,     0.69796,     0.70084,\n",
              "            0.70508,     0.70641,     0.71021,     0.71382,     0.71609,     0.71732,     0.72267,     0.72392,     0.72699,     0.72946,     0.73257,     0.73518,     0.73799,     0.73935,     0.74113,     0.74383,       0.745,     0.74672,     0.74779,     0.74949,       0.752,     0.75382,     0.75531,\n",
              "            0.75583,     0.75774,     0.75847,     0.76061,     0.76305,     0.76465,      0.7658,     0.76579,     0.76658,     0.76791,     0.76882,     0.76987,     0.77027,     0.77127,     0.77129,     0.77234,     0.77388,     0.77612,      0.7764,     0.77672,     0.77775,     0.77903,     0.77942,\n",
              "            0.78089,     0.78143,     0.78208,     0.78367,     0.78396,     0.78453,     0.78538,     0.78674,     0.78755,     0.78836,      0.7894,     0.78938,      0.7905,     0.79095,     0.79112,     0.79219,     0.79321,     0.79416,     0.79373,     0.79356,      0.7944,     0.79514,     0.79474,\n",
              "            0.79566,     0.79579,     0.79553,     0.79629,     0.79647,     0.79728,     0.79869,     0.79852,      0.7996,     0.80034,     0.80098,     0.80137,     0.80112,     0.80173,     0.80253,     0.80215,     0.80236,     0.80305,     0.80317,     0.80459,     0.80495,      0.8052,     0.80487,\n",
              "            0.80483,     0.80585,      0.8052,     0.80563,     0.80627,     0.80665,     0.80712,     0.80767,     0.80811,     0.80827,     0.80843,     0.80839,     0.80774,     0.80825,     0.80793,     0.80809,     0.80826,     0.80858,     0.80957,     0.80946,      0.8096,     0.80934,     0.80955,\n",
              "            0.81056,     0.81084,     0.81111,     0.81067,     0.81192,     0.81197,     0.81159,     0.81248,     0.81313,      0.8134,     0.81363,     0.81357,     0.81384,     0.81436,      0.8146,     0.81516,     0.81535,     0.81566,      0.8153,     0.81499,     0.81471,     0.81494,     0.81417,\n",
              "            0.81396,     0.81406,      0.8138,     0.81361,     0.81413,      0.8128,     0.81327,     0.81415,     0.81427,     0.81439,     0.81455,     0.81492,     0.81505,     0.81493,     0.81537,     0.81629,     0.81653,     0.81759,     0.81795,     0.81835,     0.81858,     0.81827,     0.81802,\n",
              "            0.81736,      0.8177,     0.81793,     0.81849,     0.81754,     0.81753,      0.8177,     0.81812,      0.8183,     0.81843,     0.81856,     0.81995,     0.82101,       0.821,     0.82089,     0.82098,     0.82107,     0.82116,     0.82252,     0.82272,     0.82273,      0.8225,     0.82228,\n",
              "             0.8218,     0.82161,     0.82177,     0.82197,     0.82244,     0.82281,     0.82332,     0.82302,     0.82332,     0.82297,     0.82254,       0.822,      0.8217,     0.82185,       0.822,     0.82229,     0.82217,     0.82196,     0.82203,     0.82174,     0.82188,     0.82191,     0.82222,\n",
              "            0.82251,     0.82221,     0.82251,     0.82279,     0.82301,     0.82316,      0.8233,      0.8236,     0.82374,     0.82388,     0.82388,     0.82299,     0.82304,     0.82263,     0.82263,     0.82292,      0.8232,     0.82276,     0.82318,     0.82349,     0.82368,     0.82386,     0.82467,\n",
              "            0.82423,     0.82449,     0.82468,      0.8257,     0.82589,     0.82608,     0.82568,     0.82587,     0.82565,     0.82529,     0.82489,     0.82506,     0.82568,     0.82582,     0.82597,     0.82717,     0.82682,     0.82673,     0.82693,     0.82723,     0.82696,     0.82709,     0.82723,\n",
              "            0.82657,     0.82668,     0.82679,      0.8269,     0.82683,     0.82659,     0.82639,     0.82683,     0.82701,     0.82718,     0.82684,     0.82709,     0.82727,     0.82744,     0.82666,     0.82595,     0.82554,     0.82496,      0.8251,     0.82535,     0.82552,      0.8257,     0.82594,\n",
              "            0.82619,     0.82644,     0.82613,      0.8263,     0.82586,     0.82564,     0.82576,     0.82589,     0.82601,     0.82625,     0.82648,     0.82661,     0.82675,     0.82731,     0.82739,     0.82747,     0.82756,     0.82764,     0.82772,     0.82814,     0.82782,     0.82749,     0.82724,\n",
              "            0.82699,     0.82715,     0.82742,     0.82769,     0.82729,     0.82754,     0.82686,     0.82663,     0.82684,     0.82733,     0.82759,     0.82749,     0.82713,     0.82689,     0.82666,     0.82594,     0.82612,     0.82604,      0.8259,     0.82576,     0.82562,     0.82548,     0.82531,\n",
              "            0.82515,     0.82498,     0.82494,     0.82506,     0.82519,     0.82531,       0.825,     0.82471,     0.82497,     0.82491,     0.82474,     0.82462,     0.82531,     0.82475,     0.82463,     0.82452,      0.8244,     0.82429,     0.82332,     0.82259,     0.82241,      0.8225,      0.8226,\n",
              "            0.82269,     0.82278,     0.82262,     0.82245,     0.82228,     0.82279,     0.82373,     0.82418,     0.82442,     0.82453,     0.82465,     0.82477,     0.82503,     0.82534,     0.82578,     0.82604,     0.82591,     0.82577,     0.82564,     0.82551,     0.82502,     0.82409,     0.82392,\n",
              "            0.82375,     0.82359,     0.82352,     0.82345,     0.82339,     0.82332,     0.82325,     0.82318,     0.82312,     0.82305,     0.82298,     0.82246,     0.82182,      0.8219,     0.82213,     0.82224,     0.82233,     0.82242,     0.82252,     0.82257,     0.82247,     0.82237,     0.82228,\n",
              "            0.82218,     0.82209,     0.82199,     0.82153,     0.82118,     0.82097,     0.82075,     0.82021,     0.82022,     0.82014,     0.82029,     0.82044,      0.8206,     0.82083,     0.82102,     0.82109,     0.82115,     0.82121,     0.82128,     0.82134,     0.82141,     0.82167,     0.82175,\n",
              "            0.82153,     0.82132,     0.82102,      0.8207,     0.82097,     0.82055,     0.82061,     0.82084,     0.82097,     0.82108,      0.8212,     0.82131,     0.82077,     0.82086,     0.82095,     0.82104,      0.8216,     0.82191,     0.82132,     0.82119,     0.82106,     0.82093,      0.8208,\n",
              "            0.81977,     0.81929,     0.81896,     0.81889,     0.81804,     0.81813,     0.81822,     0.81831,      0.8184,     0.81819,     0.81786,     0.81814,     0.81771,     0.81786,     0.81801,     0.81843,     0.81836,     0.81823,      0.8181,     0.81797,     0.81784,     0.81799,     0.81814,\n",
              "            0.81822,     0.81692,     0.81641,     0.81674,     0.81641,     0.81601,     0.81554,     0.81569,     0.81584,      0.8151,     0.81443,     0.81409,     0.81431,     0.81463,      0.8152,     0.81487,     0.81459,     0.81437,     0.81414,     0.81386,     0.81353,     0.81353,     0.81376,\n",
              "            0.81413,     0.81414,     0.81391,     0.81369,     0.81383,      0.8135,      0.8129,     0.81295,     0.81261,     0.81199,     0.81232,     0.81257,      0.8128,     0.81195,      0.8121,     0.81225,     0.81175,     0.81198,     0.81224,     0.81255,     0.81205,     0.81231,     0.81232,\n",
              "             0.8127,     0.81282,     0.81293,     0.81305,      0.8129,     0.81242,     0.81228,     0.81215,     0.81201,     0.81187,     0.81203,     0.81249,     0.81283,     0.81306,     0.81297,     0.81263,     0.81208,      0.8114,     0.81106,     0.81089,     0.81072,     0.81055,     0.81002,\n",
              "            0.81025,     0.81011,     0.80988,     0.80966,      0.8105,     0.81053,     0.81145,     0.81158,     0.81135,     0.81113,     0.81108,     0.81117,     0.81126,     0.81136,     0.81145,     0.81035,     0.80966,      0.8083,     0.80713,      0.8076,     0.80739,     0.80719,     0.80684,\n",
              "             0.8065,     0.80615,     0.80549,     0.80444,     0.80409,     0.80272,     0.80245,     0.80217,     0.80232,      0.8014,     0.79955,      0.7992,     0.79885,      0.7985,     0.79874,     0.79627,     0.79556,     0.79485,     0.79511,     0.79494,     0.79466,     0.79466,     0.79341,\n",
              "            0.79305,     0.79252,     0.79112,     0.78901,     0.78881,     0.78905,     0.78871,     0.78751,     0.78715,     0.78671,     0.78643,     0.78521,     0.78458,     0.78422,     0.78386,      0.7835,     0.78301,     0.78237,     0.78189,     0.78228,     0.78162,     0.78182,     0.78204,\n",
              "            0.78133,     0.78096,     0.78057,     0.77904,      0.7766,     0.77623,     0.77604,     0.77586,     0.77568,     0.77475,     0.77454,     0.77433,     0.77425,      0.7744,     0.77456,     0.77435,     0.77329,     0.77365,      0.7715,     0.76931,     0.76858,     0.76821,     0.76774,\n",
              "            0.76728,     0.76751,     0.76735,     0.76698,     0.76634,     0.76397,     0.76413,     0.76428,     0.76343,     0.76202,     0.76152,     0.76006,     0.76004,      0.7601,     0.76017,     0.76023,      0.7603,     0.76037,     0.76046,     0.76081,      0.7601,     0.75972,     0.75723,\n",
              "            0.75754,      0.7571,     0.75702,     0.75721,     0.75773,     0.75751,      0.7573,     0.75708,     0.75564,     0.75555,     0.75536,     0.75559,     0.75594,     0.75591,     0.75464,     0.75387,     0.75228,      0.7512,     0.75042,     0.74737,     0.74677,     0.74619,     0.74593,\n",
              "            0.74541,     0.74534,     0.74481,     0.74364,     0.74263,     0.74211,     0.74135,     0.74125,     0.74082,     0.74051,     0.73864,     0.73785,     0.73732,     0.73687,     0.73647,     0.73644,     0.73513,      0.7346,     0.73154,     0.73108,     0.73076,     0.73062,     0.73093,\n",
              "            0.72954,     0.72873,     0.72877,     0.72729,     0.72759,     0.72605,     0.72484,     0.72467,      0.7246,     0.72246,     0.72192,     0.71897,     0.71852,     0.71797,      0.7158,     0.71438,     0.71355,     0.71035,     0.70979,      0.7076,     0.70293,     0.70236,      0.7018,\n",
              "            0.69958,     0.69901,     0.69696,     0.69582,      0.6936,      0.6939,     0.69128,     0.69085,     0.68864,     0.68552,     0.68494,     0.68395,     0.67824,     0.67765,     0.67534,     0.67519,      0.6746,     0.67228,     0.66295,     0.66193,     0.65925,     0.65657,     0.65405,\n",
              "             0.6534,     0.65099,     0.64751,     0.64253,     0.64191,     0.63946,     0.63614,     0.63582,     0.63551,     0.63506,     0.62958,     0.62895,     0.62552,     0.62292,     0.62164,     0.61912,      0.6177,     0.61799,     0.61243,     0.60759,     0.60148,     0.59497,      0.5935,\n",
              "            0.58858,      0.5848,     0.57898,      0.5783,     0.57337,     0.56691,      0.5611,      0.5604,     0.55571,     0.55325,     0.54728,     0.54601,      0.5386,     0.53143,     0.52948,     0.52314,      0.5224,     0.51948,     0.51527,     0.50775,     0.49947,     0.49055,     0.48978,\n",
              "            0.48232,       0.481,     0.47553,     0.47095,     0.47016,     0.45851,     0.45406,     0.44595,      0.4326,     0.42166,     0.42081,     0.41094,     0.39983,     0.39108,     0.38069,     0.37565,     0.36815,     0.36013,     0.35343,     0.35251,     0.34452,     0.33764,     0.32965,\n",
              "            0.31882,     0.31031,      0.2991,     0.29198,     0.29099,     0.28521,     0.27635,     0.26889,     0.25684,     0.24969,     0.24382,     0.23607,     0.23138,     0.22666,     0.22034,     0.21144,     0.20436,     0.19707,     0.19189,      0.1856,     0.18228,     0.17688,     0.17061,\n",
              "            0.16674,     0.16048,     0.15199,     0.14512,     0.13128,      0.1295,     0.12258,     0.11902,     0.11544,     0.11217,     0.11084,      0.1056,     0.10468,     0.10344,    0.094612,     0.09286,    0.091622,    0.088126,    0.087166,    0.086543,     0.08592,    0.079791,    0.077905,\n",
              "           0.076245,    0.074983,    0.073151,    0.067536,     0.06623,    0.065203,    0.064437,    0.063671,    0.062905,    0.062137,    0.059503,    0.057272,    0.055877,    0.054068,    0.052777,    0.052023,    0.051469,    0.050915,    0.049312,    0.046298,    0.044996,    0.043123,    0.039398,\n",
              "           0.035462,    0.032864,     0.03237,    0.031875,    0.031357,    0.030367,    0.029281,    0.027373,    0.026047,    0.024282,    0.022286,    0.019663,    0.019548,    0.019434,    0.019319,    0.019204,     0.01909,    0.018975,    0.018861,    0.018746,    0.018631,    0.018517,    0.018402,\n",
              "           0.018288,    0.018173,    0.018058,    0.017943,    0.017829,    0.017693,    0.017544,    0.017395,    0.017246,    0.017097,    0.016949,      0.0168,    0.016651,    0.016502,    0.016353,    0.016204,    0.016055,    0.015906,    0.013966,    0.011896,    0.010548,   0.0078483,   0.0059278,\n",
              "          0.0054197,   0.0049113,   0.0044027,   0.0039686,   0.0039007,   0.0038329,    0.003765,   0.0036971,   0.0036292,   0.0035614,   0.0034935,   0.0034256,   0.0033577,   0.0032898,   0.0032219,   0.0031539,    0.003086,   0.0030181,   0.0029502,   0.0028822,   0.0028143,   0.0027464,   0.0026784,\n",
              "          0.0026105,   0.0025425,   0.0024746,   0.0024066,   0.0023386,   0.0022706,   0.0022027,   0.0021347,   0.0020667,   0.0019987,           0,           0,           0,           0,           0,           0,           0,           0,           0,           0,           0,           0,           0,\n",
              "                  0,           0,           0,           0,           0,           0,           0,           0,           0,           0,           0]]), 'Confidence', 'F1'], [array([          0,    0.001001,    0.002002,    0.003003,    0.004004,    0.005005,    0.006006,    0.007007,    0.008008,    0.009009,     0.01001,    0.011011,    0.012012,    0.013013,    0.014014,    0.015015,    0.016016,    0.017017,    0.018018,    0.019019,     0.02002,    0.021021,    0.022022,    0.023023,\n",
              "          0.024024,    0.025025,    0.026026,    0.027027,    0.028028,    0.029029,     0.03003,    0.031031,    0.032032,    0.033033,    0.034034,    0.035035,    0.036036,    0.037037,    0.038038,    0.039039,     0.04004,    0.041041,    0.042042,    0.043043,    0.044044,    0.045045,    0.046046,    0.047047,\n",
              "          0.048048,    0.049049,     0.05005,    0.051051,    0.052052,    0.053053,    0.054054,    0.055055,    0.056056,    0.057057,    0.058058,    0.059059,     0.06006,    0.061061,    0.062062,    0.063063,    0.064064,    0.065065,    0.066066,    0.067067,    0.068068,    0.069069,     0.07007,    0.071071,\n",
              "          0.072072,    0.073073,    0.074074,    0.075075,    0.076076,    0.077077,    0.078078,    0.079079,     0.08008,    0.081081,    0.082082,    0.083083,    0.084084,    0.085085,    0.086086,    0.087087,    0.088088,    0.089089,     0.09009,    0.091091,    0.092092,    0.093093,    0.094094,    0.095095,\n",
              "          0.096096,    0.097097,    0.098098,    0.099099,      0.1001,      0.1011,      0.1021,      0.1031,      0.1041,     0.10511,     0.10611,     0.10711,     0.10811,     0.10911,     0.11011,     0.11111,     0.11211,     0.11311,     0.11411,     0.11512,     0.11612,     0.11712,     0.11812,     0.11912,\n",
              "           0.12012,     0.12112,     0.12212,     0.12312,     0.12412,     0.12513,     0.12613,     0.12713,     0.12813,     0.12913,     0.13013,     0.13113,     0.13213,     0.13313,     0.13413,     0.13514,     0.13614,     0.13714,     0.13814,     0.13914,     0.14014,     0.14114,     0.14214,     0.14314,\n",
              "           0.14414,     0.14515,     0.14615,     0.14715,     0.14815,     0.14915,     0.15015,     0.15115,     0.15215,     0.15315,     0.15415,     0.15516,     0.15616,     0.15716,     0.15816,     0.15916,     0.16016,     0.16116,     0.16216,     0.16316,     0.16416,     0.16517,     0.16617,     0.16717,\n",
              "           0.16817,     0.16917,     0.17017,     0.17117,     0.17217,     0.17317,     0.17417,     0.17518,     0.17618,     0.17718,     0.17818,     0.17918,     0.18018,     0.18118,     0.18218,     0.18318,     0.18418,     0.18519,     0.18619,     0.18719,     0.18819,     0.18919,     0.19019,     0.19119,\n",
              "           0.19219,     0.19319,     0.19419,      0.1952,      0.1962,      0.1972,      0.1982,      0.1992,      0.2002,      0.2012,      0.2022,      0.2032,      0.2042,     0.20521,     0.20621,     0.20721,     0.20821,     0.20921,     0.21021,     0.21121,     0.21221,     0.21321,     0.21421,     0.21522,\n",
              "           0.21622,     0.21722,     0.21822,     0.21922,     0.22022,     0.22122,     0.22222,     0.22322,     0.22422,     0.22523,     0.22623,     0.22723,     0.22823,     0.22923,     0.23023,     0.23123,     0.23223,     0.23323,     0.23423,     0.23524,     0.23624,     0.23724,     0.23824,     0.23924,\n",
              "           0.24024,     0.24124,     0.24224,     0.24324,     0.24424,     0.24525,     0.24625,     0.24725,     0.24825,     0.24925,     0.25025,     0.25125,     0.25225,     0.25325,     0.25425,     0.25526,     0.25626,     0.25726,     0.25826,     0.25926,     0.26026,     0.26126,     0.26226,     0.26326,\n",
              "           0.26426,     0.26527,     0.26627,     0.26727,     0.26827,     0.26927,     0.27027,     0.27127,     0.27227,     0.27327,     0.27427,     0.27528,     0.27628,     0.27728,     0.27828,     0.27928,     0.28028,     0.28128,     0.28228,     0.28328,     0.28428,     0.28529,     0.28629,     0.28729,\n",
              "           0.28829,     0.28929,     0.29029,     0.29129,     0.29229,     0.29329,     0.29429,      0.2953,      0.2963,      0.2973,      0.2983,      0.2993,      0.3003,      0.3013,      0.3023,      0.3033,      0.3043,     0.30531,     0.30631,     0.30731,     0.30831,     0.30931,     0.31031,     0.31131,\n",
              "           0.31231,     0.31331,     0.31431,     0.31532,     0.31632,     0.31732,     0.31832,     0.31932,     0.32032,     0.32132,     0.32232,     0.32332,     0.32432,     0.32533,     0.32633,     0.32733,     0.32833,     0.32933,     0.33033,     0.33133,     0.33233,     0.33333,     0.33433,     0.33534,\n",
              "           0.33634,     0.33734,     0.33834,     0.33934,     0.34034,     0.34134,     0.34234,     0.34334,     0.34434,     0.34535,     0.34635,     0.34735,     0.34835,     0.34935,     0.35035,     0.35135,     0.35235,     0.35335,     0.35435,     0.35536,     0.35636,     0.35736,     0.35836,     0.35936,\n",
              "           0.36036,     0.36136,     0.36236,     0.36336,     0.36436,     0.36537,     0.36637,     0.36737,     0.36837,     0.36937,     0.37037,     0.37137,     0.37237,     0.37337,     0.37437,     0.37538,     0.37638,     0.37738,     0.37838,     0.37938,     0.38038,     0.38138,     0.38238,     0.38338,\n",
              "           0.38438,     0.38539,     0.38639,     0.38739,     0.38839,     0.38939,     0.39039,     0.39139,     0.39239,     0.39339,     0.39439,      0.3954,      0.3964,      0.3974,      0.3984,      0.3994,      0.4004,      0.4014,      0.4024,      0.4034,      0.4044,     0.40541,     0.40641,     0.40741,\n",
              "           0.40841,     0.40941,     0.41041,     0.41141,     0.41241,     0.41341,     0.41441,     0.41542,     0.41642,     0.41742,     0.41842,     0.41942,     0.42042,     0.42142,     0.42242,     0.42342,     0.42442,     0.42543,     0.42643,     0.42743,     0.42843,     0.42943,     0.43043,     0.43143,\n",
              "           0.43243,     0.43343,     0.43443,     0.43544,     0.43644,     0.43744,     0.43844,     0.43944,     0.44044,     0.44144,     0.44244,     0.44344,     0.44444,     0.44545,     0.44645,     0.44745,     0.44845,     0.44945,     0.45045,     0.45145,     0.45245,     0.45345,     0.45445,     0.45546,\n",
              "           0.45646,     0.45746,     0.45846,     0.45946,     0.46046,     0.46146,     0.46246,     0.46346,     0.46446,     0.46547,     0.46647,     0.46747,     0.46847,     0.46947,     0.47047,     0.47147,     0.47247,     0.47347,     0.47447,     0.47548,     0.47648,     0.47748,     0.47848,     0.47948,\n",
              "           0.48048,     0.48148,     0.48248,     0.48348,     0.48448,     0.48549,     0.48649,     0.48749,     0.48849,     0.48949,     0.49049,     0.49149,     0.49249,     0.49349,     0.49449,      0.4955,      0.4965,      0.4975,      0.4985,      0.4995,      0.5005,      0.5015,      0.5025,      0.5035,\n",
              "            0.5045,     0.50551,     0.50651,     0.50751,     0.50851,     0.50951,     0.51051,     0.51151,     0.51251,     0.51351,     0.51451,     0.51552,     0.51652,     0.51752,     0.51852,     0.51952,     0.52052,     0.52152,     0.52252,     0.52352,     0.52452,     0.52553,     0.52653,     0.52753,\n",
              "           0.52853,     0.52953,     0.53053,     0.53153,     0.53253,     0.53353,     0.53453,     0.53554,     0.53654,     0.53754,     0.53854,     0.53954,     0.54054,     0.54154,     0.54254,     0.54354,     0.54454,     0.54555,     0.54655,     0.54755,     0.54855,     0.54955,     0.55055,     0.55155,\n",
              "           0.55255,     0.55355,     0.55455,     0.55556,     0.55656,     0.55756,     0.55856,     0.55956,     0.56056,     0.56156,     0.56256,     0.56356,     0.56456,     0.56557,     0.56657,     0.56757,     0.56857,     0.56957,     0.57057,     0.57157,     0.57257,     0.57357,     0.57457,     0.57558,\n",
              "           0.57658,     0.57758,     0.57858,     0.57958,     0.58058,     0.58158,     0.58258,     0.58358,     0.58458,     0.58559,     0.58659,     0.58759,     0.58859,     0.58959,     0.59059,     0.59159,     0.59259,     0.59359,     0.59459,      0.5956,      0.5966,      0.5976,      0.5986,      0.5996,\n",
              "            0.6006,      0.6016,      0.6026,      0.6036,      0.6046,     0.60561,     0.60661,     0.60761,     0.60861,     0.60961,     0.61061,     0.61161,     0.61261,     0.61361,     0.61461,     0.61562,     0.61662,     0.61762,     0.61862,     0.61962,     0.62062,     0.62162,     0.62262,     0.62362,\n",
              "           0.62462,     0.62563,     0.62663,     0.62763,     0.62863,     0.62963,     0.63063,     0.63163,     0.63263,     0.63363,     0.63463,     0.63564,     0.63664,     0.63764,     0.63864,     0.63964,     0.64064,     0.64164,     0.64264,     0.64364,     0.64464,     0.64565,     0.64665,     0.64765,\n",
              "           0.64865,     0.64965,     0.65065,     0.65165,     0.65265,     0.65365,     0.65465,     0.65566,     0.65666,     0.65766,     0.65866,     0.65966,     0.66066,     0.66166,     0.66266,     0.66366,     0.66466,     0.66567,     0.66667,     0.66767,     0.66867,     0.66967,     0.67067,     0.67167,\n",
              "           0.67267,     0.67367,     0.67467,     0.67568,     0.67668,     0.67768,     0.67868,     0.67968,     0.68068,     0.68168,     0.68268,     0.68368,     0.68468,     0.68569,     0.68669,     0.68769,     0.68869,     0.68969,     0.69069,     0.69169,     0.69269,     0.69369,     0.69469,      0.6957,\n",
              "            0.6967,      0.6977,      0.6987,      0.6997,      0.7007,      0.7017,      0.7027,      0.7037,      0.7047,     0.70571,     0.70671,     0.70771,     0.70871,     0.70971,     0.71071,     0.71171,     0.71271,     0.71371,     0.71471,     0.71572,     0.71672,     0.71772,     0.71872,     0.71972,\n",
              "           0.72072,     0.72172,     0.72272,     0.72372,     0.72472,     0.72573,     0.72673,     0.72773,     0.72873,     0.72973,     0.73073,     0.73173,     0.73273,     0.73373,     0.73473,     0.73574,     0.73674,     0.73774,     0.73874,     0.73974,     0.74074,     0.74174,     0.74274,     0.74374,\n",
              "           0.74474,     0.74575,     0.74675,     0.74775,     0.74875,     0.74975,     0.75075,     0.75175,     0.75275,     0.75375,     0.75475,     0.75576,     0.75676,     0.75776,     0.75876,     0.75976,     0.76076,     0.76176,     0.76276,     0.76376,     0.76476,     0.76577,     0.76677,     0.76777,\n",
              "           0.76877,     0.76977,     0.77077,     0.77177,     0.77277,     0.77377,     0.77477,     0.77578,     0.77678,     0.77778,     0.77878,     0.77978,     0.78078,     0.78178,     0.78278,     0.78378,     0.78478,     0.78579,     0.78679,     0.78779,     0.78879,     0.78979,     0.79079,     0.79179,\n",
              "           0.79279,     0.79379,     0.79479,      0.7958,      0.7968,      0.7978,      0.7988,      0.7998,      0.8008,      0.8018,      0.8028,      0.8038,      0.8048,     0.80581,     0.80681,     0.80781,     0.80881,     0.80981,     0.81081,     0.81181,     0.81281,     0.81381,     0.81481,     0.81582,\n",
              "           0.81682,     0.81782,     0.81882,     0.81982,     0.82082,     0.82182,     0.82282,     0.82382,     0.82482,     0.82583,     0.82683,     0.82783,     0.82883,     0.82983,     0.83083,     0.83183,     0.83283,     0.83383,     0.83483,     0.83584,     0.83684,     0.83784,     0.83884,     0.83984,\n",
              "           0.84084,     0.84184,     0.84284,     0.84384,     0.84484,     0.84585,     0.84685,     0.84785,     0.84885,     0.84985,     0.85085,     0.85185,     0.85285,     0.85385,     0.85485,     0.85586,     0.85686,     0.85786,     0.85886,     0.85986,     0.86086,     0.86186,     0.86286,     0.86386,\n",
              "           0.86486,     0.86587,     0.86687,     0.86787,     0.86887,     0.86987,     0.87087,     0.87187,     0.87287,     0.87387,     0.87487,     0.87588,     0.87688,     0.87788,     0.87888,     0.87988,     0.88088,     0.88188,     0.88288,     0.88388,     0.88488,     0.88589,     0.88689,     0.88789,\n",
              "           0.88889,     0.88989,     0.89089,     0.89189,     0.89289,     0.89389,     0.89489,      0.8959,      0.8969,      0.8979,      0.8989,      0.8999,      0.9009,      0.9019,      0.9029,      0.9039,      0.9049,     0.90591,     0.90691,     0.90791,     0.90891,     0.90991,     0.91091,     0.91191,\n",
              "           0.91291,     0.91391,     0.91491,     0.91592,     0.91692,     0.91792,     0.91892,     0.91992,     0.92092,     0.92192,     0.92292,     0.92392,     0.92492,     0.92593,     0.92693,     0.92793,     0.92893,     0.92993,     0.93093,     0.93193,     0.93293,     0.93393,     0.93493,     0.93594,\n",
              "           0.93694,     0.93794,     0.93894,     0.93994,     0.94094,     0.94194,     0.94294,     0.94394,     0.94494,     0.94595,     0.94695,     0.94795,     0.94895,     0.94995,     0.95095,     0.95195,     0.95295,     0.95395,     0.95495,     0.95596,     0.95696,     0.95796,     0.95896,     0.95996,\n",
              "           0.96096,     0.96196,     0.96296,     0.96396,     0.96496,     0.96597,     0.96697,     0.96797,     0.96897,     0.96997,     0.97097,     0.97197,     0.97297,     0.97397,     0.97497,     0.97598,     0.97698,     0.97798,     0.97898,     0.97998,     0.98098,     0.98198,     0.98298,     0.98398,\n",
              "           0.98498,     0.98599,     0.98699,     0.98799,     0.98899,     0.98999,     0.99099,     0.99199,     0.99299,     0.99399,     0.99499,       0.996,       0.997,       0.998,       0.999,           1]), array([[    0.19895,     0.19895,     0.27473,     0.32138,     0.35811,     0.38544,     0.40896,     0.42843,     0.44676,     0.46522,     0.47946,     0.49203,     0.50234,     0.51396,     0.51963,     0.52846,     0.53511,     0.54235,     0.55133,     0.55818,     0.56328,      0.5679,     0.57172,\n",
              "            0.57739,      0.5804,     0.58556,     0.59048,      0.5936,     0.59615,     0.60358,     0.60623,     0.61102,     0.61451,     0.61952,     0.62363,     0.62818,     0.63015,     0.63275,     0.63669,     0.63943,       0.643,     0.64511,     0.64766,     0.65141,     0.65415,     0.65639,\n",
              "            0.65719,     0.66007,     0.66118,     0.66444,     0.66817,     0.67063,     0.67297,     0.67332,     0.67591,     0.67798,     0.67999,     0.68164,     0.68226,     0.68462,     0.68566,     0.68733,     0.68976,     0.69334,      0.6944,     0.69554,     0.69719,     0.69924,     0.69988,\n",
              "            0.70353,     0.70505,     0.70611,      0.7087,     0.70918,     0.71012,     0.71151,     0.71375,     0.71508,     0.71641,      0.7188,     0.71945,      0.7213,     0.72205,     0.72234,     0.72463,     0.72652,     0.72816,     0.72799,     0.72837,     0.72992,     0.73133,     0.73119,\n",
              "            0.73274,     0.73367,     0.73395,     0.73525,     0.73556,     0.73693,     0.73938,     0.73978,     0.74237,     0.74363,     0.74475,     0.74542,     0.74571,     0.74678,     0.74825,     0.74811,     0.74862,     0.74982,     0.75079,     0.75327,      0.7539,     0.75434,     0.75423,\n",
              "            0.75445,     0.75624,     0.75642,     0.75741,     0.75854,     0.75921,     0.76005,     0.76101,      0.7618,     0.76209,     0.76237,     0.76289,     0.76264,      0.7639,     0.76383,     0.76412,     0.76442,     0.76501,     0.76677,     0.76738,     0.76874,     0.76876,     0.76914,\n",
              "            0.77098,     0.77148,     0.77196,     0.77189,     0.77426,      0.7746,     0.77446,      0.7761,     0.77729,     0.77777,     0.77917,     0.77976,     0.78024,      0.7812,     0.78165,     0.78268,     0.78388,     0.78451,     0.78439,     0.78428,     0.78418,     0.78483,     0.78458,\n",
              "            0.78472,     0.78513,     0.78528,     0.78578,     0.78694,     0.78647,     0.78777,     0.78943,     0.78965,     0.78987,     0.79017,     0.79087,     0.79147,     0.79178,      0.7926,     0.79435,     0.79479,     0.79682,      0.7975,     0.79826,     0.79946,     0.79935,     0.79927,\n",
              "            0.79905,     0.79973,     0.80018,     0.80132,     0.80101,     0.80123,     0.80156,     0.80238,     0.80272,     0.80297,     0.80323,      0.8059,     0.80795,     0.80857,     0.80865,     0.80883,     0.80901,     0.80919,     0.81182,     0.81222,     0.81241,     0.81233,     0.81226,\n",
              "            0.81278,      0.8129,     0.81321,     0.81361,     0.81453,     0.81526,      0.8166,     0.81662,     0.81722,     0.81717,     0.81704,     0.81687,     0.81693,     0.81723,     0.81753,      0.8181,     0.81829,     0.81843,     0.81893,     0.81898,     0.81957,     0.82031,     0.82091,\n",
              "            0.82149,     0.82188,     0.82249,     0.82306,     0.82349,     0.82378,     0.82408,     0.82567,     0.82595,     0.82623,     0.82644,     0.82618,     0.82761,      0.8275,     0.82778,     0.82836,     0.82893,     0.82896,     0.82991,     0.83054,     0.83094,     0.83131,     0.83295,\n",
              "            0.83415,     0.83466,     0.83505,     0.83715,     0.83754,     0.83793,     0.83816,     0.83855,     0.83857,     0.83847,     0.83836,     0.83901,      0.8403,     0.84059,     0.84089,      0.8435,     0.84341,     0.84356,     0.84396,      0.8446,     0.84511,     0.84539,     0.84567,\n",
              "            0.84649,     0.84671,     0.84694,     0.84717,     0.84725,     0.84718,     0.84719,     0.84813,     0.84849,     0.84886,      0.8488,     0.84979,     0.85015,     0.85052,     0.85111,     0.85092,     0.85081,     0.85066,     0.85115,     0.85168,     0.85205,     0.85242,     0.85294,\n",
              "            0.85347,       0.854,     0.85415,     0.85484,     0.85568,     0.85571,     0.85598,     0.85625,     0.85651,     0.85703,     0.85751,     0.85781,      0.8581,      0.8593,     0.85948,     0.85966,     0.85984,     0.86002,      0.8602,      0.8611,     0.86106,     0.86098,     0.86091,\n",
              "            0.86085,     0.86128,     0.86187,     0.86268,     0.86277,     0.86332,      0.8633,     0.86325,     0.86414,     0.86522,     0.86578,     0.86596,     0.86588,     0.86582,     0.86577,     0.86575,     0.86648,     0.86731,     0.86728,     0.86724,     0.86721,     0.86718,     0.86714,\n",
              "             0.8671,     0.86706,     0.86715,     0.86743,     0.86771,     0.86799,     0.86791,     0.86787,     0.86843,     0.86875,     0.86914,      0.8701,     0.87289,     0.87303,     0.87301,     0.87298,     0.87295,     0.87293,      0.8727,     0.87254,     0.87261,     0.87282,     0.87304,\n",
              "            0.87325,     0.87346,     0.87342,     0.87338,     0.87334,     0.87474,     0.87687,     0.87788,     0.87842,     0.87869,     0.87896,     0.87923,     0.87981,     0.88051,     0.88153,     0.88221,     0.88218,     0.88215,     0.88212,      0.8821,     0.88199,     0.88179,     0.88176,\n",
              "            0.88172,     0.88168,     0.88167,     0.88165,     0.88164,     0.88162,     0.88161,      0.8816,     0.88158,     0.88157,     0.88155,     0.88144,      0.8813,     0.88171,     0.88223,     0.88248,      0.8827,     0.88291,     0.88313,     0.88329,     0.88327,     0.88325,     0.88323,\n",
              "            0.88321,     0.88319,     0.88317,     0.88307,       0.883,     0.88295,      0.8829,     0.88279,     0.88371,     0.88558,     0.88593,     0.88628,     0.88666,     0.88718,     0.88763,     0.88778,     0.88793,     0.88808,     0.88824,     0.88839,     0.88854,     0.88916,     0.88963,\n",
              "            0.88959,     0.88955,     0.88949,     0.88942,     0.89022,     0.89034,     0.89075,     0.89128,     0.89159,     0.89185,     0.89212,     0.89239,     0.89248,     0.89269,     0.89291,     0.89312,     0.89446,      0.8954,     0.89528,     0.89526,     0.89523,     0.89521,     0.89518,\n",
              "            0.89498,     0.89489,     0.89483,     0.89579,     0.89574,     0.89596,     0.89618,      0.8964,     0.89661,     0.89663,     0.89657,     0.89739,     0.89779,     0.89815,     0.89852,     0.89952,     0.89962,      0.8996,     0.89957,     0.89955,     0.89953,     0.89989,     0.90026,\n",
              "            0.90059,     0.90035,     0.90039,     0.90131,     0.90125,     0.90118,     0.90117,     0.90154,     0.90192,     0.90202,      0.9019,     0.90202,     0.90258,     0.90337,     0.90508,     0.90502,     0.90498,     0.90494,      0.9049,     0.90485,     0.90479,      0.9051,     0.90567,\n",
              "             0.9066,     0.90695,     0.90691,     0.90687,     0.90793,     0.90787,     0.90777,     0.90882,     0.90876,     0.90865,     0.90967,     0.91029,     0.91087,      0.9118,     0.91218,     0.91257,     0.91286,     0.91345,     0.91409,     0.91509,     0.91519,     0.91613,     0.91744,\n",
              "            0.91841,     0.91871,       0.919,      0.9193,     0.91946,     0.91939,     0.91937,     0.91935,     0.91933,      0.9193,     0.91986,     0.92105,     0.92193,     0.92253,     0.92276,     0.92271,     0.92262,     0.92252,     0.92247,     0.92245,     0.92242,      0.9224,     0.92276,\n",
              "            0.92336,     0.92344,     0.92341,     0.92338,     0.92563,     0.92735,     0.92977,      0.9304,     0.93037,     0.93034,     0.93046,      0.9307,     0.93095,      0.9312,     0.93144,     0.93137,     0.93128,      0.9311,     0.93183,     0.93308,     0.93424,     0.93443,     0.93439,\n",
              "            0.93434,      0.9343,     0.93422,     0.93408,     0.93404,     0.93386,     0.93383,     0.93379,      0.9345,     0.93487,     0.93464,     0.93459,     0.93455,      0.9345,     0.93542,     0.93542,     0.93533,     0.93524,     0.93628,     0.93646,     0.93642,     0.93763,     0.93748,\n",
              "            0.93744,     0.93737,      0.9372,     0.93694,     0.93726,     0.93792,     0.93813,     0.93799,     0.93795,     0.93789,     0.93812,     0.93895,     0.93888,     0.93883,     0.93879,     0.93875,     0.93869,     0.93861,     0.93855,     0.93978,     0.93978,     0.94043,     0.94109,\n",
              "            0.94101,     0.94097,     0.94092,     0.94074,     0.94046,     0.94041,     0.94039,     0.94037,     0.94035,     0.94024,     0.94021,     0.94019,     0.94032,     0.94078,     0.94124,     0.94148,     0.94135,     0.94265,     0.94245,      0.9422,     0.94211,     0.94207,     0.94201,\n",
              "            0.94237,     0.94307,     0.94329,     0.94324,     0.94317,     0.94301,     0.94348,     0.94395,     0.94417,     0.94402,     0.94396,      0.9438,     0.94397,     0.94417,     0.94438,     0.94458,     0.94479,     0.94499,     0.94528,     0.94658,      0.9465,     0.94646,     0.94635,\n",
              "            0.94731,     0.94755,     0.94795,     0.94853,     0.95037,     0.95035,     0.95033,      0.9503,     0.95016,     0.95154,     0.95183,     0.95257,     0.95367,     0.95438,     0.95427,     0.95419,     0.95405,     0.95394,     0.95387,     0.95358,     0.95353,     0.95347,     0.95489,\n",
              "            0.95484,     0.95744,     0.95769,     0.95759,     0.95897,     0.95893,     0.95887,     0.96034,     0.96031,     0.96028,     0.96013,     0.96006,     0.96002,     0.95998,     0.95995,     0.96145,     0.96135,      0.9613,     0.96106,     0.96102,     0.96099,     0.96128,     0.96235,\n",
              "            0.96243,     0.96236,     0.96391,     0.96579,     0.96688,     0.96683,     0.96675,     0.96756,     0.96831,     0.96817,     0.96814,     0.96794,     0.97113,      0.9711,     0.97097,     0.97088,     0.97083,     0.97063,      0.9706,     0.97046,     0.97016,     0.97013,     0.97009,\n",
              "            0.96995,     0.96991,     0.97148,     0.97141,      0.9713,     0.97249,     0.97286,     0.97284,     0.97271,     0.97252,     0.97249,      0.9742,     0.97387,     0.97384,     0.97371,     0.97551,     0.97548,     0.97535,     0.97671,     0.97666,     0.97652,     0.97638,     0.97715,\n",
              "            0.97813,     0.97801,     0.97784,     0.97759,     0.97756,     0.97744,     0.97727,     0.97725,     0.97724,     0.97722,     0.97693,      0.9769,     0.97672,     0.97658,     0.97651,     0.97638,     0.97685,     0.97829,     0.97812,     0.97788,     0.97756,     0.97722,     0.97714,\n",
              "            0.97687,     0.97667,     0.98095,     0.98092,     0.98069,     0.98278,     0.98254,     0.98251,     0.98478,     0.98719,     0.98957,     0.98953,     0.98934,     0.98914,     0.98909,     0.98891,     0.98889,     0.98881,     0.98868,     0.98846,     0.99112,     0.99091,     0.99089,\n",
              "             0.9907,     0.99067,     0.99053,     0.99041,     0.99039,     0.99007,     0.98995,     0.98971,     0.98931,     0.98896,     0.98893,      0.9886,     0.98821,     0.98788,     0.98747,     0.98727,     0.98695,      0.9866,      0.9863,     0.98625,     0.98587,     0.98553,     0.98511,\n",
              "            0.98452,     0.98402,     0.98881,     0.98849,     0.98845,     0.98818,     0.98774,     0.98735,     0.98667,     0.98624,     0.98587,     0.98535,     0.98502,     0.98467,     0.98418,     0.98344,     0.98281,     0.98212,     0.98159,     0.98092,     0.98054,      0.9799,     0.97911,\n",
              "            0.97859,      0.9777,     0.97637,     0.97519,     0.97245,     0.97206,     0.98497,      0.9845,       0.984,     0.98351,     0.98331,     0.98244,     0.98228,     0.98206,     0.98033,     0.97995,     0.97967,     0.97885,     0.97861,     0.97845,     0.97829,           1,           1,\n",
              "                  1,           1,           1,           1,           1,           1,           1,           1,           1,           1,           1,           1,           1,           1,           1,           1,           1,           1,           1,           1,           1,           1,           1,\n",
              "                  1,           1,           1,           1,           1,           1,           1,           1,           1,           1,           1,           1,           1,           1,           1,           1,           1,           1,           1,           1,           1,           1,           1,\n",
              "                  1,           1,           1,           1,           1,           1,           1,           1,           1,           1,           1,           1,           1,           1,           1,           1,           1,           1,           1,           1,           1,           1,           1,\n",
              "                  1,           1,           1,           1,           1,           1,           1,           1,           1,           1,           1,           1,           1,           1,           1,           1,           1,           1,           1,           1,           1,           1,           1,\n",
              "                  1,           1,           1,           1,           1,           1,           1,           1,           1,           1,           1,           1,           1,           1,           1,           1,           1,           1,           1,           1,           1,           1,           1,\n",
              "                  1,           1,           1,           1,           1,           1,           1,           1,           1,           1,           1]]), 'Confidence', 'Precision'], [array([          0,    0.001001,    0.002002,    0.003003,    0.004004,    0.005005,    0.006006,    0.007007,    0.008008,    0.009009,     0.01001,    0.011011,    0.012012,    0.013013,    0.014014,    0.015015,    0.016016,    0.017017,    0.018018,    0.019019,     0.02002,    0.021021,    0.022022,    0.023023,\n",
              "          0.024024,    0.025025,    0.026026,    0.027027,    0.028028,    0.029029,     0.03003,    0.031031,    0.032032,    0.033033,    0.034034,    0.035035,    0.036036,    0.037037,    0.038038,    0.039039,     0.04004,    0.041041,    0.042042,    0.043043,    0.044044,    0.045045,    0.046046,    0.047047,\n",
              "          0.048048,    0.049049,     0.05005,    0.051051,    0.052052,    0.053053,    0.054054,    0.055055,    0.056056,    0.057057,    0.058058,    0.059059,     0.06006,    0.061061,    0.062062,    0.063063,    0.064064,    0.065065,    0.066066,    0.067067,    0.068068,    0.069069,     0.07007,    0.071071,\n",
              "          0.072072,    0.073073,    0.074074,    0.075075,    0.076076,    0.077077,    0.078078,    0.079079,     0.08008,    0.081081,    0.082082,    0.083083,    0.084084,    0.085085,    0.086086,    0.087087,    0.088088,    0.089089,     0.09009,    0.091091,    0.092092,    0.093093,    0.094094,    0.095095,\n",
              "          0.096096,    0.097097,    0.098098,    0.099099,      0.1001,      0.1011,      0.1021,      0.1031,      0.1041,     0.10511,     0.10611,     0.10711,     0.10811,     0.10911,     0.11011,     0.11111,     0.11211,     0.11311,     0.11411,     0.11512,     0.11612,     0.11712,     0.11812,     0.11912,\n",
              "           0.12012,     0.12112,     0.12212,     0.12312,     0.12412,     0.12513,     0.12613,     0.12713,     0.12813,     0.12913,     0.13013,     0.13113,     0.13213,     0.13313,     0.13413,     0.13514,     0.13614,     0.13714,     0.13814,     0.13914,     0.14014,     0.14114,     0.14214,     0.14314,\n",
              "           0.14414,     0.14515,     0.14615,     0.14715,     0.14815,     0.14915,     0.15015,     0.15115,     0.15215,     0.15315,     0.15415,     0.15516,     0.15616,     0.15716,     0.15816,     0.15916,     0.16016,     0.16116,     0.16216,     0.16316,     0.16416,     0.16517,     0.16617,     0.16717,\n",
              "           0.16817,     0.16917,     0.17017,     0.17117,     0.17217,     0.17317,     0.17417,     0.17518,     0.17618,     0.17718,     0.17818,     0.17918,     0.18018,     0.18118,     0.18218,     0.18318,     0.18418,     0.18519,     0.18619,     0.18719,     0.18819,     0.18919,     0.19019,     0.19119,\n",
              "           0.19219,     0.19319,     0.19419,      0.1952,      0.1962,      0.1972,      0.1982,      0.1992,      0.2002,      0.2012,      0.2022,      0.2032,      0.2042,     0.20521,     0.20621,     0.20721,     0.20821,     0.20921,     0.21021,     0.21121,     0.21221,     0.21321,     0.21421,     0.21522,\n",
              "           0.21622,     0.21722,     0.21822,     0.21922,     0.22022,     0.22122,     0.22222,     0.22322,     0.22422,     0.22523,     0.22623,     0.22723,     0.22823,     0.22923,     0.23023,     0.23123,     0.23223,     0.23323,     0.23423,     0.23524,     0.23624,     0.23724,     0.23824,     0.23924,\n",
              "           0.24024,     0.24124,     0.24224,     0.24324,     0.24424,     0.24525,     0.24625,     0.24725,     0.24825,     0.24925,     0.25025,     0.25125,     0.25225,     0.25325,     0.25425,     0.25526,     0.25626,     0.25726,     0.25826,     0.25926,     0.26026,     0.26126,     0.26226,     0.26326,\n",
              "           0.26426,     0.26527,     0.26627,     0.26727,     0.26827,     0.26927,     0.27027,     0.27127,     0.27227,     0.27327,     0.27427,     0.27528,     0.27628,     0.27728,     0.27828,     0.27928,     0.28028,     0.28128,     0.28228,     0.28328,     0.28428,     0.28529,     0.28629,     0.28729,\n",
              "           0.28829,     0.28929,     0.29029,     0.29129,     0.29229,     0.29329,     0.29429,      0.2953,      0.2963,      0.2973,      0.2983,      0.2993,      0.3003,      0.3013,      0.3023,      0.3033,      0.3043,     0.30531,     0.30631,     0.30731,     0.30831,     0.30931,     0.31031,     0.31131,\n",
              "           0.31231,     0.31331,     0.31431,     0.31532,     0.31632,     0.31732,     0.31832,     0.31932,     0.32032,     0.32132,     0.32232,     0.32332,     0.32432,     0.32533,     0.32633,     0.32733,     0.32833,     0.32933,     0.33033,     0.33133,     0.33233,     0.33333,     0.33433,     0.33534,\n",
              "           0.33634,     0.33734,     0.33834,     0.33934,     0.34034,     0.34134,     0.34234,     0.34334,     0.34434,     0.34535,     0.34635,     0.34735,     0.34835,     0.34935,     0.35035,     0.35135,     0.35235,     0.35335,     0.35435,     0.35536,     0.35636,     0.35736,     0.35836,     0.35936,\n",
              "           0.36036,     0.36136,     0.36236,     0.36336,     0.36436,     0.36537,     0.36637,     0.36737,     0.36837,     0.36937,     0.37037,     0.37137,     0.37237,     0.37337,     0.37437,     0.37538,     0.37638,     0.37738,     0.37838,     0.37938,     0.38038,     0.38138,     0.38238,     0.38338,\n",
              "           0.38438,     0.38539,     0.38639,     0.38739,     0.38839,     0.38939,     0.39039,     0.39139,     0.39239,     0.39339,     0.39439,      0.3954,      0.3964,      0.3974,      0.3984,      0.3994,      0.4004,      0.4014,      0.4024,      0.4034,      0.4044,     0.40541,     0.40641,     0.40741,\n",
              "           0.40841,     0.40941,     0.41041,     0.41141,     0.41241,     0.41341,     0.41441,     0.41542,     0.41642,     0.41742,     0.41842,     0.41942,     0.42042,     0.42142,     0.42242,     0.42342,     0.42442,     0.42543,     0.42643,     0.42743,     0.42843,     0.42943,     0.43043,     0.43143,\n",
              "           0.43243,     0.43343,     0.43443,     0.43544,     0.43644,     0.43744,     0.43844,     0.43944,     0.44044,     0.44144,     0.44244,     0.44344,     0.44444,     0.44545,     0.44645,     0.44745,     0.44845,     0.44945,     0.45045,     0.45145,     0.45245,     0.45345,     0.45445,     0.45546,\n",
              "           0.45646,     0.45746,     0.45846,     0.45946,     0.46046,     0.46146,     0.46246,     0.46346,     0.46446,     0.46547,     0.46647,     0.46747,     0.46847,     0.46947,     0.47047,     0.47147,     0.47247,     0.47347,     0.47447,     0.47548,     0.47648,     0.47748,     0.47848,     0.47948,\n",
              "           0.48048,     0.48148,     0.48248,     0.48348,     0.48448,     0.48549,     0.48649,     0.48749,     0.48849,     0.48949,     0.49049,     0.49149,     0.49249,     0.49349,     0.49449,      0.4955,      0.4965,      0.4975,      0.4985,      0.4995,      0.5005,      0.5015,      0.5025,      0.5035,\n",
              "            0.5045,     0.50551,     0.50651,     0.50751,     0.50851,     0.50951,     0.51051,     0.51151,     0.51251,     0.51351,     0.51451,     0.51552,     0.51652,     0.51752,     0.51852,     0.51952,     0.52052,     0.52152,     0.52252,     0.52352,     0.52452,     0.52553,     0.52653,     0.52753,\n",
              "           0.52853,     0.52953,     0.53053,     0.53153,     0.53253,     0.53353,     0.53453,     0.53554,     0.53654,     0.53754,     0.53854,     0.53954,     0.54054,     0.54154,     0.54254,     0.54354,     0.54454,     0.54555,     0.54655,     0.54755,     0.54855,     0.54955,     0.55055,     0.55155,\n",
              "           0.55255,     0.55355,     0.55455,     0.55556,     0.55656,     0.55756,     0.55856,     0.55956,     0.56056,     0.56156,     0.56256,     0.56356,     0.56456,     0.56557,     0.56657,     0.56757,     0.56857,     0.56957,     0.57057,     0.57157,     0.57257,     0.57357,     0.57457,     0.57558,\n",
              "           0.57658,     0.57758,     0.57858,     0.57958,     0.58058,     0.58158,     0.58258,     0.58358,     0.58458,     0.58559,     0.58659,     0.58759,     0.58859,     0.58959,     0.59059,     0.59159,     0.59259,     0.59359,     0.59459,      0.5956,      0.5966,      0.5976,      0.5986,      0.5996,\n",
              "            0.6006,      0.6016,      0.6026,      0.6036,      0.6046,     0.60561,     0.60661,     0.60761,     0.60861,     0.60961,     0.61061,     0.61161,     0.61261,     0.61361,     0.61461,     0.61562,     0.61662,     0.61762,     0.61862,     0.61962,     0.62062,     0.62162,     0.62262,     0.62362,\n",
              "           0.62462,     0.62563,     0.62663,     0.62763,     0.62863,     0.62963,     0.63063,     0.63163,     0.63263,     0.63363,     0.63463,     0.63564,     0.63664,     0.63764,     0.63864,     0.63964,     0.64064,     0.64164,     0.64264,     0.64364,     0.64464,     0.64565,     0.64665,     0.64765,\n",
              "           0.64865,     0.64965,     0.65065,     0.65165,     0.65265,     0.65365,     0.65465,     0.65566,     0.65666,     0.65766,     0.65866,     0.65966,     0.66066,     0.66166,     0.66266,     0.66366,     0.66466,     0.66567,     0.66667,     0.66767,     0.66867,     0.66967,     0.67067,     0.67167,\n",
              "           0.67267,     0.67367,     0.67467,     0.67568,     0.67668,     0.67768,     0.67868,     0.67968,     0.68068,     0.68168,     0.68268,     0.68368,     0.68468,     0.68569,     0.68669,     0.68769,     0.68869,     0.68969,     0.69069,     0.69169,     0.69269,     0.69369,     0.69469,      0.6957,\n",
              "            0.6967,      0.6977,      0.6987,      0.6997,      0.7007,      0.7017,      0.7027,      0.7037,      0.7047,     0.70571,     0.70671,     0.70771,     0.70871,     0.70971,     0.71071,     0.71171,     0.71271,     0.71371,     0.71471,     0.71572,     0.71672,     0.71772,     0.71872,     0.71972,\n",
              "           0.72072,     0.72172,     0.72272,     0.72372,     0.72472,     0.72573,     0.72673,     0.72773,     0.72873,     0.72973,     0.73073,     0.73173,     0.73273,     0.73373,     0.73473,     0.73574,     0.73674,     0.73774,     0.73874,     0.73974,     0.74074,     0.74174,     0.74274,     0.74374,\n",
              "           0.74474,     0.74575,     0.74675,     0.74775,     0.74875,     0.74975,     0.75075,     0.75175,     0.75275,     0.75375,     0.75475,     0.75576,     0.75676,     0.75776,     0.75876,     0.75976,     0.76076,     0.76176,     0.76276,     0.76376,     0.76476,     0.76577,     0.76677,     0.76777,\n",
              "           0.76877,     0.76977,     0.77077,     0.77177,     0.77277,     0.77377,     0.77477,     0.77578,     0.77678,     0.77778,     0.77878,     0.77978,     0.78078,     0.78178,     0.78278,     0.78378,     0.78478,     0.78579,     0.78679,     0.78779,     0.78879,     0.78979,     0.79079,     0.79179,\n",
              "           0.79279,     0.79379,     0.79479,      0.7958,      0.7968,      0.7978,      0.7988,      0.7998,      0.8008,      0.8018,      0.8028,      0.8038,      0.8048,     0.80581,     0.80681,     0.80781,     0.80881,     0.80981,     0.81081,     0.81181,     0.81281,     0.81381,     0.81481,     0.81582,\n",
              "           0.81682,     0.81782,     0.81882,     0.81982,     0.82082,     0.82182,     0.82282,     0.82382,     0.82482,     0.82583,     0.82683,     0.82783,     0.82883,     0.82983,     0.83083,     0.83183,     0.83283,     0.83383,     0.83483,     0.83584,     0.83684,     0.83784,     0.83884,     0.83984,\n",
              "           0.84084,     0.84184,     0.84284,     0.84384,     0.84484,     0.84585,     0.84685,     0.84785,     0.84885,     0.84985,     0.85085,     0.85185,     0.85285,     0.85385,     0.85485,     0.85586,     0.85686,     0.85786,     0.85886,     0.85986,     0.86086,     0.86186,     0.86286,     0.86386,\n",
              "           0.86486,     0.86587,     0.86687,     0.86787,     0.86887,     0.86987,     0.87087,     0.87187,     0.87287,     0.87387,     0.87487,     0.87588,     0.87688,     0.87788,     0.87888,     0.87988,     0.88088,     0.88188,     0.88288,     0.88388,     0.88488,     0.88589,     0.88689,     0.88789,\n",
              "           0.88889,     0.88989,     0.89089,     0.89189,     0.89289,     0.89389,     0.89489,      0.8959,      0.8969,      0.8979,      0.8989,      0.8999,      0.9009,      0.9019,      0.9029,      0.9039,      0.9049,     0.90591,     0.90691,     0.90791,     0.90891,     0.90991,     0.91091,     0.91191,\n",
              "           0.91291,     0.91391,     0.91491,     0.91592,     0.91692,     0.91792,     0.91892,     0.91992,     0.92092,     0.92192,     0.92292,     0.92392,     0.92492,     0.92593,     0.92693,     0.92793,     0.92893,     0.92993,     0.93093,     0.93193,     0.93293,     0.93393,     0.93493,     0.93594,\n",
              "           0.93694,     0.93794,     0.93894,     0.93994,     0.94094,     0.94194,     0.94294,     0.94394,     0.94494,     0.94595,     0.94695,     0.94795,     0.94895,     0.94995,     0.95095,     0.95195,     0.95295,     0.95395,     0.95495,     0.95596,     0.95696,     0.95796,     0.95896,     0.95996,\n",
              "           0.96096,     0.96196,     0.96296,     0.96396,     0.96496,     0.96597,     0.96697,     0.96797,     0.96897,     0.96997,     0.97097,     0.97197,     0.97297,     0.97397,     0.97497,     0.97598,     0.97698,     0.97798,     0.97898,     0.97998,     0.98098,     0.98198,     0.98298,     0.98398,\n",
              "           0.98498,     0.98599,     0.98699,     0.98799,     0.98899,     0.98999,     0.99099,     0.99199,     0.99299,     0.99399,     0.99499,       0.996,       0.997,       0.998,       0.999,           1]), array([[    0.94816,     0.94816,     0.94118,     0.93918,     0.93619,      0.9322,     0.92921,     0.92822,     0.92423,     0.92223,     0.91924,     0.91426,     0.91426,     0.91426,     0.91226,     0.91176,     0.91127,     0.90828,     0.90728,     0.90628,     0.90528,     0.90528,     0.90528,\n",
              "            0.90528,     0.90229,     0.90229,     0.90229,     0.90229,      0.9003,      0.9003,     0.89831,     0.89731,     0.89731,      0.8961,     0.89531,     0.89432,     0.89432,     0.89432,     0.89432,     0.89232,     0.89033,     0.88933,     0.88933,     0.88933,     0.88933,     0.88933,\n",
              "            0.88933,     0.88933,     0.88933,     0.88933,     0.88933,     0.88933,     0.88833,     0.88772,     0.88534,     0.88534,     0.88435,     0.88435,     0.88435,     0.88303,     0.88136,     0.88136,     0.88136,     0.88136,     0.88036,     0.87936,     0.87936,     0.87936,     0.87936,\n",
              "            0.87737,     0.87637,     0.87637,     0.87637,     0.87637,     0.87637,     0.87637,     0.87637,     0.87637,     0.87637,     0.87537,     0.87438,     0.87438,     0.87438,     0.87438,     0.87365,     0.87338,     0.87331,     0.87253,     0.87156,     0.87139,     0.87115,     0.87039,\n",
              "            0.87039,     0.86939,     0.86839,     0.86839,     0.86839,     0.86839,     0.86836,      0.8674,      0.8664,      0.8664,      0.8664,      0.8664,     0.86543,      0.8654,      0.8653,     0.86462,     0.86441,     0.86441,     0.86341,     0.86341,     0.86341,     0.86341,     0.86281,\n",
              "            0.86241,     0.86241,     0.86071,     0.86042,     0.86042,     0.86042,     0.86042,     0.86042,     0.86042,     0.86042,     0.86042,     0.85967,     0.85851,     0.85806,     0.85743,     0.85743,     0.85743,     0.85743,     0.85743,     0.85643,     0.85506,     0.85444,     0.85444,\n",
              "            0.85444,     0.85444,     0.85444,     0.85355,     0.85344,     0.85314,     0.85246,     0.85244,     0.85244,     0.85244,     0.85129,     0.85045,     0.85045,     0.85045,     0.85045,     0.85045,     0.84945,     0.84937,     0.84874,     0.84819,     0.84771,     0.84746,     0.84608,\n",
              "            0.84546,     0.84519,     0.84447,     0.84347,     0.84326,     0.84095,     0.84048,     0.84048,     0.84048,     0.84048,     0.84048,     0.84048,     0.84008,     0.83948,     0.83948,     0.83948,     0.83948,     0.83948,     0.83948,     0.83948,     0.83864,     0.83809,     0.83766,\n",
              "            0.83652,     0.83649,     0.83649,      0.8364,     0.83477,      0.8345,      0.8345,      0.8345,      0.8345,      0.8345,      0.8345,      0.8345,      0.8345,     0.83381,      0.8335,      0.8335,      0.8335,      0.8335,      0.8335,      0.8335,     0.83332,     0.83293,     0.83254,\n",
              "            0.83102,     0.83051,     0.83051,     0.83051,     0.83051,     0.83051,     0.83015,     0.82951,     0.82951,     0.82885,     0.82811,     0.82719,     0.82652,     0.82652,     0.82652,     0.82652,      0.8261,     0.82552,     0.82516,     0.82453,     0.82421,     0.82353,     0.82353,\n",
              "            0.82353,     0.82253,     0.82253,     0.82253,     0.82253,     0.82253,     0.82253,     0.82154,     0.82154,     0.82154,     0.82133,     0.81983,     0.81851,     0.81783,     0.81755,     0.81755,     0.81755,     0.81664,     0.81655,     0.81655,     0.81655,     0.81655,     0.81655,\n",
              "            0.81456,     0.81456,     0.81456,     0.81456,     0.81456,     0.81456,     0.81356,     0.81356,     0.81311,     0.81252,     0.81184,     0.81157,     0.81157,     0.81157,     0.81157,     0.81145,     0.81086,     0.81057,     0.81057,     0.81057,     0.80957,     0.80957,     0.80957,\n",
              "            0.80758,     0.80758,     0.80758,     0.80758,     0.80738,     0.80697,     0.80658,     0.80658,     0.80658,     0.80658,     0.80598,     0.80558,     0.80558,     0.80558,     0.80358,      0.8024,     0.80172,     0.80077,      0.8006,      0.8006,      0.8006,      0.8006,      0.8006,\n",
              "             0.8006,      0.8006,     0.79989,      0.7996,     0.79805,     0.79761,     0.79761,     0.79761,     0.79761,     0.79761,     0.79761,     0.79761,     0.79761,     0.79761,     0.79761,     0.79761,     0.79761,     0.79761,     0.79761,     0.79761,     0.79705,     0.79651,      0.7961,\n",
              "            0.79569,     0.79561,     0.79561,     0.79544,     0.79462,     0.79462,     0.79336,     0.79299,     0.79262,     0.79262,     0.79262,     0.79229,     0.79171,      0.7913,     0.79093,     0.78963,     0.78935,     0.78853,      0.7883,     0.78807,     0.78785,     0.78761,     0.78734,\n",
              "            0.78707,      0.7868,     0.78664,     0.78664,     0.78664,     0.78664,     0.78612,     0.78564,     0.78564,     0.78529,     0.78465,     0.78365,     0.78265,     0.78153,     0.78134,     0.78115,     0.78097,     0.78078,     0.77922,     0.77806,     0.77767,     0.77767,     0.77767,\n",
              "            0.77767,     0.77767,      0.7774,     0.77713,     0.77685,     0.77667,     0.77667,     0.77667,     0.77667,     0.77667,     0.77667,     0.77667,     0.77667,     0.77667,     0.77667,      0.7766,     0.77638,     0.77617,     0.77595,     0.77574,     0.77497,     0.77348,     0.77321,\n",
              "            0.77294,     0.77268,     0.77257,     0.77246,     0.77235,     0.77225,     0.77214,     0.77203,     0.77192,     0.77182,     0.77171,     0.77088,     0.76986,     0.76969,     0.76969,     0.76969,     0.76969,     0.76969,     0.76969,     0.76965,      0.7695,     0.76935,      0.7692,\n",
              "            0.76905,      0.7689,     0.76874,     0.76801,     0.76746,     0.76712,     0.76678,     0.76592,     0.76524,     0.76371,     0.76371,     0.76371,     0.76371,     0.76371,     0.76371,     0.76371,     0.76371,     0.76371,     0.76371,     0.76371,     0.76371,     0.76371,     0.76349,\n",
              "            0.76315,     0.76281,     0.76234,     0.76183,     0.76171,     0.76091,     0.76072,     0.76072,     0.76072,     0.76072,     0.76072,     0.76072,     0.75972,     0.75972,     0.75972,     0.75972,     0.75972,     0.75957,     0.75865,     0.75844,     0.75824,     0.75803,     0.75783,\n",
              "            0.75622,     0.75547,     0.75495,     0.75415,     0.75274,     0.75274,     0.75274,     0.75274,     0.75274,     0.75237,     0.75186,     0.75174,     0.75075,     0.75075,     0.75075,     0.75075,     0.75057,     0.75036,     0.75016,     0.74995,     0.74975,     0.74975,     0.74975,\n",
              "            0.74966,     0.74764,     0.74676,     0.74668,     0.74617,     0.74555,     0.74477,     0.74477,     0.74477,     0.74346,     0.74244,     0.74177,     0.74177,     0.74177,     0.74156,     0.74105,     0.74062,     0.74028,     0.73993,      0.7395,     0.73899,     0.73878,     0.73878,\n",
              "            0.73878,     0.73856,     0.73821,     0.73787,     0.73741,      0.7369,     0.73598,     0.73537,     0.73486,     0.73391,      0.7338,      0.7338,      0.7338,     0.73182,      0.7318,      0.7318,     0.73081,     0.73081,     0.73081,     0.73067,     0.72981,     0.72962,     0.72881,\n",
              "            0.72881,     0.72881,     0.72881,     0.72881,     0.72848,     0.72774,     0.72754,     0.72734,     0.72713,     0.72693,     0.72682,     0.72682,     0.72682,     0.72682,     0.72653,     0.72602,     0.72519,     0.72416,     0.72366,      0.7234,     0.72315,     0.72289,     0.72183,\n",
              "            0.72183,     0.72156,     0.72122,     0.72087,     0.72084,     0.71984,     0.71984,     0.71968,     0.71934,       0.719,     0.71884,     0.71884,     0.71884,     0.71884,     0.71884,     0.71716,     0.71614,     0.71412,     0.71186,     0.71186,     0.71087,     0.71045,     0.70994,\n",
              "            0.70943,     0.70892,     0.70794,      0.7064,     0.70589,     0.70388,     0.70347,     0.70306,     0.70289,     0.70128,     0.69858,     0.69807,     0.69756,     0.69705,     0.69691,     0.69316,     0.69213,     0.69111,     0.69093,     0.69058,     0.69017,     0.68952,     0.68772,\n",
              "            0.68721,     0.68645,     0.68443,     0.68142,     0.68096,     0.68096,     0.68034,     0.67864,     0.67813,     0.67751,     0.67697,     0.67474,     0.67385,     0.67333,     0.67282,     0.67231,     0.67162,     0.67073,     0.67005,     0.66999,     0.66903,     0.66899,     0.66898,\n",
              "            0.66798,     0.66746,     0.66691,     0.66477,     0.66138,     0.66085,      0.6606,     0.66034,     0.66008,      0.6588,     0.65851,     0.65822,     0.65803,     0.65803,     0.65803,     0.65761,     0.65615,     0.65603,     0.65305,     0.65003,     0.64903,     0.64852,     0.64787,\n",
              "            0.64706,     0.64706,     0.64673,     0.64622,     0.64535,     0.64207,     0.64207,     0.64207,     0.64076,     0.63886,     0.63817,      0.6362,     0.63609,     0.63609,     0.63609,     0.63609,     0.63609,     0.63609,     0.63609,       0.636,     0.63504,     0.63453,     0.63111,\n",
              "            0.63111,     0.63039,     0.63011,     0.63011,     0.63003,     0.62973,     0.62944,     0.62915,     0.62723,     0.62651,     0.62612,     0.62612,     0.62612,     0.62578,     0.62409,     0.62306,     0.62095,     0.61952,      0.6185,     0.61449,      0.6137,     0.61294,       0.612,\n",
              "            0.61132,     0.61017,     0.60935,     0.60783,     0.60594,     0.60526,     0.60427,     0.60356,       0.603,      0.6026,     0.60018,     0.59917,     0.59849,     0.59791,      0.5974,     0.59678,      0.5951,     0.59442,     0.59051,     0.58993,     0.58952,     0.58923,     0.58923,\n",
              "            0.58739,     0.58637,     0.58585,     0.58325,     0.58325,     0.58129,     0.57977,     0.57926,      0.5789,     0.57623,     0.57554,     0.57187,     0.57019,     0.56951,     0.56684,     0.56509,     0.56406,     0.56014,     0.55946,     0.55678,     0.55112,     0.55044,     0.54976,\n",
              "            0.54708,      0.5464,      0.5434,     0.54204,     0.53938,     0.53938,     0.53611,      0.5356,     0.53299,     0.52932,     0.52863,     0.52696,     0.52029,     0.51961,     0.51694,     0.51626,     0.51557,      0.5129,     0.50176,      0.5006,     0.49759,     0.49457,     0.49153,\n",
              "            0.49054,     0.48786,       0.484,     0.47852,     0.47784,     0.47516,     0.47154,      0.4712,     0.47086,     0.47037,     0.46444,     0.46376,     0.46009,     0.45731,     0.45594,     0.45327,     0.45165,     0.45165,     0.44577,     0.44071,     0.43437,     0.42768,     0.42618,\n",
              "            0.42117,     0.41735,     0.41069,     0.41001,     0.40511,     0.39834,     0.39268,     0.39199,     0.38707,     0.38432,     0.37823,     0.37702,     0.37002,     0.36331,      0.3615,     0.35564,     0.35496,     0.35228,     0.34843,     0.34161,     0.33386,     0.32596,     0.32528,\n",
              "            0.31875,      0.3176,     0.31287,     0.30893,     0.30825,     0.29833,     0.29459,     0.28782,     0.27682,     0.26795,     0.26727,     0.25938,     0.25062,      0.2438,      0.2358,     0.23196,     0.22628,     0.22027,     0.21529,     0.21461,     0.20873,     0.20372,     0.19794,\n",
              "            0.19021,      0.1842,      0.1762,     0.17129,     0.17061,     0.16665,     0.16065,     0.15564,     0.14764,     0.14294,     0.13911,      0.1341,     0.13109,     0.12807,     0.12406,     0.11845,     0.11404,     0.10953,     0.10634,      0.1025,     0.10048,    0.097216,    0.093448,\n",
              "           0.091134,    0.087416,    0.082406,    0.078393,    0.070392,     0.06937,    0.065357,    0.063339,     0.06132,    0.059474,    0.058731,    0.055797,    0.055286,    0.054593,    0.049704,    0.048739,    0.048058,     0.04614,    0.045614,    0.045274,    0.044933,    0.041554,    0.040532,\n",
              "           0.039633,    0.038952,    0.037964,    0.034948,    0.034249,      0.0337,    0.033291,    0.032883,    0.032474,    0.032065,    0.030664,     0.02948,    0.028742,    0.027785,    0.027104,    0.026706,    0.026414,    0.026122,     0.02528,    0.023697,    0.023016,    0.022036,    0.020095,\n",
              "           0.018051,    0.016707,    0.016451,    0.016196,    0.015928,    0.015417,    0.014858,    0.013877,    0.013195,     0.01229,    0.011268,   0.0099289,   0.0098705,   0.0098121,   0.0097537,   0.0096953,   0.0096369,   0.0095785,   0.0095201,   0.0094617,   0.0094033,   0.0093449,   0.0092865,\n",
              "          0.0092281,   0.0091697,   0.0091113,   0.0090529,   0.0089946,   0.0089252,   0.0088495,   0.0087738,   0.0086981,   0.0086224,   0.0085467,    0.008471,   0.0083953,   0.0083196,   0.0082439,   0.0081682,   0.0080925,   0.0080168,    0.007032,   0.0059836,   0.0053017,   0.0039396,   0.0029727,\n",
              "          0.0027172,   0.0024617,   0.0022062,   0.0019882,   0.0019542,   0.0019201,   0.0018861,    0.001852,   0.0018179,   0.0017839,   0.0017498,   0.0017157,   0.0016817,   0.0016476,   0.0016135,   0.0015795,   0.0015454,   0.0015113,   0.0014773,   0.0014432,   0.0014091,   0.0013751,    0.001341,\n",
              "          0.0013069,   0.0012729,   0.0012388,   0.0012047,   0.0011707,   0.0011366,   0.0011025,   0.0010685,   0.0010344,   0.0010004,           0,           0,           0,           0,           0,           0,           0,           0,           0,           0,           0,           0,           0,\n",
              "                  0,           0,           0,           0,           0,           0,           0,           0,           0,           0,           0]]), 'Confidence', 'Recall']]\n",
              "fitness: np.float64(0.5457917903618174)\n",
              "keys: ['metrics/precision(B)', 'metrics/recall(B)', 'metrics/mAP50(B)', 'metrics/mAP50-95(B)']\n",
              "maps: array([    0.50884])\n",
              "names: {0: 'hand'}\n",
              "plot: True\n",
              "results_dict: {'metrics/precision(B)': np.float64(0.8559768579922251), 'metrics/recall(B)': np.float64(0.7976071784646062), 'metrics/mAP50(B)': np.float64(0.8783134375963153), 'metrics/mAP50-95(B)': np.float64(0.5088449406690954), 'fitness': np.float64(0.5457917903618174)}\n",
              "save_dir: PosixPath('runs/detect/train7')\n",
              "speed: {'preprocess': 0.12977985294199637, 'inference': 10.460151460785138, 'loss': 0.0002717823525588256, 'postprocess': 0.7962363000004581}\n",
              "task: 'detect'"
            ]
          },
          "metadata": {},
          "execution_count": 48
        }
      ]
    },
    {
      "cell_type": "code",
      "source": [
        "import matplotlib.pyplot as plt\n",
        "import numpy as np\n",
        "\n",
        "# Assuming you already have the DetMetrics object from your training\n",
        "metrics = model.metrics  # Replace with the actual object from your training\n",
        "\n",
        "# Extract the relevant curve data\n",
        "curves = metrics.curves\n",
        "curves_results = metrics.curves_results\n",
        "\n",
        "# Define the curve names you want to plot\n",
        "curve_names = ['Precision-Recall(B)', 'F1-Confidence(B)', 'Precision-Confidence(B)', 'Recall-Confidence(B)']\n",
        "\n",
        "# Plot each curve\n",
        "plt.figure(figsize=(14, 10))\n",
        "\n",
        "for i, curve in enumerate(curve_names):\n",
        "    if curve in curves:\n",
        "        plt.subplot(2, 2, i+1)  # Create a 2x2 grid for the plots\n",
        "\n",
        "        # Ensure that the y-values are flattened correctly\n",
        "        x_values = curves_results[i][0]\n",
        "        y_values = curves_results[i][1].flatten()  # Flatten y-values to 1D\n",
        "\n",
        "        # Check if both x and y values have the same length\n",
        "        if len(x_values) == len(y_values):\n",
        "            plt.plot(x_values, y_values, label=curve)\n",
        "            plt.xlabel('Confidence Threshold')\n",
        "            plt.ylabel('Score')\n",
        "            plt.title(curve)\n",
        "            plt.legend()\n",
        "        else:\n",
        "            print(f\"Error: x and y dimensions do not match for curve '{curve}'\")\n",
        "\n",
        "# Adjust layout and show the plots\n",
        "plt.tight_layout()\n",
        "plt.show()"
      ],
      "metadata": {
        "colab": {
          "base_uri": "https://localhost:8080/",
          "height": 614
        },
        "id": "7rF70X705Rn0",
        "outputId": "c434b124-8137-4552-c893-de032d784b8b"
      },
      "execution_count": 39,
      "outputs": [
        {
          "output_type": "display_data",
          "data": {
            "text/plain": [
              "<Figure size 1400x1000 with 4 Axes>"
            ],
            "image/png": "[encoded data removed]"
          },
          "metadata": {}
        }
      ]
    },
    {
      "cell_type": "code",
      "source": [
        "model.save(\"/content/drive/MyDrive/mini project 3/saved_model.pt\")"
      ],
      "metadata": {
        "id": "0szBT6m87L9t"
      },
      "execution_count": 42,
      "outputs": []
    },
    {
      "cell_type": "code",
      "source": [
        "import matplotlib.pyplot as plt\n",
        "\n",
        "# Get the curves from the model's metrics\n",
        "curves = model.metrics.curves\n",
        "curves_results = model.metrics.curves_results\n",
        "\n",
        "# Define the curve names you want to plot\n",
        "curve_names = ['Precision-Recall(B)', 'F1-Confidence(B)', 'Precision-Confidence(B)', 'Recall-Confidence(B)']\n",
        "\n",
        "# Plot the curves\n",
        "plt.figure(figsize=(14, 10))\n",
        "\n",
        "for i, curve_name in enumerate(curve_names):\n",
        "    if curve_name in curves:\n",
        "        plt.subplot(2, 2, i + 1)  # Create a 2x2 grid for the plots\n",
        "\n",
        "        # Extract the corresponding curve data (x and y values)\n",
        "        x_values = curves_results[i][0]  # X-axis (confidence thresholds)\n",
        "        y_values = curves_results[i][1].flatten()  # Y-axis (scores), flattening to ensure it's 1D\n",
        "\n",
        "        # Check if both x and y values have the same length\n",
        "        if len(x_values) == len(y_values):\n",
        "            plt.plot(x_values, y_values, label=curve_name)\n",
        "            plt.xlabel('Confidence Threshold')\n",
        "            plt.ylabel('Score')\n",
        "            plt.title(curve_name)\n",
        "            plt.legend()\n",
        "        else:\n",
        "            print(f\"Error: x and y dimensions do not match for curve '{curve_name}'\")\n",
        "\n",
        "# Adjust layout and show the plots\n",
        "plt.tight_layout()\n",
        "plt.show()"
      ],
      "metadata": {
        "colab": {
          "base_uri": "https://localhost:8080/",
          "height": 614
        },
        "id": "HsTtxyCe8djD",
        "outputId": "f2f5b75a-3089-426d-b0dc-4d97d3e57678"
      },
      "execution_count": 47,
      "outputs": [
        {
          "output_type": "display_data",
          "data": {
            "text/plain": [
              "<Figure size 1400x1000 with 4 Axes>"
            ],
            "image/png": "[encoded data removed]"
          },
          "metadata": {}
        }
      ]
    }
  ]
}